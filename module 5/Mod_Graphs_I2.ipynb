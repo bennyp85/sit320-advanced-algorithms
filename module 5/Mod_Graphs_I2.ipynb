{
 "cells": [
  {
   "cell_type": "markdown",
   "id": "acoustic-peripheral",
   "metadata": {},
   "source": [
    "# Lab 5: Graphs I"
   ]
  },
  {
   "cell_type": "markdown",
   "id": "global-indonesian",
   "metadata": {},
   "source": [
    "Lab associated with Module 5: Graphs I"
   ]
  },
  {
   "cell_type": "markdown",
   "id": "sitting-gamma",
   "metadata": {},
   "source": [
    "***"
   ]
  },
  {
   "cell_type": "code",
   "execution_count": null,
   "id": "collective-mexico",
   "metadata": {},
   "outputs": [],
   "source": [
    "# The following lines are used to increase the width of cells to utilize more space on the screen \n",
    "from IPython.core.display import display, HTML\n",
    "display(HTML(\"<style>.container { width:95% !important; }</style>\"))"
   ]
  },
  {
   "cell_type": "markdown",
   "id": "ready-swing",
   "metadata": {},
   "source": [
    "***"
   ]
  },
  {
   "cell_type": "markdown",
   "id": "present-property",
   "metadata": {},
   "source": [
    "### Section 0: Imports"
   ]
  },
  {
   "cell_type": "code",
   "execution_count": null,
   "id": "indoor-liabilities",
   "metadata": {},
   "outputs": [],
   "source": [
    "import numpy as np"
   ]
  },
  {
   "cell_type": "code",
   "execution_count": null,
   "id": "composed-seventh",
   "metadata": {},
   "outputs": [],
   "source": [
    "from IPython.display import Image\n",
    "from graphviz import Digraph"
   ]
  },
  {
   "cell_type": "markdown",
   "id": "certified-statistics",
   "metadata": {},
   "source": [
    "Details of Digraph package: https://h1ros.github.io/posts/introduction-to-graphviz-in-jupyter-notebook/"
   ]
  },
  {
   "cell_type": "markdown",
   "id": "finnish-newark",
   "metadata": {},
   "source": [
    "***"
   ]
  },
  {
   "cell_type": "markdown",
   "id": "italic-concentration",
   "metadata": {},
   "source": [
    "### Section 1: Coming up with a way to visualize the graph data and encode data in the graph"
   ]
  },
  {
   "cell_type": "markdown",
   "id": "rotary-medicare",
   "metadata": {},
   "source": [
    "Let us come up with some example to work on"
   ]
  },
  {
   "cell_type": "code",
   "execution_count": null,
   "id": "selected-message",
   "metadata": {},
   "outputs": [],
   "source": [
    "dot = Digraph()\n",
    "\n",
    "dot.edge('Melbourne', 'Sydney')\n",
    "dot.edge('Melbourne', 'Brisbane')\n",
    "dot.edge('Sydney', 'Perth')\n",
    "dot.edge('Sydney', 'Cairns')\n",
    "dot.edge('Brisbane', 'Darwin')\n",
    "dot.edge('Brisbane', 'GoldCoast')\n",
    "dot.edge('Darwin', 'Perth')\n",
    "dot.edge('Darwin', 'PortDouglas')\n",
    "\n",
    "#dot.view()\n",
    "dot"
   ]
  },
  {
   "cell_type": "markdown",
   "id": "included-serial",
   "metadata": {},
   "source": [
    "This is pretty cool display, but we need to encode this information in a graph, let us try to do that in the following:"
   ]
  },
  {
   "cell_type": "code",
   "execution_count": null,
   "id": "illegal-accommodation",
   "metadata": {},
   "outputs": [],
   "source": [
    "class Node:\n",
    "    \n",
    "    def __init__(self, v):\n",
    "\n",
    "        self.value = v\n",
    "        self.inNeighbors = []\n",
    "        self.outNeighbors = []\n",
    "        self.status = \"unvisited\"\n",
    "        \n",
    "    def hasOutNeighbor(self, v):\n",
    "        \n",
    "        return v in self.outNeighbors\n",
    "        \n",
    "    def hasInNeighbor(self, v):\n",
    "        return v in self.inNeighbors\n",
    "    \n",
    "    def hasNeighbor(self, v):\n",
    "        return v in self.inNeighbors or v in self.outNeighbors\n",
    "    \n",
    "    def getOutNeighbors(self):\n",
    "        return self.outNeighbors\n",
    "    \n",
    "    def getInNeighbors(self):\n",
    "        return self.inNeighbors\n",
    "        \n",
    "    def addOutNeighbor(self, v):\n",
    "        self.outNeighbors.append(v)\n",
    "    \n",
    "    def addInNeighbor(self, v):\n",
    "        self.inNeighbors.append(v)\n",
    "    \n",
    "    def __str__(self):\n",
    "        return str(self.value) "
   ]
  },
  {
   "cell_type": "code",
   "execution_count": null,
   "id": "amateur-inventory",
   "metadata": {},
   "outputs": [],
   "source": [
    "class Graph:\n",
    "    \n",
    "    def __init__(self):\n",
    "        \n",
    "        self.vertices = []\n",
    "\n",
    "    def addVertex(self,n):\n",
    "        \n",
    "        self.vertices.append(n)\n",
    "        \n",
    "    def addDiEdge(self, u, v):\n",
    "        \n",
    "        u.addOutNeighbor(v)\n",
    "        v.addInNeighbor(u)\n",
    "        \n",
    "    # add edges in both directions between u and v\n",
    "    def addBiEdge(self, u, v):\n",
    "        \n",
    "        self.addDiEdge(u, v)\n",
    "        self.addDiEdge(v, u)\n",
    "        \n",
    "    # get a list of all the directed edges\n",
    "    # directed edges are a list of two vertices\n",
    "    def getDirEdges(self):\n",
    "        \n",
    "        ret = []\n",
    "        for v in self.vertices:\n",
    "            ret += [ [v, u] for u in v.outNeighbors ]\n",
    "        return ret\n",
    "    \n",
    "    def __str__(self):\n",
    "        ret = \"Graph with:\\n\" + \"\\t Vertices:\\n\\t\"\n",
    "        for v in self.vertices:\n",
    "            ret += f\"{str(v)},\"\n",
    "        ret += \"\\n\"\n",
    "        ret += \"\\t Edges:\\n\\t\"\n",
    "        for a,b in self.getDirEdges():\n",
    "            ret += f\"({str(a)},{str(b)}) \"\n",
    "        ret += \"\\n\"\n",
    "        return ret"
   ]
  },
  {
   "cell_type": "code",
   "execution_count": null,
   "id": "embedded-program",
   "metadata": {},
   "outputs": [],
   "source": [
    "G = Graph()\n",
    "for i in range(10):\n",
    "    G.addVertex( Node(i) )"
   ]
  },
  {
   "cell_type": "code",
   "execution_count": null,
   "id": "qualified-sensitivity",
   "metadata": {},
   "outputs": [],
   "source": [
    "V = G.vertices\n",
    "for i in range(9):\n",
    "    G.addDiEdge( V[i], V[i+1] )"
   ]
  },
  {
   "cell_type": "code",
   "execution_count": null,
   "id": "aerial-seattle",
   "metadata": {},
   "outputs": [],
   "source": [
    "print(G)"
   ]
  },
  {
   "cell_type": "markdown",
   "id": "hydraulic-plumbing",
   "metadata": {},
   "source": [
    "Okay, now that our implementation is working fine, let us try to plug-in our data"
   ]
  },
  {
   "cell_type": "code",
   "execution_count": null,
   "id": "dimensional-library",
   "metadata": {},
   "outputs": [],
   "source": [
    "G = Graph()\n",
    "for i in ['Melbourne', 'Sydney', 'Brisbane', 'Perth', 'Darwin', 'GoldCoast', 'PortDouglas', 'Cairns']:\n",
    "    G.addVertex( Node(i) )"
   ]
  },
  {
   "cell_type": "code",
   "execution_count": null,
   "id": "approved-advocate",
   "metadata": {},
   "outputs": [],
   "source": [
    "V = G.vertices"
   ]
  },
  {
   "cell_type": "code",
   "execution_count": null,
   "id": "medium-columbia",
   "metadata": {},
   "outputs": [],
   "source": [
    "for i in range(len(V)):\n",
    "    print(i, V[i].value)"
   ]
  },
  {
   "cell_type": "code",
   "execution_count": null,
   "id": "signal-earth",
   "metadata": {},
   "outputs": [],
   "source": [
    "#dot.edge('Melbourne', 'Sydney')\n",
    "G.addDiEdge( V[0], V[1] )\n",
    "\n",
    "#dot.edge('Melbourne', 'Brisbane')\n",
    "G.addDiEdge( V[0], V[2] )\n",
    "\n",
    "#dot.edge('Sydney', 'Perth')\n",
    "G.addDiEdge( V[1], V[3] )\n",
    "\n",
    "#dot.edge('Sydney', 'Cairns')\n",
    "G.addDiEdge( V[1], V[7] )\n",
    "\n",
    "#dot.edge('Brisbane', 'Darwin')\n",
    "G.addDiEdge( V[2], V[4] )\n",
    "\n",
    "#dot.edge('Brisbane', 'GoldCoast')\n",
    "G.addDiEdge( V[2], V[5] )\n",
    "\n",
    "#dot.edge('Darwin', 'Perth')\n",
    "G.addDiEdge( V[4], V[3] )\n",
    "\n",
    "#dot.edge('Darwin', 'PortDouglas')\n",
    "G.addDiEdge( V[4], V[6] )"
   ]
  },
  {
   "cell_type": "code",
   "execution_count": null,
   "id": "touched-arthur",
   "metadata": {},
   "outputs": [],
   "source": [
    "print(G)"
   ]
  },
  {
   "cell_type": "markdown",
   "id": "innovative-basis",
   "metadata": {},
   "source": [
    "Sounds beautiful, now we have the data in graph format. Let us see if you we can start coding our clever algorithms."
   ]
  },
  {
   "cell_type": "markdown",
   "id": "postal-administration",
   "metadata": {},
   "source": [
    "***"
   ]
  },
  {
   "cell_type": "markdown",
   "id": "color-nylon",
   "metadata": {},
   "source": [
    "### Section 2: Doing a simple DFS"
   ]
  },
  {
   "cell_type": "code",
   "execution_count": null,
   "id": "durable-supervisor",
   "metadata": {},
   "outputs": [],
   "source": [
    "def DFS(root):\n",
    "    \n",
    "    if root == Null:\n",
    "        return\n",
    "\n",
    "    root.visited = True\n",
    "\n",
    "    for n in root.neighbours:\n",
    "        if n.visited == False:\n",
    "            DFS(n)"
   ]
  },
  {
   "cell_type": "code",
   "execution_count": null,
   "id": "suburban-scholarship",
   "metadata": {},
   "outputs": [],
   "source": [
    "def DFS_helper(w):\n",
    "    \n",
    "    w.status = \"inprogress\"\n",
    "    \n",
    "    for v in w.getOutNeighbors():\n",
    "        \n",
    "        if v.status == \"unvisited\":\n",
    "            \n",
    "            DFS_helper(v)\n",
    "    \n",
    "    print(w)\n",
    "    w.status = \"done\"\n",
    "    \n",
    "        \n",
    "def DFS(w, G):\n",
    "    \n",
    "    for v in G.vertices:\n",
    "        \n",
    "        v.status = \"unvisited\"\n",
    "        \n",
    "    return DFS_helper(w)"
   ]
  },
  {
   "cell_type": "code",
   "execution_count": null,
   "id": "metric-cancer",
   "metadata": {},
   "outputs": [],
   "source": [
    "# Let us do the DFS from Melbourne\n",
    "w = G.vertices[0]\n",
    "\n",
    "DFS(w, G)"
   ]
  },
  {
   "cell_type": "markdown",
   "id": "third-hazard",
   "metadata": {},
   "source": [
    "### Section 4: Breadth First Search (BFS)"
   ]
  },
  {
   "cell_type": "markdown",
   "id": "ultimate-liquid",
   "metadata": {},
   "source": [
    "Now let us see if we can do BFS on the graph, following is first implementation of BFS"
   ]
  },
  {
   "cell_type": "code",
   "execution_count": null,
   "id": "engaging-fountain",
   "metadata": {},
   "outputs": [],
   "source": [
    "def BFS(root):\n",
    "\n",
    "    visited = [False] * (num_nodes_in_graph)\n",
    "\n",
    "    # Create a queue for BFS\n",
    "    queue = [root]\n",
    "\n",
    "    visited[root] = True\n",
    "\n",
    "    while queue:\n",
    "\n",
    "        r = queue.pop(0)\n",
    "        print(r)\n",
    "\n",
    "        for n in r.adjacent:\n",
    "\n",
    "            if visited[n] == False:\n",
    "\n",
    "                visited[n] = True\n",
    "                queue.append(n)\n",
    "                "
   ]
  },
  {
   "cell_type": "markdown",
   "id": "1e929d7d",
   "metadata": {},
   "source": [
    "Let us have another impelementation of BFS"
   ]
  },
  {
   "cell_type": "code",
   "execution_count": null,
   "id": "illegal-tourist",
   "metadata": {},
   "outputs": [],
   "source": [
    "def BFS(w, G):\n",
    "    \n",
    "    for v in G.vertices:\n",
    "        v.status = \"unvisited\"\n",
    "\n",
    "    n = len(G.vertices)\n",
    "\n",
    "    Ls = [[] for _ in range(n)]\n",
    "\n",
    "    Ls[0] = [w]\n",
    "    w.status = \"visited\"\n",
    "\n",
    "    for i in range(n):\n",
    "        for u in Ls[i]:\n",
    "\n",
    "            print(u)\n",
    "\n",
    "            for v in u.getOutNeighbors():\n",
    "\n",
    "                if v.status == \"unvisited\":\n",
    "                    v.status = \"visited\"\n",
    "                    Ls[i + 1].append(v)"
   ]
  },
  {
   "cell_type": "code",
   "execution_count": null,
   "id": "invisible-gardening",
   "metadata": {},
   "outputs": [],
   "source": [
    "# Let us do the BFS from Melbourne\n",
    "w = G.vertices[0]\n",
    "\n",
    "BFS(w, G)"
   ]
  },
  {
   "cell_type": "markdown",
   "id": "excited-certificate",
   "metadata": {},
   "source": [
    "***"
   ]
  },
  {
   "cell_type": "code",
   "execution_count": null,
   "id": "unable-visitor",
   "metadata": {},
   "outputs": [],
   "source": [
    "#### Placeholder for this modules tasks ####\n",
    "### Good Luck ###\n",
    "\n",
    "\n",
    "\n",
    "\n",
    "\n",
    "\n",
    "\n"
   ]
  },
  {
   "cell_type": "markdown",
   "id": "descending-produce",
   "metadata": {},
   "source": [
    "***"
   ]
  },
  {
   "cell_type": "markdown",
   "id": "contained-thomson",
   "metadata": {},
   "source": [
    "### Developing Algorithm for Strongly Connected Components"
   ]
  },
  {
   "cell_type": "markdown",
   "id": "fourth-realtor",
   "metadata": {},
   "source": [
    "We will have to modify our DFS to incorporate the in and out time. We will have to modify our graph as well"
   ]
  },
  {
   "cell_type": "markdown",
   "id": "detailed-binary",
   "metadata": {},
   "source": [
    "Let us start by adding inTime and outTime in the Node first"
   ]
  },
  {
   "cell_type": "code",
   "execution_count": null,
   "id": "dental-brook",
   "metadata": {},
   "outputs": [],
   "source": [
    "class Node:\n",
    "    \n",
    "    def __init__(self, v):\n",
    "\n",
    "        self.value = v\n",
    "        self.inNeighbors = []\n",
    "        self.outNeighbors = []\n",
    "        \n",
    "        self.status = \"unvisited\"\n",
    "        self.inTime = None\n",
    "        self.outTime = None\n",
    "        \n",
    "    def hasOutNeighbor(self, v):\n",
    "        \n",
    "        return v in self.outNeighbors\n",
    "        \n",
    "    def hasInNeighbor(self, v):\n",
    "        \n",
    "        return v in self.inNeighbors\n",
    "    \n",
    "    def hasNeighbor(self, v):\n",
    "        return v in self.inNeighbors or v in self.outNeighbors\n",
    "    \n",
    "    def getOutNeighbors(self):\n",
    "        return self.outNeighbors\n",
    "    \n",
    "    def getInNeighbors(self):\n",
    "        return self.inNeighbors\n",
    "        \n",
    "    def addOutNeighbor(self, v):\n",
    "        self.outNeighbors.append(v)\n",
    "    \n",
    "    def addInNeighbor(self, v):\n",
    "        self.inNeighbors.append(v)\n",
    "    \n",
    "    def __str__(self):\n",
    "        return str(self.value) "
   ]
  },
  {
   "cell_type": "markdown",
   "id": "super-start",
   "metadata": {},
   "source": [
    "We should modify our Graph data structure to be able to reverse edges in the graph, we will do this by adding an extra function reverseEdge(u, v)"
   ]
  },
  {
   "cell_type": "code",
   "execution_count": null,
   "id": "forty-estimate",
   "metadata": {},
   "outputs": [],
   "source": [
    "class Graph:\n",
    "    \n",
    "    def __init__(self):\n",
    "        \n",
    "        self.vertices = []\n",
    "\n",
    "    def addVertex(self,n):\n",
    "        \n",
    "        self.vertices.append(n)\n",
    "        \n",
    "    # add a directed edge from CS161Node u to CS161Node v\n",
    "    def addDiEdge(self, u, v):\n",
    "        \n",
    "        u.addOutNeighbor(v)\n",
    "        v.addInNeighbor(u)\n",
    "        \n",
    "    # add edges in both directions between u and v\n",
    "    def addBiEdge(self, u, v):\n",
    "        \n",
    "        self.addDiEdge(u, v)\n",
    "        self.addDiEdge(v, u)\n",
    "        \n",
    "    # get a list of all the directed edges\n",
    "    # directed edges are a list of two vertices\n",
    "    def getDirEdges(self):\n",
    "        \n",
    "        ret = []\n",
    "        for v in self.vertices:\n",
    "            ret += [ [v, u] for u in v.outNeighbors ]\n",
    "        return ret\n",
    "    \n",
    "    # reverse the edge between u and v.  Multiple edges are not supported.\n",
    "    def reverseEdge(self,u,v):\n",
    "        \n",
    "        if u.hasOutNeighbor(v) and v.hasInNeighbor(u):\n",
    "            \n",
    "            if v.hasOutNeighbor(u) and u.hasInNeighbor(v): \n",
    "                return\n",
    "        \n",
    "            self.addDiEdge(v, u)\n",
    "            u.outNeighbors.remove(v)\n",
    "            v.inNeighbors.remove(u)        \n",
    "                \n",
    "    def __str__(self):\n",
    "        ret = \"Graph with:\\n\" + \"\\t Vertices:\\n\\t\"\n",
    "        for v in self.vertices:\n",
    "            ret += f\"{str(v)},\"\n",
    "        ret += \"\\n\"\n",
    "        ret += \"\\t Edges:\\n\\t\"\n",
    "        for a,b in self.getDirEdges():\n",
    "            ret += f\"({str(a)},{str(b)}) \"\n",
    "        ret += \"\\n\"\n",
    "        return ret"
   ]
  },
  {
   "cell_type": "markdown",
   "id": "utility-cooking",
   "metadata": {},
   "source": [
    "Okay, let us now modify our DFS to include in and out time during graph traversal"
   ]
  },
  {
   "cell_type": "code",
   "execution_count": null,
   "id": "agricultural-moment",
   "metadata": {},
   "outputs": [],
   "source": [
    "def DFS(w, currentTime, ordering, verbose):\n",
    "    \n",
    "    if verbose:\n",
    "        print(\"Time\", currentTime, \":\\t entering\", w)\n",
    "    \n",
    "    w.inTime = currentTime\n",
    "    currentTime += 1\n",
    "    w.status = \"inprogress\"\n",
    "    \n",
    "    for v in w.getOutNeighbors():\n",
    "        \n",
    "        if v.status == \"unvisited\":\n",
    "            currentTime = DFS(v, currentTime, ordering, verbose)\n",
    "            currentTime += 1\n",
    "    \n",
    "    w.outTime = currentTime\n",
    "    w.status = \"done\"\n",
    "    ordering.insert(0, w)\n",
    "    \n",
    "    if verbose:\n",
    "        print(\"Time\", currentTime, \":\\t leaving\", w)\n",
    "    \n",
    "    return currentTime"
   ]
  },
  {
   "cell_type": "markdown",
   "id": "speaking-supplement",
   "metadata": {},
   "source": [
    "An now the SCC algorithm:"
   ]
  },
  {
   "cell_type": "code",
   "execution_count": null,
   "id": "floppy-international",
   "metadata": {},
   "outputs": [],
   "source": [
    "def SCC(G, verbose=False):\n",
    "    \n",
    "    #### Placeholder for this modules tasks ####\n",
    "    ### Good Luck ###\n",
    "    \n",
    "    \n",
    "    \n",
    "    \n",
    "    \n",
    "    \n",
    "    \n",
    "    \n",
    "    \n",
    "    \n",
    "    \n",
    "    \n",
    "    \n",
    "    \n",
    "    \n",
    "    "
   ]
  },
  {
   "cell_type": "markdown",
   "id": "laughing-marathon",
   "metadata": {},
   "source": [
    "Test you code against the use case we did in the lecture"
   ]
  },
  {
   "cell_type": "code",
   "execution_count": null,
   "id": "ruled-constitutional",
   "metadata": {},
   "outputs": [],
   "source": [
    "stanford = Node(\"Stanford\")\n",
    "wiki = Node(\"Wikipedia\")\n",
    "nytimes = Node(\"NYTimes\")\n",
    "cal = Node(\"Berkeley\")\n",
    "puppies = Node(\"Puppies\")\n",
    "google = Node(\"Google\")\n",
    "\n",
    "G = Graph()\n",
    "V = [ stanford, wiki, nytimes, cal, puppies, google ]\n",
    "for v in V:\n",
    "    G.addVertex(v)\n",
    "    \n",
    "E = [ (stanford, wiki), (stanford, puppies), (wiki, stanford), (wiki, nytimes), (nytimes, stanford), (cal, stanford), (cal, puppies), (wiki,puppies), (nytimes, puppies), (puppies, google), (google, puppies) ]\n",
    "for x,y in E:\n",
    "    G.addDiEdge( x,y )\n",
    "\n",
    "print(G)"
   ]
  },
  {
   "cell_type": "code",
   "execution_count": null,
   "id": "outside-duncan",
   "metadata": {},
   "outputs": [],
   "source": [
    "SCCs = SCC(G, False)\n",
    "for X in SCCs:\n",
    "    print ([str(x) for x in X])"
   ]
  },
  {
   "cell_type": "markdown",
   "id": "occupied-statement",
   "metadata": {},
   "source": [
    "***"
   ]
  }
 ],
 "metadata": {
  "kernelspec": {
   "display_name": "Python 3 (ipykernel)",
   "language": "python",
   "name": "python3"
  },
  "language_info": {
   "codemirror_mode": {
    "name": "ipython",
    "version": 3
   },
   "file_extension": ".py",
   "mimetype": "text/x-python",
   "name": "python",
   "nbconvert_exporter": "python",
   "pygments_lexer": "ipython3",
   "version": "3.11.3"
  }
 },
 "nbformat": 4,
 "nbformat_minor": 5
}
