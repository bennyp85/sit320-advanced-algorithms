{
 "cells": [
  {
   "cell_type": "markdown",
   "metadata": {},
   "source": [
    "# Module Five: Graphs\n",
    "\n",
    "## Using The Module Design Pattern"
   ]
  },
  {
   "cell_type": "code",
   "execution_count": 1,
   "metadata": {},
   "outputs": [
    {
     "name": "stderr",
     "output_type": "stream",
     "text": [
      "C:\\Users\\benny\\AppData\\Local\\Temp\\ipykernel_39880\\1945220536.py:2: DeprecationWarning: Importing display from IPython.core.display is deprecated since IPython 7.14, please import from IPython display\n",
      "  from IPython.core.display import display, HTML\n"
     ]
    },
    {
     "data": {
      "text/html": [
       "<style>.container { width:95% !important; }</style>"
      ],
      "text/plain": [
       "<IPython.core.display.HTML object>"
      ]
     },
     "metadata": {},
     "output_type": "display_data"
    }
   ],
   "source": [
    "# The following lines are used to increase the width of cells to utilize more space on the screen \n",
    "from IPython.core.display import display, HTML\n",
    "display(HTML(\"<style>.container { width:95% !important; }</style>\"))"
   ]
  },
  {
   "cell_type": "markdown",
   "metadata": {},
   "source": [
    "# Imports"
   ]
  },
  {
   "cell_type": "code",
   "execution_count": 2,
   "metadata": {},
   "outputs": [],
   "source": [
    "import numpy as np\n",
    "from IPython.display import Image\n",
    "from graphviz import Digraph"
   ]
  },
  {
   "cell_type": "markdown",
   "metadata": {},
   "source": [
    "# Data Strcuture Module"
   ]
  },
  {
   "cell_type": "markdown",
   "metadata": {},
   "source": [
    "### Search Graph Classes"
   ]
  },
  {
   "cell_type": "code",
   "execution_count": 3,
   "metadata": {},
   "outputs": [],
   "source": [
    "class SearchNode:\n",
    "    \n",
    "    def __init__(self, v):\n",
    "\n",
    "        self.value = v\n",
    "        self.inNeighbors = []\n",
    "        self.outNeighbors = []\n",
    "        self.status = \"unvisited\"\n",
    "        \n",
    "    def hasOutNeighbor(self, v):\n",
    "        \n",
    "        return v in self.outNeighbors\n",
    "        \n",
    "    def hasInNeighbor(self, v):\n",
    "        return v in self.inNeighbors\n",
    "    \n",
    "    def hasNeighbor(self, v):\n",
    "        return v in self.inNeighbors or v in self.outNeighbors\n",
    "    \n",
    "    def getOutNeighbors(self):\n",
    "        return self.outNeighbors\n",
    "    \n",
    "    def getInNeighbors(self):\n",
    "        return self.inNeighbors\n",
    "        \n",
    "    def addOutNeighbor(self, v):\n",
    "        self.outNeighbors.append(v)\n",
    "    \n",
    "    def addInNeighbor(self, v):\n",
    "        self.inNeighbors.append(v)\n",
    "    \n",
    "    def __str__(self):\n",
    "        return str(self.value) "
   ]
  },
  {
   "cell_type": "code",
   "execution_count": 4,
   "metadata": {},
   "outputs": [],
   "source": [
    "class SearchGraph:\n",
    "    \n",
    "    def __init__(self):\n",
    "        \n",
    "        self.vertices = []\n",
    "\n",
    "    def addVertex(self,n):\n",
    "        \n",
    "        self.vertices.append(n)\n",
    "        \n",
    "    def addDiEdge(self, u, v):\n",
    "        \n",
    "        u.addOutNeighbor(v)\n",
    "        v.addInNeighbor(u)\n",
    "        \n",
    "    # add edges in both directions between u and v\n",
    "    def addBiEdge(self, u, v):\n",
    "        \n",
    "        self.addDiEdge(u, v)\n",
    "        self.addDiEdge(v, u)\n",
    "        \n",
    "    # get a list of all the directed edges\n",
    "    # directed edges are a list of two vertices\n",
    "    def getDirEdges(self):\n",
    "        \n",
    "        ret = []\n",
    "        for v in self.vertices:\n",
    "            ret += [ [v, u] for u in v.outNeighbors ]\n",
    "        return ret\n",
    "    \n",
    "    def __str__(self):\n",
    "        ret = \"Graph with:\\n\" + \"\\t Vertices:\\n\\t\"\n",
    "        for v in self.vertices:\n",
    "            ret += f\"{str(v)},\"\n",
    "        ret += \"\\n\"\n",
    "        ret += \"\\t Edges:\\n\\t\"\n",
    "        for a,b in self.getDirEdges():\n",
    "            ret += f\"({str(a)},{str(b)}) \"\n",
    "        ret += \"\\n\"\n",
    "        return ret"
   ]
  },
  {
   "cell_type": "markdown",
   "metadata": {},
   "source": [
    "### Strongly Connected Components Classes"
   ]
  },
  {
   "cell_type": "code",
   "execution_count": 5,
   "metadata": {},
   "outputs": [],
   "source": [
    "class SCCNode:\n",
    "    \n",
    "    def __init__(self, v):\n",
    "\n",
    "        self.value = v\n",
    "        self.inNeighbors = []\n",
    "        self.outNeighbors = []\n",
    "        \n",
    "        self.status = \"unvisited\"\n",
    "        self.inTime = None\n",
    "        self.outTime = None\n",
    "        \n",
    "    def hasOutNeighbor(self, v):\n",
    "        \n",
    "        return v in self.outNeighbors\n",
    "        \n",
    "    def hasInNeighbor(self, v):\n",
    "        \n",
    "        return v in self.inNeighbors\n",
    "    \n",
    "    def hasNeighbor(self, v):\n",
    "        return v in self.inNeighbors or v in self.outNeighbors\n",
    "    \n",
    "    def getOutNeighbors(self):\n",
    "        return self.outNeighbors\n",
    "    \n",
    "    def getInNeighbors(self):\n",
    "        return self.inNeighbors\n",
    "        \n",
    "    def addOutNeighbor(self, v):\n",
    "        self.outNeighbors.append(v)\n",
    "    \n",
    "    def addInNeighbor(self, v):\n",
    "        self.inNeighbors.append(v)\n",
    "    \n",
    "    def __str__(self):\n",
    "        return str(self.value) "
   ]
  },
  {
   "cell_type": "code",
   "execution_count": 6,
   "metadata": {},
   "outputs": [],
   "source": [
    "class SCCGraph:\n",
    "    \n",
    "    def __init__(self):\n",
    "        \n",
    "        self.vertices = []\n",
    "\n",
    "    def addVertex(self,n):\n",
    "        \n",
    "        self.vertices.append(n)\n",
    "        \n",
    "    # add a directed edge from CS161Node u to CS161Node v\n",
    "    def addDiEdge(self, u, v):\n",
    "        \n",
    "        u.addOutNeighbor(v)\n",
    "        v.addInNeighbor(u)\n",
    "        \n",
    "    # add edges in both directions between u and v\n",
    "    def addBiEdge(self, u, v):\n",
    "        \n",
    "        self.addDiEdge(u, v)\n",
    "        self.addDiEdge(v, u)\n",
    "        \n",
    "    # get a list of all the directed edges\n",
    "    # directed edges are a list of two vertices\n",
    "    def getDirEdges(self):\n",
    "        \n",
    "        ret = []\n",
    "        for v in self.vertices:\n",
    "            ret += [ [v, u] for u in v.outNeighbors ]\n",
    "        return ret\n",
    "    \n",
    "    # reverse the edge between u and v.  Multiple edges are not supported.\n",
    "    def reverseEdge(self,u,v):\n",
    "        \n",
    "        if u.hasOutNeighbor(v) and v.hasInNeighbor(u):\n",
    "            \n",
    "            if v.hasOutNeighbor(u) and u.hasInNeighbor(v): \n",
    "                return\n",
    "        \n",
    "            self.addDiEdge(v, u)\n",
    "            u.outNeighbors.remove(v)\n",
    "            v.inNeighbors.remove(u)        \n",
    "                \n",
    "    def __str__(self):\n",
    "        ret = \"Graph with:\\n\" + \"\\t Vertices:\\n\\t\"\n",
    "        for v in self.vertices:\n",
    "            ret += f\"{str(v)},\"\n",
    "        ret += \"\\n\"\n",
    "        ret += \"\\t Edges:\\n\\t\"\n",
    "        for a,b in self.getDirEdges():\n",
    "            ret += f\"({str(a)},{str(b)}) \"\n",
    "        ret += \"\\n\"\n",
    "        return ret"
   ]
  },
  {
   "cell_type": "markdown",
   "metadata": {},
   "source": [
    "# Visualization Module"
   ]
  },
  {
   "cell_type": "code",
   "execution_count": 7,
   "metadata": {},
   "outputs": [
    {
     "name": "stdout",
     "output_type": "stream",
     "text": [
      "Graph with:\n",
      "\t Vertices:\n",
      "\t0,1,2,3,4,5,6,7,8,9,\n",
      "\t Edges:\n",
      "\t(0,1) (1,2) (2,3) (3,4) (4,5) (5,6) (6,7) (7,8) (8,9) \n",
      "\n",
      "0 Melbourne\n",
      "1 Sydney\n",
      "2 Brisbane\n",
      "3 Perth\n",
      "4 Darwin\n",
      "5 GoldCoast\n",
      "6 PortDouglas\n",
      "7 Cairns\n",
      "Graph with:\n",
      "\t Vertices:\n",
      "\tMelbourne,Sydney,Brisbane,Perth,Darwin,GoldCoast,PortDouglas,Cairns,\n",
      "\t Edges:\n",
      "\t(Melbourne,Sydney) (Melbourne,Brisbane) (Sydney,Perth) (Sydney,Cairns) (Brisbane,Darwin) (Brisbane,GoldCoast) (Darwin,Perth) (Darwin,PortDouglas) \n",
      "\n"
     ]
    }
   ],
   "source": [
    "G = SearchGraph()\n",
    "for i in range(10):\n",
    "    G.addVertex( SearchNode(i) )\n",
    "\n",
    "V = G.vertices\n",
    "for i in range(9):\n",
    "    G.addDiEdge( V[i], V[i+1] )\n",
    "\n",
    "print(G)\n",
    "\n",
    "G = SearchGraph()\n",
    "for i in ['Melbourne', 'Sydney', 'Brisbane', 'Perth', 'Darwin', 'GoldCoast', 'PortDouglas', 'Cairns']:\n",
    "    G.addVertex( SearchNode(i) )\n",
    "\n",
    "V = G.vertices\n",
    "\n",
    "for i in range(len(V)):\n",
    "    print(i, V[i].value)\n",
    "\n",
    "#dot.edge('Melbourne', 'Sydney')\n",
    "G.addDiEdge( V[0], V[1] )\n",
    "\n",
    "#dot.edge('Melbourne', 'Brisbane')\n",
    "G.addDiEdge( V[0], V[2] )\n",
    "\n",
    "#dot.edge('Sydney', 'Perth')\n",
    "G.addDiEdge( V[1], V[3] )\n",
    "\n",
    "#dot.edge('Sydney', 'Cairns')\n",
    "G.addDiEdge( V[1], V[7] )\n",
    "\n",
    "#dot.edge('Brisbane', 'Darwin')\n",
    "G.addDiEdge( V[2], V[4] )\n",
    "\n",
    "#dot.edge('Brisbane', 'GoldCoast')\n",
    "G.addDiEdge( V[2], V[5] )\n",
    "\n",
    "#dot.edge('Darwin', 'Perth')\n",
    "G.addDiEdge( V[4], V[3] )\n",
    "\n",
    "#dot.edge('Darwin', 'PortDouglas')\n",
    "G.addDiEdge( V[4], V[6] )\n",
    "\n",
    "print(G)"
   ]
  },
  {
   "cell_type": "markdown",
   "metadata": {},
   "source": [
    "# Algorithm Module\n",
    "\n",
    "### DFS One"
   ]
  },
  {
   "cell_type": "code",
   "execution_count": 14,
   "metadata": {},
   "outputs": [],
   "source": [
    "def DFSOne(root):\n",
    "    \n",
    "    if root == Null:\n",
    "        return\n",
    "\n",
    "    root.visited = True\n",
    "\n",
    "    for n in root.neighbours:\n",
    "        if n.visited == False:\n",
    "            DFS(n)"
   ]
  },
  {
   "cell_type": "markdown",
   "metadata": {},
   "source": [
    "### DFS Two"
   ]
  },
  {
   "cell_type": "code",
   "execution_count": null,
   "metadata": {},
   "outputs": [],
   "source": [
    "def DFS_helper(w):\n",
    "    \n",
    "    w.status = \"inprogress\"\n",
    "    \n",
    "    for v in w.getOutNeighbors():\n",
    "        \n",
    "        if v.status == \"unvisited\":\n",
    "            \n",
    "            DFS_helper(v)\n",
    "    \n",
    "    print(w)\n",
    "    w.status = \"done\"\n",
    "    \n",
    "        \n",
    "def DFSTwo(w, G):\n",
    "    \n",
    "    for v in G.vertices:\n",
    "        \n",
    "        v.status = \"unvisited\"\n",
    "        \n",
    "    return DFS_helper(w)"
   ]
  },
  {
   "cell_type": "code",
   "execution_count": null,
   "metadata": {},
   "outputs": [
    {
     "name": "stdout",
     "output_type": "stream",
     "text": [
      "Perth\n",
      "Cairns\n",
      "Sydney\n",
      "PortDouglas\n",
      "Darwin\n",
      "GoldCoast\n",
      "Brisbane\n",
      "Melbourne\n"
     ]
    }
   ],
   "source": [
    "# Let us do the DFS from Melbourne\n",
    "w = G.vertices[0]\n",
    "\n",
    "DFSTwo(w, G)"
   ]
  },
  {
   "cell_type": "markdown",
   "metadata": {},
   "source": [
    "### BFS One"
   ]
  },
  {
   "cell_type": "code",
   "execution_count": null,
   "metadata": {},
   "outputs": [],
   "source": [
    "def BFSOne(root):\n",
    "\n",
    "    visited = [False] * (num_nodes_in_graph)\n",
    "\n",
    "    # Create a queue for BFS\n",
    "    queue = [root]\n",
    "\n",
    "    visited[root] = True\n",
    "\n",
    "    while queue:\n",
    "\n",
    "        r = queue.pop(0)\n",
    "        print(r)\n",
    "\n",
    "        for n in r.adjacent:\n",
    "\n",
    "            if visited[n] == False:\n",
    "\n",
    "                visited[n] = True\n",
    "                queue.append(n)"
   ]
  },
  {
   "cell_type": "markdown",
   "metadata": {},
   "source": [
    "### BFS Two"
   ]
  },
  {
   "cell_type": "code",
   "execution_count": null,
   "metadata": {},
   "outputs": [],
   "source": [
    "def BFSTwo(w, G):\n",
    "    \n",
    "    for v in G.vertices:\n",
    "        v.status = \"unvisited\"\n",
    "\n",
    "    n = len(G.vertices)\n",
    "\n",
    "    Ls = [[] for _ in range(n)]\n",
    "\n",
    "    Ls[0] = [w]\n",
    "    w.status = \"visited\"\n",
    "\n",
    "    for i in range(n):\n",
    "        for u in Ls[i]:\n",
    "\n",
    "            print(u)\n",
    "\n",
    "            for v in u.getOutNeighbors():\n",
    "\n",
    "                if v.status == \"unvisited\":\n",
    "                    v.status = \"visited\"\n",
    "                    Ls[i + 1].append(v)"
   ]
  },
  {
   "cell_type": "code",
   "execution_count": null,
   "metadata": {},
   "outputs": [
    {
     "name": "stdout",
     "output_type": "stream",
     "text": [
      "Melbourne\n",
      "Sydney\n",
      "Brisbane\n",
      "Perth\n",
      "Cairns\n",
      "Darwin\n",
      "GoldCoast\n",
      "PortDouglas\n"
     ]
    }
   ],
   "source": [
    "w = G.vertices[0]\n",
    "\n",
    "BFSTwo(w, G)"
   ]
  },
  {
   "cell_type": "markdown",
   "metadata": {},
   "source": [
    "### Bidirectional Search"
   ]
  },
  {
   "cell_type": "markdown",
   "metadata": {},
   "source": []
  }
 ],
 "metadata": {
  "kernelspec": {
   "display_name": "Python 3",
   "language": "python",
   "name": "python3"
  },
  "language_info": {
   "codemirror_mode": {
    "name": "ipython",
    "version": 3
   },
   "file_extension": ".py",
   "mimetype": "text/x-python",
   "name": "python",
   "nbconvert_exporter": "python",
   "pygments_lexer": "ipython3",
   "version": "3.11.3"
  },
  "orig_nbformat": 4
 },
 "nbformat": 4,
 "nbformat_minor": 2
}
