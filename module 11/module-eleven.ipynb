{
 "cells": [
  {
   "cell_type": "markdown",
   "metadata": {},
   "source": [
    "# SIT320 Advanced Algorithms\n",
    "## Module 11 - Network Based Algorithms"
   ]
  },
  {
   "cell_type": "markdown",
   "metadata": {},
   "source": [
    "### Task 1 Karger's Algorithm"
   ]
  },
  {
   "cell_type": "code",
   "execution_count": 2,
   "metadata": {},
   "outputs": [],
   "source": [
    "class Node:\n",
    "    \n",
    "    def __init__(self, data):\n",
    "        self.data = data\n",
    "        self.neighbors = []\n",
    "        self.weights = []\n",
    "    \n",
    "    def getNeighbours(self):\n",
    "        return self.neighbors\n",
    "\n",
    "    def getWeights(self):\n",
    "        return self.weights\n",
    "\n",
    "    def __str__(self):\n",
    "        return str(self.data)\n",
    "\n",
    "class Graph:\n",
    "\n",
    "    def __init__(self):\n",
    "        self.nodes = []\n",
    "\n",
    "    def add_node(self, node):\n",
    "        self.nodes.append(node)\n",
    "    \n",
    "    def add_edge(self, node1, node2, weight):\n",
    "        if node1 in self.nodes and node2 in self.nodes:\n",
    "            node1.neighbors.append(node2)\n",
    "            node1.weights.append(weight)\n",
    "            node2.neighbors.append(node1)\n",
    "            node2.weights.append(weight)\n",
    "\n",
    "    def getNeighbours(self):\n",
    "        ret = []\n",
    "        for v in self.nodes:\n",
    "            ret.extend((v, (n, w)) for n, w in zip(v.getNeighbours(), v.getWeights()))\n",
    "        return ret\n",
    "        \n",
    "    def __str__(self):\n",
    "        # print the nodes\n",
    "        ret = \"V: {\"\n",
    "        for v in self.nodes:\n",
    "            ret += f\"{str(v)}, \"\n",
    "        ret += \"}\\n\"\n",
    "        # print the edges\n",
    "        ret += \"E: {\"\n",
    "        for v in self.nodes:\n",
    "            for n, w in zip(v.getNeighbours(), v.getWeights()):\n",
    "                ret += f\"({str(v)},{str(n)},{str(w)})\"\n",
    "        ret += \"}\"\n",
    "        return ret"
   ]
  },
  {
   "cell_type": "markdown",
   "metadata": {},
   "source": []
  },
  {
   "cell_type": "code",
   "execution_count": 11,
   "metadata": {},
   "outputs": [],
   "source": [
    "import random\n",
    "\n",
    "def Kargers(G):\n",
    "    while len(G) > 2:\n",
    "        # pick a random edge\n",
    "        u = random.choice(list(G.keys()))\n",
    "        v = random.choice(list(G[u]))\n",
    "        # merge u and v\n",
    "        G[u].extend(G[v])\n",
    "        # replace all v's with u's\n",
    "        for x in G[v]:\n",
    "            G[x].remove(v)\n",
    "            G[x].append(u)\n",
    "        # remove self-loops\n",
    "        while u in G[u]:\n",
    "            G[u].remove(u)\n",
    "        # remove v\n",
    "        del G[v]\n",
    "    # return the cut\n",
    "    return len(G[list(G.keys())[0]])\n"
   ]
  }
 ],
 "metadata": {
  "kernelspec": {
   "display_name": "Python 3",
   "language": "python",
   "name": "python3"
  },
  "language_info": {
   "codemirror_mode": {
    "name": "ipython",
    "version": 3
   },
   "file_extension": ".py",
   "mimetype": "text/x-python",
   "name": "python",
   "nbconvert_exporter": "python",
   "pygments_lexer": "ipython3",
   "version": "3.11.3"
  },
  "orig_nbformat": 4
 },
 "nbformat": 4,
 "nbformat_minor": 2
}
