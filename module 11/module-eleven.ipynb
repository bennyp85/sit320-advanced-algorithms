{
 "cells": [
  {
   "cell_type": "markdown",
   "metadata": {},
   "source": [
    "# SIT320 Advanced Algorithms\n",
    "## Module 11 - Network Based Algorithms"
   ]
  },
  {
   "cell_type": "markdown",
   "metadata": {},
   "source": [
    "### Task 1 Karger's Algorithm"
   ]
  },
  {
   "cell_type": "code",
   "execution_count": 11,
   "metadata": {},
   "outputs": [],
   "source": [
    "import random\n",
    "\n",
    "def Kargers(G):\n",
    "    while len(G) > 2:\n",
    "        # pick a random edge\n",
    "        u = random.choice(list(G.keys()))\n",
    "        v = random.choice(list(G[u]))\n",
    "        # merge u and v\n",
    "        G[u].extend(G[v])\n",
    "        # replace all v's with u's\n",
    "        for x in G[v]:\n",
    "            G[x].remove(v)\n",
    "            G[x].append(u)\n",
    "        # remove self-loops\n",
    "        while u in G[u]:\n",
    "            G[u].remove(u)\n",
    "        # remove v\n",
    "        del G[v]\n",
    "    # return the cut\n",
    "    return len(G[list(G.keys())[0]])\n"
   ]
  },
  {
   "cell_type": "code",
   "execution_count": 29,
   "metadata": {},
   "outputs": [
    {
     "name": "stdout",
     "output_type": "stream",
     "text": [
      "10\n",
      "10\n",
      "9\n",
      "8\n",
      "8\n",
      "8\n",
      "8\n",
      "8\n",
      "7\n",
      "7\n",
      "7\n",
      "7\n",
      "7\n",
      "7\n",
      "7\n",
      "7\n",
      "7\n",
      "7\n",
      "7\n",
      "7\n",
      "7\n",
      "7\n",
      "7\n",
      "7\n",
      "7\n"
     ]
    }
   ],
   "source": [
    "import random\n",
    "import copy\n",
    "\n",
    "n = 100\n",
    "G = {i: [] for i in range(1, n+1)}\n",
    "for i in range(1, n+1):\n",
    "    for j in range(i+1, n+1):\n",
    "        if random.random() < 0.1:\n",
    "            G[i].append(j)\n",
    "            G[j].append(i)\n",
    "\n",
    "# run Karger's algorithm 100 times\n",
    "min_cut = n\n",
    "for i in range(25):\n",
    "    cut = Kargers(copy.deepcopy(G))\n",
    "    if cut < min_cut:\n",
    "        min_cut = cut\n",
    "    print(min_cut)\n",
    "\n"
   ]
  },
  {
   "cell_type": "code",
   "execution_count": null,
   "metadata": {},
   "outputs": [],
   "source": []
  }
 ],
 "metadata": {
  "kernelspec": {
   "display_name": "Python 3",
   "language": "python",
   "name": "python3"
  },
  "language_info": {
   "codemirror_mode": {
    "name": "ipython",
    "version": 3
   },
   "file_extension": ".py",
   "mimetype": "text/x-python",
   "name": "python",
   "nbconvert_exporter": "python",
   "pygments_lexer": "ipython3",
   "version": "3.11.3"
  },
  "orig_nbformat": 4
 },
 "nbformat": 4,
 "nbformat_minor": 2
}
