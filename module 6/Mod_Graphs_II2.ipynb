{
 "cells": [
  {
   "cell_type": "markdown",
   "id": "imposed-playlist",
   "metadata": {},
   "source": [
    "# Lab 6: Graphs II"
   ]
  },
  {
   "cell_type": "markdown",
   "id": "d97cce87",
   "metadata": {},
   "source": [
    "Lab associated with Module 6: Graphs II"
   ]
  },
  {
   "cell_type": "markdown",
   "id": "5c7f2e9d",
   "metadata": {},
   "source": [
    "***"
   ]
  },
  {
   "cell_type": "code",
   "execution_count": 289,
   "id": "5b495ad0",
   "metadata": {},
   "outputs": [
    {
     "name": "stderr",
     "output_type": "stream",
     "text": [
      "C:\\Users\\benny\\AppData\\Local\\Temp\\ipykernel_22896\\1945220536.py:2: DeprecationWarning: Importing display from IPython.core.display is deprecated since IPython 7.14, please import from IPython display\n",
      "  from IPython.core.display import display, HTML\n"
     ]
    },
    {
     "data": {
      "text/html": [
       "<style>.container { width:95% !important; }</style>"
      ],
      "text/plain": [
       "<IPython.core.display.HTML object>"
      ]
     },
     "metadata": {},
     "output_type": "display_data"
    }
   ],
   "source": [
    "# The following lines are used to increase the width of cells to utilize more space on the screen \n",
    "from IPython.core.display import display, HTML\n",
    "display(HTML(\"<style>.container { width:95% !important; }</style>\"))"
   ]
  },
  {
   "cell_type": "markdown",
   "id": "3a2b855c",
   "metadata": {},
   "source": [
    "***"
   ]
  },
  {
   "cell_type": "markdown",
   "id": "9d0921a0",
   "metadata": {},
   "source": [
    "### Section 0: Imports"
   ]
  },
  {
   "cell_type": "code",
   "execution_count": 290,
   "id": "477622d5",
   "metadata": {},
   "outputs": [],
   "source": [
    "import numpy as np"
   ]
  },
  {
   "cell_type": "code",
   "execution_count": 291,
   "id": "50fb5ed5",
   "metadata": {},
   "outputs": [],
   "source": [
    "import math"
   ]
  },
  {
   "cell_type": "code",
   "execution_count": 292,
   "id": "965de108",
   "metadata": {},
   "outputs": [],
   "source": [
    "from IPython.display import Image\n",
    "from graphviz import Digraph"
   ]
  },
  {
   "cell_type": "markdown",
   "id": "214d69eb",
   "metadata": {},
   "source": [
    "Details of Digraph package: https://h1ros.github.io/posts/introduction-to-graphviz-in-jupyter-notebook/"
   ]
  },
  {
   "cell_type": "markdown",
   "id": "7f9321f8",
   "metadata": {},
   "source": [
    "***"
   ]
  },
  {
   "cell_type": "markdown",
   "id": "317d9bca",
   "metadata": {},
   "source": [
    "### Section 1: Graph Preliminaries"
   ]
  },
  {
   "cell_type": "markdown",
   "id": "cc820c0e",
   "metadata": {},
   "source": [
    "Let us start by implementing our Node and Graph data structure to incorporate weights in the graph"
   ]
  },
  {
   "cell_type": "code",
   "execution_count": 293,
   "id": "d8e6550f",
   "metadata": {},
   "outputs": [],
   "source": [
    "class Node:\n",
    "    \n",
    "    def __init__(self, v):\n",
    "\n",
    "        self.value = v\n",
    "        self.inNeighbors = []\n",
    "        self.outNeighbors = []\n",
    "        self.status = \"unvisited\"\n",
    "        self.estD = np.inf\n",
    "        \n",
    "    def hasOutNeighbor(self, v):\n",
    "        \n",
    "        return v in self.outNeighbors\n",
    "        \n",
    "    def hasInNeighbor(self, v):\n",
    "        \n",
    "        return v in self.inNeighbors\n",
    "    \n",
    "    def hasNeighbor(self, v):\n",
    "        \n",
    "        return v in self.inNeighbors or v in self.outNeighbors\n",
    "    \n",
    "    def getOutNeighbors(self):\n",
    "        \n",
    "        return self.outNeighbors\n",
    "    \n",
    "    def getInNeighbors(self):\n",
    "        \n",
    "        return self.inNeighbors\n",
    "    \n",
    "    def getOutNeighborsWithWeights(self):\n",
    "        \n",
    "        return self.outNeighbors\n",
    "    \n",
    "    def getInNeighborsWithWeights(self):\n",
    "        \n",
    "        return self.inNeighbors\n",
    "    \n",
    "    # ------------------------------------------------\n",
    "    # Let us modify following two functions to incorporate weights\n",
    "    # ------------------------------------------------\n",
    "    \n",
    "    def addOutNeighbor(self,v,wt):\n",
    "        self.outNeighbors.append((v,wt))\n",
    "    \n",
    "    def addInNeighbor(self,v,wt):\n",
    "        \n",
    "        self.inNeighbors.append((v,wt))\n",
    "        \n",
    "        \n",
    "    def __str__(self):\n",
    "        \n",
    "        return str(self.value) "
   ]
  },
  {
   "cell_type": "code",
   "execution_count": 294,
   "id": "30ab4c32",
   "metadata": {},
   "outputs": [],
   "source": [
    "class Graph:\n",
    "    def __init__(self):\n",
    "        self.vertices = []\n",
    "        self.next_index = 0 # Add this line to initialize the next available index\n",
    "\n",
    "    def addVertex(self, n):\n",
    "        n.index = self.next_index # Assign the next available index to the vertex\n",
    "        self.next_index += 1 # Increment the next available index\n",
    "        self.vertices.append(n)\n",
    "        \n",
    "    # ------------------------------------------------\n",
    "    # Let us modify following two functions to incorporate weights\n",
    "    # ------------------------------------------------\n",
    "        \n",
    "    def addDiEdge(self, u, v, wt = 1):\n",
    "        \n",
    "        u.addOutNeighbor(v, wt = wt)\n",
    "        v.addInNeighbor(u, wt = wt)\n",
    "        \n",
    "    # add edges in both directions between u and v\n",
    "    def addBiEdge(self, u, v, wt = 1):\n",
    "        \n",
    "        self.addDiEdge(u, v, wt = wt)\n",
    "        self.addDiEdge(v, u, wt = wt)\n",
    "        \n",
    "            \n",
    "    # get a list of all the directed edges\n",
    "    # directed edges are a list of two vertices\n",
    "    def getDirEdges(self):\n",
    "        \n",
    "        ret = []\n",
    "        for v in self.vertices:\n",
    "            ret += [ [v, u] for u in v.outNeighbors ]\n",
    "        return ret\n",
    "    \n",
    "    # reverse the edge between u and v.  Multiple edges are not supported.\n",
    "    def reverseEdge(self,u,v):\n",
    "        \n",
    "        if u.hasOutNeighbor(v) and v.hasInNeighbor(u):\n",
    "            \n",
    "            if v.hasOutNeighbor(u) and u.hasInNeighbor(v): \n",
    "                return\n",
    "        \n",
    "            self.addDiEdge(v, u)\n",
    "            u.outNeighbors.remove(v)\n",
    "            v.inNeighbors.remove(u)        \n",
    "                \n",
    "    def __str__(self):\n",
    "        ret = \"Graph with:\\n\"\n",
    "        ret += \"\\t Vertices:\\n\\t\"\n",
    "        for v in self.vertices:\n",
    "            ret += str(v) + \",\"\n",
    "        ret += \"\\n\"\n",
    "        ret += \"\\t Edges:\\n\\t\"\n",
    "        for a, b in self.getDirEdges():\n",
    "            ret += \"(\" + str(a) + \"->\" + str(b[0]) + \" , \" + str(b[1]) + \")) \"\n",
    "        ret += \"\\n\"\n",
    "        return ret\n"
   ]
  },
  {
   "cell_type": "markdown",
   "id": "7afa81de",
   "metadata": {},
   "source": [
    "Now that we have incorporated the weights, let us devise a plan to generate the graph"
   ]
  },
  {
   "cell_type": "code",
   "execution_count": 295,
   "id": "d3a8a344",
   "metadata": {},
   "outputs": [
    {
     "data": {
      "image/svg+xml": [
       "<?xml version=\"1.0\" encoding=\"UTF-8\" standalone=\"no\"?>\n",
       "<!DOCTYPE svg PUBLIC \"-//W3C//DTD SVG 1.1//EN\"\n",
       " \"http://www.w3.org/Graphics/SVG/1.1/DTD/svg11.dtd\">\n",
       "<!-- Generated by graphviz version 8.1.0 (20230707.0739)\n",
       " -->\n",
       "<!-- Pages: 1 -->\n",
       "<svg width=\"117pt\" height=\"404pt\"\n",
       " viewBox=\"0.00 0.00 117.00 404.00\" xmlns=\"http://www.w3.org/2000/svg\" xmlns:xlink=\"http://www.w3.org/1999/xlink\">\n",
       "<g id=\"graph0\" class=\"graph\" transform=\"scale(1 1) rotate(0) translate(4 400)\">\n",
       "<polygon fill=\"white\" stroke=\"none\" points=\"-4,4 -4,-400 113,-400 113,4 -4,4\"/>\n",
       "<!-- S -->\n",
       "<g id=\"node1\" class=\"node\">\n",
       "<title>S</title>\n",
       "<ellipse fill=\"none\" stroke=\"black\" cx=\"54\" cy=\"-378\" rx=\"27\" ry=\"18\"/>\n",
       "<text text-anchor=\"middle\" x=\"54\" y=\"-372.57\" font-family=\"Times New Roman,serif\" font-size=\"14.00\">S</text>\n",
       "</g>\n",
       "<!-- E -->\n",
       "<g id=\"node2\" class=\"node\">\n",
       "<title>E</title>\n",
       "<ellipse fill=\"none\" stroke=\"black\" cx=\"27\" cy=\"-306\" rx=\"27\" ry=\"18\"/>\n",
       "<text text-anchor=\"middle\" x=\"27\" y=\"-300.57\" font-family=\"Times New Roman,serif\" font-size=\"14.00\">E</text>\n",
       "</g>\n",
       "<!-- S&#45;&gt;E -->\n",
       "<g id=\"edge1\" class=\"edge\">\n",
       "<title>S&#45;&gt;E</title>\n",
       "<path fill=\"none\" stroke=\"black\" d=\"M47.46,-360.05C44.45,-352.23 40.79,-342.75 37.41,-333.98\"/>\n",
       "<polygon fill=\"black\" stroke=\"black\" points=\"40.34,-332.86 33.48,-324.79 33.81,-335.38 40.34,-332.86\"/>\n",
       "</g>\n",
       "<!-- A -->\n",
       "<g id=\"node3\" class=\"node\">\n",
       "<title>A</title>\n",
       "<ellipse fill=\"none\" stroke=\"black\" cx=\"82\" cy=\"-162\" rx=\"27\" ry=\"18\"/>\n",
       "<text text-anchor=\"middle\" x=\"82\" y=\"-156.57\" font-family=\"Times New Roman,serif\" font-size=\"14.00\">A</text>\n",
       "</g>\n",
       "<!-- S&#45;&gt;A -->\n",
       "<g id=\"edge2\" class=\"edge\">\n",
       "<title>S&#45;&gt;A</title>\n",
       "<path fill=\"none\" stroke=\"black\" d=\"M57.14,-359.85C58.98,-349.49 61.27,-336.01 63,-324 69.67,-277.6 75.7,-223.43 79.11,-191.24\"/>\n",
       "<polygon fill=\"black\" stroke=\"black\" points=\"82.68,-191.74 80.24,-181.43 75.72,-191.01 82.68,-191.74\"/>\n",
       "</g>\n",
       "<!-- D -->\n",
       "<g id=\"node4\" class=\"node\">\n",
       "<title>D</title>\n",
       "<ellipse fill=\"none\" stroke=\"black\" cx=\"27\" cy=\"-234\" rx=\"27\" ry=\"18\"/>\n",
       "<text text-anchor=\"middle\" x=\"27\" y=\"-228.57\" font-family=\"Times New Roman,serif\" font-size=\"14.00\">D</text>\n",
       "</g>\n",
       "<!-- E&#45;&gt;D -->\n",
       "<g id=\"edge3\" class=\"edge\">\n",
       "<title>E&#45;&gt;D</title>\n",
       "<path fill=\"none\" stroke=\"black\" d=\"M27,-287.7C27,-280.24 27,-271.32 27,-262.97\"/>\n",
       "<polygon fill=\"black\" stroke=\"black\" points=\"30.5,-263.1 27,-253.1 23.5,-263.1 30.5,-263.1\"/>\n",
       "</g>\n",
       "<!-- C -->\n",
       "<g id=\"node5\" class=\"node\">\n",
       "<title>C</title>\n",
       "<ellipse fill=\"none\" stroke=\"black\" cx=\"27\" cy=\"-90\" rx=\"27\" ry=\"18\"/>\n",
       "<text text-anchor=\"middle\" x=\"27\" y=\"-84.58\" font-family=\"Times New Roman,serif\" font-size=\"14.00\">C</text>\n",
       "</g>\n",
       "<!-- A&#45;&gt;C -->\n",
       "<g id=\"edge5\" class=\"edge\">\n",
       "<title>A&#45;&gt;C</title>\n",
       "<path fill=\"none\" stroke=\"black\" d=\"M69.79,-145.46C62.74,-136.49 53.73,-125.02 45.79,-114.92\"/>\n",
       "<polygon fill=\"black\" stroke=\"black\" points=\"48.1,-113.19 39.17,-107.49 42.6,-117.52 48.1,-113.19\"/>\n",
       "</g>\n",
       "<!-- D&#45;&gt;A -->\n",
       "<g id=\"edge4\" class=\"edge\">\n",
       "<title>D&#45;&gt;A</title>\n",
       "<path fill=\"none\" stroke=\"black\" d=\"M39.21,-217.46C46.26,-208.49 55.27,-197.02 63.21,-186.92\"/>\n",
       "<polygon fill=\"black\" stroke=\"black\" points=\"66.4,-189.52 69.83,-179.49 60.9,-185.19 66.4,-189.52\"/>\n",
       "</g>\n",
       "<!-- D&#45;&gt;C -->\n",
       "<g id=\"edge7\" class=\"edge\">\n",
       "<title>D&#45;&gt;C</title>\n",
       "<path fill=\"none\" stroke=\"black\" d=\"M27,-215.59C27,-191.5 27,-147.75 27,-119.03\"/>\n",
       "<polygon fill=\"black\" stroke=\"black\" points=\"30.5,-119.11 27,-109.11 23.5,-119.11 30.5,-119.11\"/>\n",
       "</g>\n",
       "<!-- B -->\n",
       "<g id=\"node6\" class=\"node\">\n",
       "<title>B</title>\n",
       "<ellipse fill=\"none\" stroke=\"black\" cx=\"54\" cy=\"-18\" rx=\"27\" ry=\"18\"/>\n",
       "<text text-anchor=\"middle\" x=\"54\" y=\"-12.57\" font-family=\"Times New Roman,serif\" font-size=\"14.00\">B</text>\n",
       "</g>\n",
       "<!-- C&#45;&gt;B -->\n",
       "<g id=\"edge8\" class=\"edge\">\n",
       "<title>C&#45;&gt;B</title>\n",
       "<path fill=\"none\" stroke=\"black\" d=\"M33.54,-72.05C36.55,-64.23 40.21,-54.75 43.59,-45.98\"/>\n",
       "<polygon fill=\"black\" stroke=\"black\" points=\"47.19,-47.38 47.52,-36.79 40.66,-44.86 47.19,-47.38\"/>\n",
       "</g>\n",
       "<!-- B&#45;&gt;A -->\n",
       "<g id=\"edge6\" class=\"edge\">\n",
       "<title>B&#45;&gt;A</title>\n",
       "<path fill=\"none\" stroke=\"black\" d=\"M57.39,-36.19C62.15,-60.32 70.86,-104.5 76.54,-133.3\"/>\n",
       "<polygon fill=\"black\" stroke=\"black\" points=\"73.25,-133.74 78.62,-142.87 80.12,-132.38 73.25,-133.74\"/>\n",
       "</g>\n",
       "</g>\n",
       "</svg>\n"
      ],
      "text/plain": [
       "<graphviz.graphs.Digraph at 0x1b1ac9daf90>"
      ]
     },
     "execution_count": 295,
     "metadata": {},
     "output_type": "execute_result"
    }
   ],
   "source": [
    "dot = Digraph()\n",
    "\n",
    "dot.edge('S', 'E')\n",
    "dot.edge('S', 'A')\n",
    "dot.edge('E', 'D')\n",
    "dot.edge('D', 'A')\n",
    "dot.edge('A', 'C')\n",
    "dot.edge('B', 'A')\n",
    "dot.edge('D', 'C')\n",
    "dot.edge('C', 'B')\n",
    "\n",
    "#dot.view()\n",
    "dot"
   ]
  },
  {
   "cell_type": "code",
   "execution_count": 296,
   "id": "90237e9f",
   "metadata": {},
   "outputs": [],
   "source": [
    "G = Graph()\n",
    "#for i in ['0', '1', '2', '3', '4', '5']:\n",
    "for i in ['S', 'E', 'A', 'D', 'B', 'C']:\n",
    "    G.addVertex( Node(i) )"
   ]
  },
  {
   "cell_type": "code",
   "execution_count": 297,
   "id": "e2160adc",
   "metadata": {},
   "outputs": [],
   "source": [
    "V = G.vertices\n",
    "\n",
    "#dot.edge('S', 'E')\n",
    "G.addDiEdge( V[0], V[1], 8)\n",
    "\n",
    "#dot.edge('S', 'A')\n",
    "G.addDiEdge( V[0], V[2] , 10)\n",
    "\n",
    "#dot.edge('E', 'D')\n",
    "G.addDiEdge( V[1], V[3], 1)\n",
    "\n",
    "#dot.edge('D', 'A')\n",
    "G.addDiEdge( V[3], V[2], -4)\n",
    "\n",
    "#dot.edge('A', 'C')\n",
    "G.addDiEdge( V[2], V[5], 2)\n",
    "\n",
    "#dot.edge('B', 'A')\n",
    "G.addDiEdge( V[4], V[2], 1 )\n",
    "\n",
    "#dot.edge('D', 'C')\n",
    "G.addDiEdge( V[3], V[5], -1)\n",
    "\n",
    "#dot.edge('C', 'B')\n",
    "G.addDiEdge( V[5], V[4], -2 )"
   ]
  },
  {
   "cell_type": "markdown",
   "id": "8fcbaefb",
   "metadata": {},
   "source": [
    "Second Example"
   ]
  },
  {
   "cell_type": "code",
   "execution_count": 298,
   "id": "dd4d197d",
   "metadata": {},
   "outputs": [],
   "source": [
    "G = Graph()\n",
    "#for i in ['0', '1', '2', '3', '4', '5']:\n",
    "for i in ['S', 'A', 'B']:\n",
    "    G.addVertex( Node(i) )\n",
    "    \n",
    "V = G.vertices\n",
    "\n",
    "G.addDiEdge( V[0], V[1], 3)\n",
    "\n",
    "G.addDiEdge( V[0], V[2] , 4)\n",
    "\n",
    "G.addDiEdge( V[2], V[1], -2)"
   ]
  },
  {
   "cell_type": "code",
   "execution_count": 299,
   "id": "fb865755",
   "metadata": {},
   "outputs": [
    {
     "name": "stdout",
     "output_type": "stream",
     "text": [
      "Graph with:\n",
      "\t Vertices:\n",
      "\tS,A,B,\n",
      "\t Edges:\n",
      "\t(S->A , 3)) (S->B , 4)) (B->A , -2)) \n",
      "\n"
     ]
    }
   ],
   "source": [
    "print(G)"
   ]
  },
  {
   "cell_type": "markdown",
   "id": "0ed62d3b",
   "metadata": {},
   "source": [
    "***"
   ]
  },
  {
   "cell_type": "markdown",
   "id": "94392ed1",
   "metadata": {},
   "source": [
    "### Section 2: Dijkstra Algorithm"
   ]
  },
  {
   "cell_type": "code",
   "execution_count": 300,
   "id": "b4d19469",
   "metadata": {},
   "outputs": [
    {
     "data": {
      "text/plain": [
       "3"
      ]
     },
     "execution_count": 300,
     "metadata": {},
     "output_type": "execute_result"
    }
   ],
   "source": [
    "len(G.vertices)"
   ]
  },
  {
   "cell_type": "code",
   "execution_count": 301,
   "id": "4df8a7a1",
   "metadata": {},
   "outputs": [],
   "source": [
    "def dijkstra(w, G):\n",
    "    \n",
    "    for v in G.vertices:\n",
    "        v.estD = math.inf\n",
    "\n",
    "    w.estD = 0\n",
    "    unsureVertices = G.vertices[:]\n",
    "\n",
    "    sureVertices = []\n",
    "\n",
    "    while len(unsureVertices) > 0:\n",
    "\n",
    "        # find the u with the minimum estD in the dumbest way possible\n",
    "        u = None\n",
    "        minD = math.inf\n",
    "        for x in unsureVertices:\n",
    "            if x.estD < minD:\n",
    "                minD = x.estD\n",
    "                u = x\n",
    "\n",
    "        if u is None:\n",
    "            # then there is nothing more that I can reach\n",
    "            return\n",
    "\n",
    "        # update u's neighbors\n",
    "        for v, wt in u.getOutNeighborsWithWeights():\n",
    "\n",
    "            if v in sureVertices:\n",
    "                continue\n",
    "\n",
    "            if u.estD + wt < v.estD:\n",
    "                v.estD = u.estD + wt\n",
    "\n",
    "        unsureVertices.remove(u)\n",
    "        sureVertices.append(u)\n",
    "    \n",
    "    # that's it!  Now each vertex holds estD which is its distance from w"
   ]
  },
  {
   "cell_type": "code",
   "execution_count": 302,
   "id": "5bffc218",
   "metadata": {},
   "outputs": [
    {
     "name": "stdout",
     "output_type": "stream",
     "text": [
      "S 0\n",
      "A 3\n",
      "B 4\n"
     ]
    }
   ],
   "source": [
    "w = G.vertices[0]\n",
    "dijkstra(w, G)\n",
    "\n",
    "for v in G.vertices:\n",
    "    print(v.value, v.estD)"
   ]
  },
  {
   "cell_type": "markdown",
   "id": "0022f18f",
   "metadata": {},
   "source": [
    "***"
   ]
  },
  {
   "cell_type": "markdown",
   "id": "f9b31a04",
   "metadata": {},
   "source": [
    "### <font color='red'> Activity 1: Modify above code to do Bellman-Ford. Make sure you test for negative cycles and compare its performance with Dijkstra. </font>"
   ]
  },
  {
   "cell_type": "code",
   "execution_count": 303,
   "id": "8d176b03",
   "metadata": {},
   "outputs": [],
   "source": [
    "def bellman_ford(source, graph):\n",
    "    \"\"\" Input: source node and graph\n",
    "        Output: dictionary of distances from source to each node\n",
    "        Note: if there is a negative-weight cycle, returns None\n",
    "    \"\"\"\n",
    "\n",
    "    for node in graph.vertices:\n",
    "        node.estD = float('inf')\n",
    "    source.estD = 0\n",
    "\n",
    "    for _ in range(len(graph.vertices) - 1):\n",
    "        for u in graph.vertices:  # for each node u\n",
    "            for v, w in u.getOutNeighbors():  # for each out-neighbor v of u with weight w\n",
    "                if u.estD != float('inf') and u.estD + w < v.estD:\n",
    "                    v.estD = u.estD + w\n",
    "\n",
    "    # Check for negative-weight cycles\n",
    "    for u in graph.vertices:\n",
    "        for v, w in u.getOutNeighbors():\n",
    "            if u.estD != float('inf') and u.estD + w < v.estD:\n",
    "                print(\"Graph contains a negative-weight cycle\")\n",
    "                return None\n",
    "\n",
    "    return {node: node.estD for node in graph.vertices}\n"
   ]
  },
  {
   "cell_type": "markdown",
   "id": "2a3fa109",
   "metadata": {},
   "source": [
    "#### Test Case 1: Simple Connected Graph"
   ]
  },
  {
   "cell_type": "code",
   "execution_count": 304,
   "id": "dd4651c4",
   "metadata": {},
   "outputs": [
    {
     "name": "stdout",
     "output_type": "stream",
     "text": [
      "Distance from A to A: 0\n",
      "Distance from A to B: 1\n",
      "Distance from A to C: 3\n"
     ]
    }
   ],
   "source": [
    "G = Graph()\n",
    "for i in ['A', 'B', 'C']:\n",
    "    G.addVertex(Node(i))\n",
    "\n",
    "V = G.vertices\n",
    "\n",
    "G.addDiEdge(V[0], V[1], 1)\n",
    "G.addDiEdge(V[1], V[2], 2)\n",
    "G.addDiEdge(V[0], V[2], 4)\n",
    "\n",
    "distances = bellman_ford(V[0], G)\n",
    "\n",
    "print(\"Distance from A to A:\", distances[V[0]])\n",
    "print(\"Distance from A to B:\", distances[V[1]])\n",
    "print(\"Distance from A to C:\", distances[V[2]])"
   ]
  },
  {
   "cell_type": "markdown",
   "id": "86fb52d7",
   "metadata": {},
   "source": [
    "#### Test Case 2: Graph with Negative Weights"
   ]
  },
  {
   "cell_type": "code",
   "execution_count": 305,
   "id": "9b3b0217",
   "metadata": {},
   "outputs": [
    {
     "name": "stdout",
     "output_type": "stream",
     "text": [
      "Distance from A to A: 0\n",
      "Distance from A to B: -1\n",
      "Distance from A to C: 1\n"
     ]
    }
   ],
   "source": [
    "G = Graph()\n",
    "for i in ['A', 'B', 'C']:\n",
    "    G.addVertex(Node(i))\n",
    "\n",
    "V = G.vertices\n",
    "\n",
    "G.addDiEdge(V[0], V[1], -1)\n",
    "G.addDiEdge(V[1], V[2], 2)\n",
    "G.addDiEdge(V[0], V[2], 4)\n",
    "\n",
    "distances = bellman_ford(V[0], G)\n",
    "\n",
    "print(\"Distance from A to A:\", distances[V[0]])\n",
    "print(\"Distance from A to B:\", distances[V[1]])\n",
    "print(\"Distance from A to C:\", distances[V[2]])"
   ]
  },
  {
   "cell_type": "markdown",
   "id": "2ba7503e",
   "metadata": {},
   "source": [
    "#### Test Case 3: Graph with Negative Cycle"
   ]
  },
  {
   "cell_type": "code",
   "execution_count": 306,
   "id": "47ca7dfe",
   "metadata": {},
   "outputs": [
    {
     "name": "stdout",
     "output_type": "stream",
     "text": [
      "Graph contains a negative-weight cycle\n"
     ]
    }
   ],
   "source": [
    "G = Graph()\n",
    "for i in ['A', 'B', 'C']:\n",
    "    G.addVertex(Node(i))\n",
    "\n",
    "V = G.vertices\n",
    "\n",
    "G.addDiEdge(V[0], V[1], 1)\n",
    "G.addDiEdge(V[1], V[2], 2)\n",
    "G.addDiEdge(V[2], V[0], -4)\n",
    "\n",
    "distances = bellman_ford(V[0], G)\n",
    "\n",
    "if distances is not None:\n",
    "    print(\"Distance from A to A:\", distances[V[0]])\n",
    "    print(\"Distance from A to B:\", distances[V[1]])\n",
    "    print(\"Distance from A to C:\", distances[V[2]])"
   ]
  },
  {
   "cell_type": "markdown",
   "id": "9c64f77d",
   "metadata": {},
   "source": [
    "***"
   ]
  },
  {
   "cell_type": "markdown",
   "id": "775e90da",
   "metadata": {},
   "source": [
    "#### I learnt Unit Testing!!"
   ]
  },
  {
   "cell_type": "markdown",
   "id": "d3495129",
   "metadata": {},
   "source": [
    "### Test Case 1 - Positive Weights"
   ]
  },
  {
   "cell_type": "code",
   "execution_count": 313,
   "id": "d0fca0ce",
   "metadata": {},
   "outputs": [
    {
     "data": {
      "image/svg+xml": [
       "<?xml version=\"1.0\" encoding=\"UTF-8\" standalone=\"no\"?>\n",
       "<!DOCTYPE svg PUBLIC \"-//W3C//DTD SVG 1.1//EN\"\n",
       " \"http://www.w3.org/Graphics/SVG/1.1/DTD/svg11.dtd\">\n",
       "<!-- Generated by graphviz version 8.1.0 (20230707.0739)\n",
       " -->\n",
       "<!-- Pages: 1 -->\n",
       "<svg width=\"93pt\" height=\"220pt\"\n",
       " viewBox=\"0.00 0.00 93.00 219.50\" xmlns=\"http://www.w3.org/2000/svg\" xmlns:xlink=\"http://www.w3.org/1999/xlink\">\n",
       "<g id=\"graph0\" class=\"graph\" transform=\"scale(1 1) rotate(0) translate(4 215.5)\">\n",
       "<polygon fill=\"white\" stroke=\"none\" points=\"-4,4 -4,-215.5 89,-215.5 89,4 -4,4\"/>\n",
       "<!-- 0 -->\n",
       "<g id=\"node1\" class=\"node\">\n",
       "<title>0</title>\n",
       "<ellipse fill=\"none\" stroke=\"black\" cx=\"58\" cy=\"-193.5\" rx=\"27\" ry=\"18\"/>\n",
       "<text text-anchor=\"middle\" x=\"58\" y=\"-188.07\" font-family=\"Times New Roman,serif\" font-size=\"14.00\">0</text>\n",
       "</g>\n",
       "<!-- 1 -->\n",
       "<g id=\"node2\" class=\"node\">\n",
       "<title>1</title>\n",
       "<ellipse fill=\"none\" stroke=\"black\" cx=\"27\" cy=\"-105.75\" rx=\"27\" ry=\"18\"/>\n",
       "<text text-anchor=\"middle\" x=\"27\" y=\"-100.33\" font-family=\"Times New Roman,serif\" font-size=\"14.00\">1</text>\n",
       "</g>\n",
       "<!-- 0&#45;&gt;1 -->\n",
       "<g id=\"edge1\" class=\"edge\">\n",
       "<title>0&#45;&gt;1</title>\n",
       "<path fill=\"none\" stroke=\"black\" d=\"M51.88,-175.56C47.59,-163.7 41.77,-147.59 36.83,-133.95\"/>\n",
       "<polygon fill=\"black\" stroke=\"black\" points=\"39.8,-132.87 33.11,-124.66 33.22,-135.25 39.8,-132.87\"/>\n",
       "<text text-anchor=\"middle\" x=\"52.75\" y=\"-144.2\" font-family=\"Times New Roman,serif\" font-size=\"14.00\">10</text>\n",
       "</g>\n",
       "<!-- 2 -->\n",
       "<g id=\"node3\" class=\"node\">\n",
       "<title>2</title>\n",
       "<ellipse fill=\"none\" stroke=\"black\" cx=\"58\" cy=\"-18\" rx=\"27\" ry=\"18\"/>\n",
       "<text text-anchor=\"middle\" x=\"58\" y=\"-12.57\" font-family=\"Times New Roman,serif\" font-size=\"14.00\">2</text>\n",
       "</g>\n",
       "<!-- 0&#45;&gt;2 -->\n",
       "<g id=\"edge3\" class=\"edge\">\n",
       "<title>0&#45;&gt;2</title>\n",
       "<path fill=\"none\" stroke=\"black\" d=\"M60.93,-175.46C61.77,-169.77 62.58,-163.38 63,-157.5 66.26,-111.62 66.26,-99.88 63,-54 62.83,-51.61 62.6,-49.14 62.32,-46.66\"/>\n",
       "<polygon fill=\"black\" stroke=\"black\" points=\"65.7,-46.5 60.93,-37.04 58.76,-47.41 65.7,-46.5\"/>\n",
       "<text text-anchor=\"middle\" x=\"72.75\" y=\"-100.33\" font-family=\"Times New Roman,serif\" font-size=\"14.00\">30</text>\n",
       "</g>\n",
       "<!-- 1&#45;&gt;2 -->\n",
       "<g id=\"edge2\" class=\"edge\">\n",
       "<title>1&#45;&gt;2</title>\n",
       "<path fill=\"none\" stroke=\"black\" d=\"M33.12,-87.81C37.41,-75.95 43.23,-59.84 48.17,-46.2\"/>\n",
       "<polygon fill=\"black\" stroke=\"black\" points=\"51.78,-47.5 51.89,-36.91 45.2,-45.12 51.78,-47.5\"/>\n",
       "<text text-anchor=\"middle\" x=\"52.75\" y=\"-56.45\" font-family=\"Times New Roman,serif\" font-size=\"14.00\">20</text>\n",
       "</g>\n",
       "</g>\n",
       "</svg>\n"
      ],
      "text/plain": [
       "<graphviz.graphs.Digraph at 0x1b1ac774c10>"
      ]
     },
     "execution_count": 313,
     "metadata": {},
     "output_type": "execute_result"
    }
   ],
   "source": [
    "dot1 = Digraph()\n",
    "dot1.edge('0', '1', label='10')\n",
    "dot1.edge('1', '2', label='20')\n",
    "dot1.edge('0', '2', label='30')\n",
    "dot1"
   ]
  },
  {
   "cell_type": "markdown",
   "id": "9ce1f07a",
   "metadata": {},
   "source": [
    "### Test Case 2 - Negative Weights"
   ]
  },
  {
   "cell_type": "code",
   "execution_count": 314,
   "id": "6b64272e",
   "metadata": {},
   "outputs": [
    {
     "data": {
      "image/svg+xml": [
       "<?xml version=\"1.0\" encoding=\"UTF-8\" standalone=\"no\"?>\n",
       "<!DOCTYPE svg PUBLIC \"-//W3C//DTD SVG 1.1//EN\"\n",
       " \"http://www.w3.org/Graphics/SVG/1.1/DTD/svg11.dtd\">\n",
       "<!-- Generated by graphviz version 8.1.0 (20230707.0739)\n",
       " -->\n",
       "<!-- Pages: 1 -->\n",
       "<svg width=\"93pt\" height=\"220pt\"\n",
       " viewBox=\"0.00 0.00 93.00 219.50\" xmlns=\"http://www.w3.org/2000/svg\" xmlns:xlink=\"http://www.w3.org/1999/xlink\">\n",
       "<g id=\"graph0\" class=\"graph\" transform=\"scale(1 1) rotate(0) translate(4 215.5)\">\n",
       "<polygon fill=\"white\" stroke=\"none\" points=\"-4,4 -4,-215.5 89,-215.5 89,4 -4,4\"/>\n",
       "<!-- 0 -->\n",
       "<g id=\"node1\" class=\"node\">\n",
       "<title>0</title>\n",
       "<ellipse fill=\"none\" stroke=\"black\" cx=\"58\" cy=\"-193.5\" rx=\"27\" ry=\"18\"/>\n",
       "<text text-anchor=\"middle\" x=\"58\" y=\"-188.07\" font-family=\"Times New Roman,serif\" font-size=\"14.00\">0</text>\n",
       "</g>\n",
       "<!-- 1 -->\n",
       "<g id=\"node2\" class=\"node\">\n",
       "<title>1</title>\n",
       "<ellipse fill=\"none\" stroke=\"black\" cx=\"27\" cy=\"-105.75\" rx=\"27\" ry=\"18\"/>\n",
       "<text text-anchor=\"middle\" x=\"27\" y=\"-100.33\" font-family=\"Times New Roman,serif\" font-size=\"14.00\">1</text>\n",
       "</g>\n",
       "<!-- 0&#45;&gt;1 -->\n",
       "<g id=\"edge1\" class=\"edge\">\n",
       "<title>0&#45;&gt;1</title>\n",
       "<path fill=\"none\" stroke=\"black\" d=\"M51.88,-175.56C47.59,-163.7 41.77,-147.59 36.83,-133.95\"/>\n",
       "<polygon fill=\"black\" stroke=\"black\" points=\"39.8,-132.87 33.11,-124.66 33.22,-135.25 39.8,-132.87\"/>\n",
       "<text text-anchor=\"middle\" x=\"52.75\" y=\"-144.2\" font-family=\"Times New Roman,serif\" font-size=\"14.00\">10</text>\n",
       "</g>\n",
       "<!-- 2 -->\n",
       "<g id=\"node3\" class=\"node\">\n",
       "<title>2</title>\n",
       "<ellipse fill=\"none\" stroke=\"black\" cx=\"58\" cy=\"-18\" rx=\"27\" ry=\"18\"/>\n",
       "<text text-anchor=\"middle\" x=\"58\" y=\"-12.57\" font-family=\"Times New Roman,serif\" font-size=\"14.00\">2</text>\n",
       "</g>\n",
       "<!-- 0&#45;&gt;2 -->\n",
       "<g id=\"edge3\" class=\"edge\">\n",
       "<title>0&#45;&gt;2</title>\n",
       "<path fill=\"none\" stroke=\"black\" d=\"M61.55,-175.36C66.46,-149.12 74.09,-97.45 68,-54 67.65,-51.47 67.15,-48.86 66.57,-46.26\"/>\n",
       "<polygon fill=\"black\" stroke=\"black\" points=\"69.77,-45.67 63.85,-36.89 63,-47.45 69.77,-45.67\"/>\n",
       "<text text-anchor=\"middle\" x=\"77.75\" y=\"-100.33\" font-family=\"Times New Roman,serif\" font-size=\"14.00\">30</text>\n",
       "</g>\n",
       "<!-- 1&#45;&gt;2 -->\n",
       "<g id=\"edge2\" class=\"edge\">\n",
       "<title>1&#45;&gt;2</title>\n",
       "<path fill=\"none\" stroke=\"black\" d=\"M33.12,-87.81C37.41,-75.95 43.23,-59.84 48.17,-46.2\"/>\n",
       "<polygon fill=\"black\" stroke=\"black\" points=\"51.78,-47.5 51.89,-36.91 45.2,-45.12 51.78,-47.5\"/>\n",
       "<text text-anchor=\"middle\" x=\"55\" y=\"-56.45\" font-family=\"Times New Roman,serif\" font-size=\"14.00\">&#45;15</text>\n",
       "</g>\n",
       "</g>\n",
       "</svg>\n"
      ],
      "text/plain": [
       "<graphviz.graphs.Digraph at 0x1b1aca1a990>"
      ]
     },
     "execution_count": 314,
     "metadata": {},
     "output_type": "execute_result"
    }
   ],
   "source": [
    "# Test Case 2\n",
    "dot2 = Digraph()\n",
    "dot2.edge('0', '1', label='10')\n",
    "dot2.edge('1', '2', label='-15')\n",
    "dot2.edge('0', '2', label='30')\n",
    "dot2"
   ]
  },
  {
   "cell_type": "markdown",
   "id": "2315f56d",
   "metadata": {},
   "source": [
    "### Test Case 3 - Negative Cycle"
   ]
  },
  {
   "cell_type": "code",
   "execution_count": 315,
   "id": "75e7e59d",
   "metadata": {},
   "outputs": [
    {
     "data": {
      "image/svg+xml": [
       "<?xml version=\"1.0\" encoding=\"UTF-8\" standalone=\"no\"?>\n",
       "<!DOCTYPE svg PUBLIC \"-//W3C//DTD SVG 1.1//EN\"\n",
       " \"http://www.w3.org/Graphics/SVG/1.1/DTD/svg11.dtd\">\n",
       "<!-- Generated by graphviz version 8.1.0 (20230707.0739)\n",
       " -->\n",
       "<!-- Pages: 1 -->\n",
       "<svg width=\"93pt\" height=\"220pt\"\n",
       " viewBox=\"0.00 0.00 93.00 219.50\" xmlns=\"http://www.w3.org/2000/svg\" xmlns:xlink=\"http://www.w3.org/1999/xlink\">\n",
       "<g id=\"graph0\" class=\"graph\" transform=\"scale(1 1) rotate(0) translate(4 215.5)\">\n",
       "<polygon fill=\"white\" stroke=\"none\" points=\"-4,4 -4,-215.5 89,-215.5 89,4 -4,4\"/>\n",
       "<!-- 0 -->\n",
       "<g id=\"node1\" class=\"node\">\n",
       "<title>0</title>\n",
       "<ellipse fill=\"none\" stroke=\"black\" cx=\"58\" cy=\"-193.5\" rx=\"27\" ry=\"18\"/>\n",
       "<text text-anchor=\"middle\" x=\"58\" y=\"-188.07\" font-family=\"Times New Roman,serif\" font-size=\"14.00\">0</text>\n",
       "</g>\n",
       "<!-- 1 -->\n",
       "<g id=\"node2\" class=\"node\">\n",
       "<title>1</title>\n",
       "<ellipse fill=\"none\" stroke=\"black\" cx=\"27\" cy=\"-105.75\" rx=\"27\" ry=\"18\"/>\n",
       "<text text-anchor=\"middle\" x=\"27\" y=\"-100.33\" font-family=\"Times New Roman,serif\" font-size=\"14.00\">1</text>\n",
       "</g>\n",
       "<!-- 0&#45;&gt;1 -->\n",
       "<g id=\"edge1\" class=\"edge\">\n",
       "<title>0&#45;&gt;1</title>\n",
       "<path fill=\"none\" stroke=\"black\" d=\"M51.88,-175.56C47.59,-163.7 41.77,-147.59 36.83,-133.95\"/>\n",
       "<polygon fill=\"black\" stroke=\"black\" points=\"39.8,-132.87 33.11,-124.66 33.22,-135.25 39.8,-132.87\"/>\n",
       "<text text-anchor=\"middle\" x=\"52.75\" y=\"-144.2\" font-family=\"Times New Roman,serif\" font-size=\"14.00\">10</text>\n",
       "</g>\n",
       "<!-- 2 -->\n",
       "<g id=\"node3\" class=\"node\">\n",
       "<title>2</title>\n",
       "<ellipse fill=\"none\" stroke=\"black\" cx=\"58\" cy=\"-18\" rx=\"27\" ry=\"18\"/>\n",
       "<text text-anchor=\"middle\" x=\"58\" y=\"-12.57\" font-family=\"Times New Roman,serif\" font-size=\"14.00\">2</text>\n",
       "</g>\n",
       "<!-- 1&#45;&gt;2 -->\n",
       "<g id=\"edge2\" class=\"edge\">\n",
       "<title>1&#45;&gt;2</title>\n",
       "<path fill=\"none\" stroke=\"black\" d=\"M33.12,-87.81C37.41,-75.95 43.23,-59.84 48.17,-46.2\"/>\n",
       "<polygon fill=\"black\" stroke=\"black\" points=\"51.78,-47.5 51.89,-36.91 45.2,-45.12 51.78,-47.5\"/>\n",
       "<text text-anchor=\"middle\" x=\"55\" y=\"-56.45\" font-family=\"Times New Roman,serif\" font-size=\"14.00\">&#45;15</text>\n",
       "</g>\n",
       "<!-- 2&#45;&gt;0 -->\n",
       "<g id=\"edge3\" class=\"edge\">\n",
       "<title>2&#45;&gt;0</title>\n",
       "<path fill=\"none\" stroke=\"black\" d=\"M63.85,-35.89C65.54,-41.57 67.16,-47.99 68,-54 73.35,-92.19 68.11,-136.73 63.42,-164.77\"/>\n",
       "<polygon fill=\"black\" stroke=\"black\" points=\"59.85,-163.91 61.55,-174.36 66.74,-165.13 59.85,-163.91\"/>\n",
       "<text text-anchor=\"middle\" x=\"76.62\" y=\"-100.33\" font-family=\"Times New Roman,serif\" font-size=\"14.00\">&#45;5</text>\n",
       "</g>\n",
       "</g>\n",
       "</svg>\n"
      ],
      "text/plain": [
       "<graphviz.graphs.Digraph at 0x1b1aca20ad0>"
      ]
     },
     "execution_count": 315,
     "metadata": {},
     "output_type": "execute_result"
    }
   ],
   "source": [
    "# Test Case 3\n",
    "dot3 = Digraph()\n",
    "dot3.edge('0', '1', label='10')\n",
    "dot3.edge('1', '2', label='-15')\n",
    "dot3.edge('2', '0', label='-5')\n",
    "dot3"
   ]
  },
  {
   "cell_type": "code",
   "execution_count": 307,
   "id": "4fa5547c",
   "metadata": {},
   "outputs": [
    {
     "name": "stderr",
     "output_type": "stream",
     "text": [
      "test_negative_cycle (__main__.TestBellmanFord.test_negative_cycle) ... ok\n",
      "test_negative_weights (__main__.TestBellmanFord.test_negative_weights) ... ok\n",
      "test_positive_weights (__main__.TestBellmanFord.test_positive_weights) ... ok\n",
      "\n",
      "----------------------------------------------------------------------\n",
      "Ran 3 tests in 0.003s\n",
      "\n",
      "OK\n"
     ]
    },
    {
     "name": "stdout",
     "output_type": "stream",
     "text": [
      "Graph contains a negative-weight cycle\n"
     ]
    },
    {
     "data": {
      "text/plain": [
       "<unittest.runner.TextTestResult run=3 errors=0 failures=0>"
      ]
     },
     "execution_count": 307,
     "metadata": {},
     "output_type": "execute_result"
    }
   ],
   "source": [
    "import unittest\n",
    "\n",
    "class TestBellmanFord(unittest.TestCase):\n",
    "\n",
    "    def test_positive_weights(self):\n",
    "        G = Graph()\n",
    "        for i in ['0', '1', '2']:\n",
    "            G.addVertex(Node(i))\n",
    "        V = G.vertices\n",
    "        G.addDiEdge(V[0], V[1], 10)\n",
    "        G.addDiEdge(V[1], V[2], 20)\n",
    "        G.addDiEdge(V[0], V[2], 30)\n",
    "        expected_output = {V[0]: 0, V[1]: 10, V[2]: 30}\n",
    "        self.assertDictEqual(bellman_ford(V[0], G), expected_output)\n",
    "\n",
    "    def test_negative_weights(self):\n",
    "        G = Graph()\n",
    "        for i in ['0', '1', '2']:\n",
    "            G.addVertex(Node(i))\n",
    "        V = G.vertices\n",
    "        G.addDiEdge(V[0], V[1], 10)\n",
    "        G.addDiEdge(V[1], V[2], -15)\n",
    "        G.addDiEdge(V[0], V[2], 30)\n",
    "        expected_output = {V[0]: 0, V[1]: 10, V[2]: -5}\n",
    "        self.assertDictEqual(bellman_ford(V[0], G), expected_output)\n",
    "\n",
    "    def test_negative_cycle(self):\n",
    "        G = Graph()\n",
    "        for i in ['0', '1', '2']:\n",
    "            G.addVertex(Node(i))\n",
    "        V = G.vertices\n",
    "        G.addDiEdge(V[0], V[1], 10)\n",
    "        G.addDiEdge(V[1], V[2], -15)\n",
    "        G.addDiEdge(V[2], V[0], -5)\n",
    "        self.assertIsNone(bellman_ford(V[0], G))\n",
    "\n",
    "# Create a test suite\n",
    "suite = unittest.TestLoader().loadTestsFromTestCase(TestBellmanFord)\n",
    "\n",
    "# Run the test suite and print the results\n",
    "runner = unittest.TextTestRunner(verbosity=2)\n",
    "runner.run(suite)"
   ]
  },
  {
   "cell_type": "markdown",
   "id": "ebd772d0",
   "metadata": {},
   "source": [
    "### <font color='red'> Activity 2: Implement Floyd-Warshal algorithm using above data structure (that is Node and Graph). Make sure to test all the use-cases. </font>"
   ]
  },
  {
   "cell_type": "code",
   "execution_count": 308,
   "id": "edf0acbd",
   "metadata": {},
   "outputs": [],
   "source": [
    "import itertools\n",
    "def Floyd_Warshall(G):\n",
    "    # Initialize the distance matrix\n",
    "    n = len(G.vertices)\n",
    "    distance = [[float('inf') for _ in range(n)] for _ in range(n)]\n",
    "\n",
    "    # Set the distance from a vertex to itself to 0\n",
    "    for i in range(n):\n",
    "        distance[i][i] = 0\n",
    "\n",
    "    # Set the distance for each edge in the graph\n",
    "    for u in G.vertices:\n",
    "        for v, wt in u.getOutNeighborsWithWeights():\n",
    "            distance[u.index][v.index] = wt\n",
    "\n",
    "    # Compute the shortest path between all pairs of vertices\n",
    "    for k in range(n):\n",
    "        for i, j in itertools.product(range(n), range(n)):\n",
    "            distance[i][j] = min(distance[i][j], distance[i][k] + distance[k][j])\n",
    "        # Check for negative-weight cycle\n",
    "        if any(distance[i][i] < 0 for i in range(n)):\n",
    "            raise ValueError(\"Graph contains a negative-weight cycle\")\n",
    "\n",
    "    return distance"
   ]
  },
  {
   "cell_type": "markdown",
   "id": "00301ff2",
   "metadata": {},
   "source": [
    "### Test Case 1 - Positive Weights"
   ]
  },
  {
   "cell_type": "code",
   "execution_count": 316,
   "id": "ab90dc14",
   "metadata": {},
   "outputs": [
    {
     "data": {
      "image/svg+xml": [
       "<?xml version=\"1.0\" encoding=\"UTF-8\" standalone=\"no\"?>\n",
       "<!DOCTYPE svg PUBLIC \"-//W3C//DTD SVG 1.1//EN\"\n",
       " \"http://www.w3.org/Graphics/SVG/1.1/DTD/svg11.dtd\">\n",
       "<!-- Generated by graphviz version 8.1.0 (20230707.0739)\n",
       " -->\n",
       "<!-- Pages: 1 -->\n",
       "<svg width=\"94pt\" height=\"220pt\"\n",
       " viewBox=\"0.00 0.00 94.00 219.50\" xmlns=\"http://www.w3.org/2000/svg\" xmlns:xlink=\"http://www.w3.org/1999/xlink\">\n",
       "<g id=\"graph0\" class=\"graph\" transform=\"scale(1 1) rotate(0) translate(4 215.5)\">\n",
       "<polygon fill=\"white\" stroke=\"none\" points=\"-4,4 -4,-215.5 90,-215.5 90,4 -4,4\"/>\n",
       "<!-- A -->\n",
       "<g id=\"node1\" class=\"node\">\n",
       "<title>A</title>\n",
       "<ellipse fill=\"none\" stroke=\"black\" cx=\"59\" cy=\"-193.5\" rx=\"27\" ry=\"18\"/>\n",
       "<text text-anchor=\"middle\" x=\"59\" y=\"-188.07\" font-family=\"Times New Roman,serif\" font-size=\"14.00\">A</text>\n",
       "</g>\n",
       "<!-- B -->\n",
       "<g id=\"node2\" class=\"node\">\n",
       "<title>B</title>\n",
       "<ellipse fill=\"none\" stroke=\"black\" cx=\"27\" cy=\"-105.75\" rx=\"27\" ry=\"18\"/>\n",
       "<text text-anchor=\"middle\" x=\"27\" y=\"-100.33\" font-family=\"Times New Roman,serif\" font-size=\"14.00\">B</text>\n",
       "</g>\n",
       "<!-- A&#45;&gt;B -->\n",
       "<g id=\"edge1\" class=\"edge\">\n",
       "<title>A&#45;&gt;B</title>\n",
       "<path fill=\"none\" stroke=\"black\" d=\"M52.68,-175.56C48.25,-163.7 42.24,-147.59 37.15,-133.95\"/>\n",
       "<polygon fill=\"black\" stroke=\"black\" points=\"40.08,-132.8 33.31,-124.66 33.53,-135.25 40.08,-132.8\"/>\n",
       "<text text-anchor=\"middle\" x=\"49.38\" y=\"-144.2\" font-family=\"Times New Roman,serif\" font-size=\"14.00\">1</text>\n",
       "</g>\n",
       "<!-- C -->\n",
       "<g id=\"node3\" class=\"node\">\n",
       "<title>C</title>\n",
       "<ellipse fill=\"none\" stroke=\"black\" cx=\"59\" cy=\"-18\" rx=\"27\" ry=\"18\"/>\n",
       "<text text-anchor=\"middle\" x=\"59\" y=\"-12.57\" font-family=\"Times New Roman,serif\" font-size=\"14.00\">C</text>\n",
       "</g>\n",
       "<!-- A&#45;&gt;C -->\n",
       "<g id=\"edge3\" class=\"edge\">\n",
       "<title>A&#45;&gt;C</title>\n",
       "<path fill=\"none\" stroke=\"black\" d=\"M60.28,-175.28C61.25,-161.38 62.49,-141.32 63,-123.75 63.46,-107.76 63.46,-103.74 63,-87.75 62.61,-74.3 61.79,-59.39 60.99,-46.9\"/>\n",
       "<polygon fill=\"black\" stroke=\"black\" points=\"64.44,-46.97 60.28,-37.22 57.45,-47.43 64.44,-46.97\"/>\n",
       "<text text-anchor=\"middle\" x=\"67.38\" y=\"-100.33\" font-family=\"Times New Roman,serif\" font-size=\"14.00\">4</text>\n",
       "</g>\n",
       "<!-- B&#45;&gt;C -->\n",
       "<g id=\"edge2\" class=\"edge\">\n",
       "<title>B&#45;&gt;C</title>\n",
       "<path fill=\"none\" stroke=\"black\" d=\"M33.32,-87.81C37.75,-75.95 43.76,-59.84 48.85,-46.2\"/>\n",
       "<polygon fill=\"black\" stroke=\"black\" points=\"52.47,-47.5 52.69,-36.91 45.92,-45.05 52.47,-47.5\"/>\n",
       "<text text-anchor=\"middle\" x=\"49.38\" y=\"-56.45\" font-family=\"Times New Roman,serif\" font-size=\"14.00\">2</text>\n",
       "</g>\n",
       "</g>\n",
       "</svg>\n"
      ],
      "text/plain": [
       "<graphviz.graphs.Digraph at 0x1b1aca21410>"
      ]
     },
     "execution_count": 316,
     "metadata": {},
     "output_type": "execute_result"
    }
   ],
   "source": [
    "# dot1\n",
    "dot1 = Digraph()\n",
    "dot1.edge('A', 'B', label='1')\n",
    "dot1.edge('B', 'C', label='2')\n",
    "dot1.edge('A', 'C', label='4')\n",
    "dot1"
   ]
  },
  {
   "cell_type": "markdown",
   "id": "59f4ebda",
   "metadata": {},
   "source": [
    "### Test Case 2 - Negative Weights"
   ]
  },
  {
   "cell_type": "code",
   "execution_count": 319,
   "id": "77920894",
   "metadata": {},
   "outputs": [
    {
     "data": {
      "image/svg+xml": [
       "<?xml version=\"1.0\" encoding=\"UTF-8\" standalone=\"no\"?>\n",
       "<!DOCTYPE svg PUBLIC \"-//W3C//DTD SVG 1.1//EN\"\n",
       " \"http://www.w3.org/Graphics/SVG/1.1/DTD/svg11.dtd\">\n",
       "<!-- Generated by graphviz version 8.1.0 (20230707.0739)\n",
       " -->\n",
       "<!-- Pages: 1 -->\n",
       "<svg width=\"109pt\" height=\"220pt\"\n",
       " viewBox=\"0.00 0.00 109.00 219.50\" xmlns=\"http://www.w3.org/2000/svg\" xmlns:xlink=\"http://www.w3.org/1999/xlink\">\n",
       "<g id=\"graph0\" class=\"graph\" transform=\"scale(1 1) rotate(0) translate(4 215.5)\">\n",
       "<polygon fill=\"white\" stroke=\"none\" points=\"-4,4 -4,-215.5 105,-215.5 105,4 -4,4\"/>\n",
       "<!-- A -->\n",
       "<g id=\"node1\" class=\"node\">\n",
       "<title>A</title>\n",
       "<ellipse fill=\"none\" stroke=\"black\" cx=\"74\" cy=\"-193.5\" rx=\"27\" ry=\"18\"/>\n",
       "<text text-anchor=\"middle\" x=\"74\" y=\"-188.07\" font-family=\"Times New Roman,serif\" font-size=\"14.00\">A</text>\n",
       "</g>\n",
       "<!-- B -->\n",
       "<g id=\"node2\" class=\"node\">\n",
       "<title>B</title>\n",
       "<ellipse fill=\"none\" stroke=\"black\" cx=\"27\" cy=\"-105.75\" rx=\"27\" ry=\"18\"/>\n",
       "<text text-anchor=\"middle\" x=\"27\" y=\"-100.33\" font-family=\"Times New Roman,serif\" font-size=\"14.00\">B</text>\n",
       "</g>\n",
       "<!-- A&#45;&gt;B -->\n",
       "<g id=\"edge1\" class=\"edge\">\n",
       "<title>A&#45;&gt;B</title>\n",
       "<path fill=\"none\" stroke=\"black\" d=\"M65.16,-176.37C58.38,-163.99 48.88,-146.66 41.05,-132.39\"/>\n",
       "<polygon fill=\"black\" stroke=\"black\" points=\"43.84,-131.19 35.96,-124.1 37.7,-134.55 43.84,-131.19\"/>\n",
       "<text text-anchor=\"middle\" x=\"60.62\" y=\"-144.2\" font-family=\"Times New Roman,serif\" font-size=\"14.00\">&#45;1</text>\n",
       "</g>\n",
       "<!-- C -->\n",
       "<g id=\"node3\" class=\"node\">\n",
       "<title>C</title>\n",
       "<ellipse fill=\"none\" stroke=\"black\" cx=\"59\" cy=\"-18\" rx=\"27\" ry=\"18\"/>\n",
       "<text text-anchor=\"middle\" x=\"59\" y=\"-12.57\" font-family=\"Times New Roman,serif\" font-size=\"14.00\">C</text>\n",
       "</g>\n",
       "<!-- A&#45;&gt;C -->\n",
       "<g id=\"edge3\" class=\"edge\">\n",
       "<title>A&#45;&gt;C</title>\n",
       "<path fill=\"none\" stroke=\"black\" d=\"M72.68,-175.11C71.92,-165.31 70.93,-152.85 70,-141.75 67.26,-109.17 63.87,-71.75 61.58,-46.88\"/>\n",
       "<polygon fill=\"black\" stroke=\"black\" points=\"64.99,-46.71 60.59,-37.07 58.02,-47.35 64.99,-46.71\"/>\n",
       "<text text-anchor=\"middle\" x=\"73.62\" y=\"-100.33\" font-family=\"Times New Roman,serif\" font-size=\"14.00\">&#45;3</text>\n",
       "</g>\n",
       "<!-- B&#45;&gt;C -->\n",
       "<g id=\"edge2\" class=\"edge\">\n",
       "<title>B&#45;&gt;C</title>\n",
       "<path fill=\"none\" stroke=\"black\" d=\"M33.32,-87.81C37.75,-75.95 43.76,-59.84 48.85,-46.2\"/>\n",
       "<polygon fill=\"black\" stroke=\"black\" points=\"52.47,-47.5 52.69,-36.91 45.92,-45.05 52.47,-47.5\"/>\n",
       "<text text-anchor=\"middle\" x=\"51.62\" y=\"-56.45\" font-family=\"Times New Roman,serif\" font-size=\"14.00\">&#45;2</text>\n",
       "</g>\n",
       "</g>\n",
       "</svg>\n"
      ],
      "text/plain": [
       "<graphviz.graphs.Digraph at 0x1b1ac9c6f90>"
      ]
     },
     "execution_count": 319,
     "metadata": {},
     "output_type": "execute_result"
    }
   ],
   "source": [
    "# dot2\n",
    "dot2 = Digraph()\n",
    "dot2.edge('A', 'B', label='-1')\n",
    "dot2.edge('B', 'C', label='-2')\n",
    "dot2.edge('A', 'C', label='-3')\n",
    "dot2"
   ]
  },
  {
   "cell_type": "markdown",
   "id": "b30eaee4",
   "metadata": {},
   "source": [
    "### Test Case 3 - Negative Cycle"
   ]
  },
  {
   "cell_type": "code",
   "execution_count": 317,
   "id": "05719d3c",
   "metadata": {},
   "outputs": [
    {
     "data": {
      "image/svg+xml": [
       "<?xml version=\"1.0\" encoding=\"UTF-8\" standalone=\"no\"?>\n",
       "<!DOCTYPE svg PUBLIC \"-//W3C//DTD SVG 1.1//EN\"\n",
       " \"http://www.w3.org/Graphics/SVG/1.1/DTD/svg11.dtd\">\n",
       "<!-- Generated by graphviz version 8.1.0 (20230707.0739)\n",
       " -->\n",
       "<!-- Pages: 1 -->\n",
       "<svg width=\"109pt\" height=\"220pt\"\n",
       " viewBox=\"0.00 0.00 109.00 219.50\" xmlns=\"http://www.w3.org/2000/svg\" xmlns:xlink=\"http://www.w3.org/1999/xlink\">\n",
       "<g id=\"graph0\" class=\"graph\" transform=\"scale(1 1) rotate(0) translate(4 215.5)\">\n",
       "<polygon fill=\"white\" stroke=\"none\" points=\"-4,4 -4,-215.5 105,-215.5 105,4 -4,4\"/>\n",
       "<!-- A -->\n",
       "<g id=\"node1\" class=\"node\">\n",
       "<title>A</title>\n",
       "<ellipse fill=\"none\" stroke=\"black\" cx=\"74\" cy=\"-193.5\" rx=\"27\" ry=\"18\"/>\n",
       "<text text-anchor=\"middle\" x=\"74\" y=\"-188.07\" font-family=\"Times New Roman,serif\" font-size=\"14.00\">A</text>\n",
       "</g>\n",
       "<!-- B -->\n",
       "<g id=\"node2\" class=\"node\">\n",
       "<title>B</title>\n",
       "<ellipse fill=\"none\" stroke=\"black\" cx=\"27\" cy=\"-105.75\" rx=\"27\" ry=\"18\"/>\n",
       "<text text-anchor=\"middle\" x=\"27\" y=\"-100.33\" font-family=\"Times New Roman,serif\" font-size=\"14.00\">B</text>\n",
       "</g>\n",
       "<!-- A&#45;&gt;B -->\n",
       "<g id=\"edge1\" class=\"edge\">\n",
       "<title>A&#45;&gt;B</title>\n",
       "<path fill=\"none\" stroke=\"black\" d=\"M65.16,-176.37C58.38,-163.99 48.88,-146.66 41.05,-132.39\"/>\n",
       "<polygon fill=\"black\" stroke=\"black\" points=\"43.84,-131.19 35.96,-124.1 37.7,-134.55 43.84,-131.19\"/>\n",
       "<text text-anchor=\"middle\" x=\"60.62\" y=\"-144.2\" font-family=\"Times New Roman,serif\" font-size=\"14.00\">&#45;1</text>\n",
       "</g>\n",
       "<!-- C -->\n",
       "<g id=\"node3\" class=\"node\">\n",
       "<title>C</title>\n",
       "<ellipse fill=\"none\" stroke=\"black\" cx=\"59\" cy=\"-18\" rx=\"27\" ry=\"18\"/>\n",
       "<text text-anchor=\"middle\" x=\"59\" y=\"-12.57\" font-family=\"Times New Roman,serif\" font-size=\"14.00\">C</text>\n",
       "</g>\n",
       "<!-- B&#45;&gt;C -->\n",
       "<g id=\"edge2\" class=\"edge\">\n",
       "<title>B&#45;&gt;C</title>\n",
       "<path fill=\"none\" stroke=\"black\" d=\"M33.32,-87.81C37.75,-75.95 43.76,-59.84 48.85,-46.2\"/>\n",
       "<polygon fill=\"black\" stroke=\"black\" points=\"52.47,-47.5 52.69,-36.91 45.92,-45.05 52.47,-47.5\"/>\n",
       "<text text-anchor=\"middle\" x=\"51.62\" y=\"-56.45\" font-family=\"Times New Roman,serif\" font-size=\"14.00\">&#45;2</text>\n",
       "</g>\n",
       "<!-- C&#45;&gt;A -->\n",
       "<g id=\"edge3\" class=\"edge\">\n",
       "<title>C&#45;&gt;A</title>\n",
       "<path fill=\"none\" stroke=\"black\" d=\"M60.59,-36.07C62.78,-59.78 66.82,-104.01 70,-141.75 70.61,-149.03 71.25,-156.9 71.83,-164.23\"/>\n",
       "<polygon fill=\"black\" stroke=\"black\" points=\"68.41,-164.42 72.68,-174.11 75.39,-163.87 68.41,-164.42\"/>\n",
       "<text text-anchor=\"middle\" x=\"73.62\" y=\"-100.33\" font-family=\"Times New Roman,serif\" font-size=\"14.00\">&#45;3</text>\n",
       "</g>\n",
       "</g>\n",
       "</svg>\n"
      ],
      "text/plain": [
       "<graphviz.graphs.Digraph at 0x1b1ac9f66d0>"
      ]
     },
     "execution_count": 317,
     "metadata": {},
     "output_type": "execute_result"
    }
   ],
   "source": [
    "# dot3\n",
    "dot3 = Digraph()\n",
    "dot3.edge('A', 'B', label='-1')\n",
    "dot3.edge('B', 'C', label='-2')\n",
    "dot3.edge('C', 'A', label='-3')\n",
    "dot3"
   ]
  },
  {
   "cell_type": "code",
   "execution_count": 309,
   "id": "63ff70c1",
   "metadata": {},
   "outputs": [
    {
     "name": "stderr",
     "output_type": "stream",
     "text": [
      "test_negative_cycle (__main__.TestFloydWarshall.test_negative_cycle) ... ok\n",
      "test_negative_weights (__main__.TestFloydWarshall.test_negative_weights) ... ok\n",
      "test_positive_weights (__main__.TestFloydWarshall.test_positive_weights) ... ok\n",
      "\n",
      "----------------------------------------------------------------------\n",
      "Ran 3 tests in 0.003s\n",
      "\n",
      "OK\n"
     ]
    },
    {
     "data": {
      "text/plain": [
       "<unittest.runner.TextTestResult run=3 errors=0 failures=0>"
      ]
     },
     "execution_count": 309,
     "metadata": {},
     "output_type": "execute_result"
    }
   ],
   "source": [
    "import unittest\n",
    "\n",
    "class TestFloydWarshall(unittest.TestCase):\n",
    "\n",
    "    def test_positive_weights(self):\n",
    "        G = Graph()\n",
    "        for i in ['A', 'B', 'C']:\n",
    "            G.addVertex(Node(i))\n",
    "        V = G.vertices\n",
    "        G.addDiEdge(V[0], V[1], 1)\n",
    "        G.addDiEdge(V[1], V[2], 2)\n",
    "        G.addDiEdge(V[0], V[2], 4)\n",
    "        expected_output = [[0, 1, 3], [float('inf'), 0, 2], [float('inf'), float('inf'), 0]]\n",
    "        self.assertListEqual(Floyd_Warshall(G), expected_output)\n",
    "\n",
    "    def test_negative_weights(self):\n",
    "        G = Graph()\n",
    "        for i in ['A', 'B', 'C']:\n",
    "            G.addVertex(Node(i))\n",
    "        V = G.vertices\n",
    "        G.addDiEdge(V[0], V[1], -1)\n",
    "        G.addDiEdge(V[1], V[2], -2)\n",
    "        G.addDiEdge(V[0], V[2], -3)\n",
    "        expected_output = [[0, -1, -3], [float('inf'), 0, -2], [float('inf'), float('inf'), 0]]\n",
    "        self.assertListEqual(Floyd_Warshall(G), expected_output)\n",
    "\n",
    "    def test_negative_cycle(self):\n",
    "        G = Graph()\n",
    "        for i in ['A', 'B', 'C']:\n",
    "            G.addVertex(Node(i))\n",
    "        V = G.vertices\n",
    "        G.addDiEdge(V[0], V[1], -1)\n",
    "        G.addDiEdge(V[1], V[2], -2)\n",
    "        G.addDiEdge(V[2], V[0], -3)\n",
    "        self.assertRaises(ValueError, Floyd_Warshall, G)\n",
    "\n",
    "# Create a test suite\n",
    "suite = unittest.TestLoader().loadTestsFromTestCase(TestFloydWarshall)\n",
    "\n",
    "# Run the test suite and print the results\n",
    "runner = unittest.TextTestRunner(verbosity=2)\n",
    "runner.run(suite)"
   ]
  }
 ],
 "metadata": {
  "kernelspec": {
   "display_name": "Python 3 (ipykernel)",
   "language": "python",
   "name": "python3"
  },
  "language_info": {
   "codemirror_mode": {
    "name": "ipython",
    "version": 3
   },
   "file_extension": ".py",
   "mimetype": "text/x-python",
   "name": "python",
   "nbconvert_exporter": "python",
   "pygments_lexer": "ipython3",
   "version": "3.11.3"
  }
 },
 "nbformat": 4,
 "nbformat_minor": 5
}
