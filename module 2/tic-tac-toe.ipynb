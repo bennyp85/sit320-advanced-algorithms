{
 "cells": [
  {
   "cell_type": "markdown",
   "metadata": {},
   "source": [
    "# Tic-Tac-Toe with Dependence Inversion, Open-Close and Liskov Substitution Principles"
   ]
  },
  {
   "cell_type": "markdown",
   "metadata": {},
   "source": [
    "## Board"
   ]
  },
  {
   "cell_type": "code",
   "execution_count": null,
   "metadata": {},
   "outputs": [],
   "source": [
    "from abc import ABC, abstractmethod\n",
    "\n",
    "class Board(ABC):\n",
    "    def __init__(self, boardDimensions):\n",
    "        self.boardDimensions = boardDimensions\n",
    "\n",
    "    @abstractmethod\n",
    "    def createBoard(self):\n",
    "        pass\n",
    "\n",
    "    @abstractmethod\n",
    "    def printBoard(self):\n",
    "        pass\n",
    "\n",
    "    @abstractmethod\n",
    "    def setCellState(self, position, state):\n",
    "        pass\n",
    "\n",
    "    @abstractmethod\n",
    "    def getCellState(self, position):\n",
    "        pass\n",
    "\n",
    "    @abstractmethod\n",
    "    def getBoardState(self):\n",
    "        pass\n",
    "\n",
    "    def getBoardDimensions(self):\n",
    "        return self.boardDimensions"
   ]
  },
  {
   "cell_type": "code",
   "execution_count": null,
   "metadata": {},
   "outputs": [],
   "source": [
    "class TicTacToeBoard(Board):\n",
    "    def __init__(self, boardDimensions):\n",
    "        super().__init__(boardDimensions)\n",
    "        self.boardState = {i+1: ' ' for i in range(boardDimensions**2)}\n",
    "\n",
    "    def createBoard(self):\n",
    "        pass\n",
    "\n",
    "    def printBoard(self):\n",
    "        for i in range(self.boardDimensions):\n",
    "            row = [self.boardState[i*self.boardDimensions+j+1] for j in range(self.boardDimensions)]\n",
    "            print('|'.join(row))\n",
    "            if i < self.boardDimensions-1:\n",
    "                print('-'*(self.boardDimensions*2-1))\n",
    "        print('\\n')\n",
    "\n",
    "    def setCellState(self, position, state):\n",
    "        self.boardState[position] = state\n",
    "\n",
    "    def getCellState(self, position):\n",
    "        return self.boardState[position]\n",
    "\n",
    "    def getBoardState(self):\n",
    "        return self.boardState"
   ]
  },
  {
   "cell_type": "markdown",
   "metadata": {},
   "source": [
    "# Game Logic"
   ]
  },
  {
   "cell_type": "code",
   "execution_count": null,
   "metadata": {},
   "outputs": [],
   "source": [
    "class GameLogic():\n",
    "    def __init__(self, boardGame):\n",
    "        self.boardGame = boardGame\n",
    "\n",
    "    # function to check for draw\n",
    "    # check if all the spaces are taken\n",
    "    def chkForDraw(self):\n",
    "        boardState = self.boardGame.getBoardState()\n",
    "        for key in boardState.keys():\n",
    "            if boardState[key] == ' ':\n",
    "                return False\n",
    "        return True\n",
    "\n",
    "    # function to check for win\n",
    "    # check if any of the rows have all the same values (and not empty)\n",
    "    # check if any of the columns have all the same values (and not empty)\n",
    "    # check if any of the diagonals have all the same values (and not empty)\n",
    "    def chkForWin(self):\n",
    "        boardState = self.boardGame.getBoardState()\n",
    "        boardDimensions = self.boardGame.getBoardDimensions()\n",
    "        # check rows\n",
    "        for i in range(boardDimensions):\n",
    "            row = [boardState[i*boardDimensions+j+1] for j in range(boardDimensions)]\n",
    "            if len(set(row)) == 1 and row[0] != ' ':\n",
    "                return True\n",
    "        # check columns\n",
    "        for i in range(boardDimensions):\n",
    "            column = [boardState[j*boardDimensions+i+1] for j in range(boardDimensions)]\n",
    "            if len(set(column)) == 1 and column[0] != ' ':\n",
    "                return True\n",
    "        # check diagonals\n",
    "        diagonal1 = [boardState[i*boardDimensions+i+1] for i in range(boardDimensions)]\n",
    "        diagonal2 = [boardState[i*boardDimensions+(boardDimensions-i-1)+1] for i in range(boardDimensions)]\n",
    "        if len(set(diagonal1)) == 1 and diagonal1[0] != ' ':\n",
    "            return True\n",
    "        if len(set(diagonal2)) == 1 and diagonal2[0] != ' ':\n",
    "            return True\n",
    "        return False\n",
    "\n",
    "    # insert letter function\n",
    "    # check to see if space is free\n",
    "    # if space is free, insert letter\n",
    "    # if space is not free, ask user to pick a different position\n",
    "    def insertLetter(self, letter, position):\n",
    "        if (self.spaceIsFree(position)):\n",
    "            self.boardGame.setCellState(position, letter)\n",
    "            self.boardGame.printBoard()\n",
    "            if (self.chkForDraw()):\n",
    "                print(\"Draw!\")\n",
    "            elif (self.chkForWin()):\n",
    "                print(letter + \" wins!\")\n",
    "        else:\n",
    "            print(\"Can't insert there!\")\n",
    "            # ask user to pick a different position\n",
    "            position = int(input(\"Please enter a different position: \"))\n",
    "            self.insertLetter(letter, position)\n",
    "            \n",
    "            \n",
    "    \n",
    "\n",
    "    # check if space is free\n",
    "    def spaceIsFree(self, position):\n",
    "        cellState = self.boardGame.getCellState(position)\n",
    "        if cellState == ' ':\n",
    "            return True\n",
    "        else:\n",
    "            return False"
   ]
  },
  {
   "cell_type": "code",
   "execution_count": null,
   "metadata": {},
   "outputs": [],
   "source": [
    "ticTacToeBoard = TicTacToeBoard(3)\n",
    "ticTacToeBoard.printBoard()"
   ]
  },
  {
   "cell_type": "code",
   "execution_count": null,
   "metadata": {},
   "outputs": [],
   "source": [
    "\n",
    "gameLogic = GameLogic(ticTacToeBoard)\n",
    "# create a draw game\n",
    "gameLogic.insertLetter('O', 1)\n",
    "gameLogic.insertLetter('X', 2)\n",
    "gameLogic.insertLetter('X', 3)\n",
    "gameLogic.insertLetter('X', 4)\n",
    "gameLogic.insertLetter('O', 5)\n",
    "gameLogic.insertLetter('O', 6)\n",
    "gameLogic.insertLetter('X', 7)\n",
    "gameLogic.insertLetter('O', 8)\n",
    "gameLogic.insertLetter('X', 8)\n",
    "\n"
   ]
  },
  {
   "cell_type": "markdown",
   "metadata": {},
   "source": [
    "## Players"
   ]
  },
  {
   "cell_type": "code",
   "execution_count": null,
   "metadata": {},
   "outputs": [],
   "source": [
    "from abc import ABC, abstractmethod\n",
    "\n",
    "# an abstract class for a player\n",
    "class Player(ABC):\n",
    "    def __init__(self, letter, playerType):\n",
    "        self.letter = letter\n",
    "        self.playerType = playerType\n",
    "    \n",
    "    \n",
    "    @abstractmethod\n",
    "    def move(self):\n",
    "        pass"
   ]
  },
  {
   "cell_type": "markdown",
   "metadata": {},
   "source": [
    "## Algorithms"
   ]
  },
  {
   "cell_type": "code",
   "execution_count": null,
   "metadata": {},
   "outputs": [],
   "source": [
    "# an abstract class for an algorithm\n",
    "class Algorithm(ABC):\n",
    "    def __init__(self, letter):\n",
    "        self.letter = letter\n",
    "    def getletter(self):\n",
    "        return self.letter\n",
    "    def setletter(self, letter):\n",
    "        self.letter = letter\n",
    "    \n",
    "    @abstractmethod\n",
    "    def move(self):\n",
    "        pass"
   ]
  },
  {
   "cell_type": "markdown",
   "metadata": {},
   "source": [
    "## Game"
   ]
  },
  {
   "cell_type": "code",
   "execution_count": null,
   "metadata": {},
   "outputs": [],
   "source": [
    "# a game class that creates Board, Player and Algorithm objects\n",
    "class Game():\n",
    "    def __init__(self, board, player1, player2, algorithm):\n",
    "        self.board = board\n",
    "        self.player1 = player1\n",
    "        self.player2 = player2\n",
    "        self.algorithm = algorithm\n",
    "    "
   ]
  }
 ],
 "metadata": {
  "kernelspec": {
   "display_name": "Python 3",
   "language": "python",
   "name": "python3"
  },
  "language_info": {
   "codemirror_mode": {
    "name": "ipython",
    "version": 3
   },
   "file_extension": ".py",
   "mimetype": "text/x-python",
   "name": "python",
   "nbconvert_exporter": "python",
   "pygments_lexer": "ipython3",
   "version": "3.11.3"
  },
  "orig_nbformat": 4
 },
 "nbformat": 4,
 "nbformat_minor": 2
}
