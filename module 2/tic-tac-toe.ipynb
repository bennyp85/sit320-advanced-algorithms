{
 "cells": [
  {
   "cell_type": "markdown",
   "metadata": {},
   "source": [
    "# Tic-Tac-Toe with DIP and OCP design principles"
   ]
  },
  {
   "cell_type": "code",
   "execution_count": null,
   "metadata": {},
   "outputs": [],
   "source": [
    "# create a player interface\n",
    "class IPlayer:\n",
    "    def __init__(self, playerType, pieces):\n",
    "        self.playerType = playerType\n",
    "        self.pieces = pieces\n",
    "    \n",
    "    def makeMove(self):\n",
    "        pass"
   ]
  },
  {
   "cell_type": "code",
   "execution_count": null,
   "metadata": {},
   "outputs": [],
   "source": [
    "# creates an algorithm interface\n",
    "class IAlgorithm:\n",
    "    def __init__(self, algorithmType):\n",
    "        self.algorithmType = algorithmType\n",
    "\n",
    "    def getMove(self, board, player):\n",
    "        pass"
   ]
  },
  {
   "cell_type": "code",
   "execution_count": null,
   "metadata": {},
   "outputs": [],
   "source": [
    "from abc import ABC, abstractmethod\n",
    "\n",
    "class GameClient(ABC):\n",
    "    \n",
    "    @abstractmethod\n",
    "    def chkForWin(self):\n",
    "        pass\n",
    "\n",
    "    @abstractmethod\n",
    "    def chkDraw(self):\n",
    "        pass\n",
    "\n",
    "    @abstractmethod\n",
    "    def legalMove(self, piece, position):\n",
    "        pass\n",
    "\n",
    "    @abstractmethod\n",
    "    def createBoard(self):\n",
    "        pass\n",
    "\n",
    "    @abstractmethod\n",
    "    def printBoard(self, board):\n",
    "        pass\n"
   ]
  }
 ],
 "metadata": {
  "language_info": {
   "name": "python"
  },
  "orig_nbformat": 4
 },
 "nbformat": 4,
 "nbformat_minor": 2
}
