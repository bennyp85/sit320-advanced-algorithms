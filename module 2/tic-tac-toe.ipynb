{
 "cells": [
  {
   "cell_type": "markdown",
   "metadata": {},
   "source": [
    "# Tic-Tac-Toe with Dependence Inversion, Open-Close and Liskov Substitution Principles"
   ]
  },
  {
   "cell_type": "markdown",
   "metadata": {},
   "source": [
    "---"
   ]
  },
  {
   "cell_type": "markdown",
   "metadata": {},
   "source": [
    "## Board\n",
    "#### The abstract Board class allows for potential future extensions to different types of boards, which adheres to the OCP\n",
    "#### Board's responsibilities are clear (managing the state and rules of the board itself), and delegate game-specific logic to another class. \n",
    "#### This would be in line with the Single Responsibility Principle (SRP)."
   ]
  },
  {
   "cell_type": "code",
   "execution_count": null,
   "metadata": {},
   "outputs": [],
   "source": [
    "from abc import ABC, abstractmethod\n",
    "\n",
    "class Board(ABC):\n",
    "    def __init__(self, boardDimensions):\n",
    "        self.boardDimensions = boardDimensions\n",
    "\n",
    "    @abstractmethod\n",
    "    def createBoard(self):\n",
    "        pass\n",
    "\n",
    "    @abstractmethod\n",
    "    def printBoard(self):\n",
    "        pass\n",
    "\n",
    "    @abstractmethod\n",
    "    def setCellState(self, position, state):\n",
    "        pass\n",
    "\n",
    "    @abstractmethod\n",
    "    def getCellState(self, position):\n",
    "        pass\n",
    "\n",
    "    @abstractmethod\n",
    "    def getBoardState(self):\n",
    "        pass\n",
    "\n",
    "    def getBoardDimensions(self):\n",
    "        return self.boardDimensions"
   ]
  },
  {
   "cell_type": "code",
   "execution_count": null,
   "metadata": {},
   "outputs": [],
   "source": [
    "class TicTacToeBoard(Board):\n",
    "    def __init__(self, boardDimensions):\n",
    "        super().__init__(boardDimensions)\n",
    "        self.createBoard()\n",
    "\n",
    "    def createBoard(self):\n",
    "        self.boardState = {i+1: ' ' for i in range(self.boardDimensions**2)}\n",
    "\n",
    "    def printBoard(self):\n",
    "        for i in range(self.boardDimensions):\n",
    "            row = [self.boardState[i*self.boardDimensions+j+1] for j in range(self.boardDimensions)]\n",
    "            print('|'.join(row))\n",
    "            if i < self.boardDimensions-1:\n",
    "                print('-'*(self.boardDimensions*2-1))\n",
    "        print('\\n')\n",
    "\n",
    "    def setCellState(self, position, state):\n",
    "        self.boardState[position] = state\n",
    "\n",
    "    def getCellState(self, position):\n",
    "        return self.boardState[position]\n",
    "\n",
    "    def getBoardState(self):\n",
    "        return self.boardState"
   ]
  },
  {
   "cell_type": "markdown",
   "metadata": {},
   "source": [
    "---"
   ]
  },
  {
   "cell_type": "markdown",
   "metadata": {},
   "source": [
    "## Game Logic\n",
    "#### Abstract class handles the game-specific logic. \n",
    "#### Placed at the same level as Board, Player, and Algorithm (directly under Game).\n",
    "#### This is in line with the Single Responsibility Principle (SRP)."
   ]
  },
  {
   "cell_type": "code",
   "execution_count": null,
   "metadata": {},
   "outputs": [],
   "source": [
    "from abc import ABC, abstractmethod\n",
    "\n",
    "class GameLogic():\n",
    "    def __init__(self, boardGame):\n",
    "        self.boardGame = boardGame\n",
    "\n",
    "    @abstractmethod\n",
    "    def chkForkWin(self):\n",
    "        pass\n",
    "\n",
    "    @abstractmethod\n",
    "    def chkForDraw(self):\n",
    "        pass\n",
    "\n",
    "    @abstractmethod\n",
    "    def insertLetter(self, letter, position):\n",
    "        pass\n",
    "\n",
    "    @abstractmethod\n",
    "    def spaceIsFree(self, position):\n",
    "        pass"
   ]
  },
  {
   "cell_type": "code",
   "execution_count": null,
   "metadata": {},
   "outputs": [],
   "source": [
    "class TicTacToeGameLogic(GameLogic):\n",
    "    def __init__(self, boardGame):\n",
    "        self.boardGame = boardGame\n",
    "\n",
    "    # function to check for draw\n",
    "    # check if all the spaces are taken\n",
    "    def chkForDraw(self):\n",
    "        boardState = self.boardGame.getBoardState()\n",
    "        for key in boardState.keys():\n",
    "            if boardState[key] == ' ':\n",
    "                return False\n",
    "        return True\n",
    "\n",
    "    # function to check for win\n",
    "    # check if any of the rows have all the same values (and not empty)\n",
    "    # check if any of the columns have all the same values (and not empty)\n",
    "    # check if any of the diagonals have all the same values (and not empty)\n",
    "    def chkForWin(self):\n",
    "        boardState = self.boardGame.getBoardState()\n",
    "        boardDimensions = self.boardGame.getBoardDimensions()\n",
    "        # check rows\n",
    "        for i in range(boardDimensions):\n",
    "            row = [boardState[i*boardDimensions+j+1] for j in range(boardDimensions)]\n",
    "            if len(set(row)) == 1 and row[0] != ' ':\n",
    "                return True\n",
    "        # check columns\n",
    "        for i in range(boardDimensions):\n",
    "            column = [boardState[j*boardDimensions+i+1] for j in range(boardDimensions)]\n",
    "            if len(set(column)) == 1 and column[0] != ' ':\n",
    "                return True\n",
    "        # check diagonals\n",
    "        diagonal1 = [boardState[i*boardDimensions+i+1] for i in range(boardDimensions)]\n",
    "        diagonal2 = [boardState[i*boardDimensions+(boardDimensions-i-1)+1] for i in range(boardDimensions)]\n",
    "        if len(set(diagonal1)) == 1 and diagonal1[0] != ' ':\n",
    "            return True\n",
    "        if len(set(diagonal2)) == 1 and diagonal2[0] != ' ':\n",
    "            return True\n",
    "        return False\n",
    "\n",
    "    # insert letter function\n",
    "    # check to see if space is free\n",
    "    # if space is free, insert letter\n",
    "    # if space is not free, ask user to pick a different position\n",
    "    def insertLetter(self, letter, position):\n",
    "        if (self.spaceIsFree(position)):\n",
    "            self.boardGame.setCellState(position, letter)\n",
    "            self.boardGame.printBoard()\n",
    "            if (self.chkForDraw()):\n",
    "                print(\"Draw!\")\n",
    "            elif (self.chkForWin()):\n",
    "                print(letter + \" wins!\")\n",
    "        else:\n",
    "            print(\"Can't insert there!\")\n",
    "            # ask user to pick a different position\n",
    "            position = int(input(\"Please enter a different position: \"))\n",
    "            self.insertLetter(letter, position)\n",
    "\n",
    "    # check if space is free\n",
    "    def spaceIsFree(self, position):\n",
    "        cellState = self.boardGame.getCellState(position)\n",
    "        if cellState == ' ':\n",
    "            return True\n",
    "        else:\n",
    "            return False"
   ]
  },
  {
   "cell_type": "markdown",
   "metadata": {},
   "source": [
    "---"
   ]
  },
  {
   "cell_type": "markdown",
   "metadata": {},
   "source": [
    "## Player\n",
    "#### Abstract Player class, with separate ComputerPlayer and HumanPlayer subclasses\n",
    "#### Example of the OCP. Each type of Player can have its unique functionalities defined in its specific subclass. \n",
    "#### LSP is achieved by the use of a \"move strategy\" that is defined in the abstract Player class, and implemented in the subclasses."
   ]
  },
  {
   "cell_type": "code",
   "execution_count": null,
   "metadata": {},
   "outputs": [],
   "source": [
    "from abc import ABC, abstractmethod\n",
    "\n",
    "# an abstract class for a player\n",
    "class Player(ABC):\n",
    "    def __init__(self, letter):\n",
    "        self.letter = letter\n",
    "    \n",
    "    @abstractmethod\n",
    "    def move(self):\n",
    "        pass"
   ]
  },
  {
   "cell_type": "code",
   "execution_count": null,
   "metadata": {},
   "outputs": [],
   "source": [
    "class HumanPlayer(Player):\n",
    "    def move(self, board):\n",
    "        position = int(input(\"Enter your move: \"))\n",
    "        return position\n",
    "\n",
    "class ComputerPlayer(Player):\n",
    "    def __init__(self, letter, algorithm):\n",
    "        super().__init__(letter)\n",
    "        self.algorithm = algorithm\n",
    "\n",
    "    def move(self, board):\n",
    "        position = self.algorithm.move(board)\n",
    "        return position"
   ]
  },
  {
   "cell_type": "markdown",
   "metadata": {},
   "source": [
    "---"
   ]
  },
  {
   "cell_type": "markdown",
   "metadata": {},
   "source": [
    "## Algorithms\n",
    "#### The abstract Algorithm class, used by the ComputerPlayer and HumanPlayer.\n",
    "#### Allows for different AI strategies to be easily interchanged and potentially added in the future, following the OCP."
   ]
  },
  {
   "cell_type": "code",
   "execution_count": null,
   "metadata": {},
   "outputs": [],
   "source": [
    "# an abstract class for an algorithm\n",
    "class Algorithm(ABC):\n",
    "    def __init__(self, letter, boardGame):\n",
    "        self.letter = letter\n",
    "        self.boardGame = boardGame\n",
    "    def getletter(self):\n",
    "        return self.letter\n",
    "    def setletter(self, letter):\n",
    "        self.letter = letter\n",
    "\n",
    "    @abstractmethod\n",
    "    def move(self):\n",
    "        pass\n",
    "\n",
    "    # abstract method that implements the algorithm\n",
    "    @abstractmethod\n",
    "    def algorithm(self):\n",
    "        pass"
   ]
  },
  {
   "cell_type": "code",
   "execution_count": null,
   "metadata": {},
   "outputs": [],
   "source": [
    "class AlgorithmX(Algorithm):\n",
    "    def move(self, boardGame):\n",
    "        # Implement the algorithmX\n",
    "        pass\n",
    "\n",
    "class MinimaxAlgorithm(Algorithm):\n",
    "    def __init__(self, letter, boardGame):\n",
    "        super().__init__(letter)\n",
    "        self.bestScore = 0\n",
    "        self.bestMove = 0\n",
    "\n",
    "    # function to find the best move\n",
    "    def move(self):\n",
    "        bestScore = -math.inf\n",
    "        for key in self.boardGame.getBoardState().keys():\n",
    "            if (self.boardGame.getCellState(key) == ' '):\n",
    "                self.boardGame.setCellState(key, self.letter)\n",
    "                score = self.algorithm(self.boardGame, 0, False)\n",
    "                self.boardGame.setCellState(key, ' ')\n",
    "                if (score > bestScore):\n",
    "                    bestScore = score\n",
    "                    self.bestMove = key\n",
    "        return self.bestMove\n",
    "\n",
    "    def algorithm(self, boardGame, depth, isMaximizing):\n",
    "        # base case\n",
    "        if (self.boardGame.chkForWin()):\n",
    "            if (self.letter == 'X'):\n",
    "                return 1\n",
    "            else:\n",
    "                return -1\n",
    "        elif (self.boardGame.chkForDraw()):\n",
    "            return 0\n",
    "\n",
    "        if (isMaximizing):\n",
    "            bestScore = -math.inf\n",
    "            for key in self.boardGame.getBoardState().keys():\n",
    "                if (self.boardGame.getCellState(key) == ' '):\n",
    "                    self.boardGame.setCellState(key, self.letter)\n",
    "                    score = self.algorithm(self.boardGame, 0, False)\n",
    "                    self.boardGame.setCellState(key, ' ')\n",
    "                    bestScore = max(score, bestScore)\n",
    "            return bestScore\n",
    "        else:\n",
    "            bestScore = math.inf\n",
    "            for key in self.boardGame.getBoardState().keys():\n",
    "                if (self.boardGame.getCellState(key) == ' '):\n",
    "                    self.boardGame.setCellState(key, self.letter)\n",
    "                    score = self.algorithm(self.boardGame, 0, True)\n",
    "                    self.boardGame.setCellState(key, ' ')\n",
    "                    bestScore = min(score, bestScore)\n",
    "            return bestScore"
   ]
  },
  {
   "cell_type": "markdown",
   "metadata": {},
   "source": [
    "## Game\n",
    "#### Entry Point"
   ]
  },
  {
   "cell_type": "code",
   "execution_count": null,
   "metadata": {},
   "outputs": [],
   "source": [
    "def gameLoop():\n",
    "    # Create a board\n",
    "    ticTacToeBoard = TicTacToeBoard(3)\n",
    "    ticTacToeBoard.printBoard()\n",
    "    gameLogic = GameLogic(ticTacToeBoard)\n",
    "\n",
    "    # Create two players\n",
    "    player1 = HumanPlayer('X')\n",
    "    player2 = ComputerPlayer('O', MinimaxAlgorithm('O'))\n",
    "\n",
    "    # While the game is not over\n",
    "    while not gameLogic.chkForWin() and not gameLogic.chkForDraw():\n",
    "        # Player 1 move\n",
    "        position = player1.move(ticTacToeBoard)\n",
    "        gameLogic.insertLetter(player1.letter, position)\n",
    "        if gameLogic.chkForWin() or gameLogic.chkForDraw():\n",
    "            break\n",
    "        # Player 2 move\n",
    "        position = player2.move(ticTacToeBoard)\n",
    "        gameLogic.insertLetter(player2.letter, position)"
   ]
  },
  {
   "cell_type": "markdown",
   "metadata": {},
   "source": [
    "---"
   ]
  },
  {
   "cell_type": "code",
   "execution_count": null,
   "metadata": {},
   "outputs": [],
   "source": [
    "gameLoop()"
   ]
  }
 ],
 "metadata": {
  "kernelspec": {
   "display_name": "Python 3",
   "language": "python",
   "name": "python3"
  },
  "language_info": {
   "codemirror_mode": {
    "name": "ipython",
    "version": 3
   },
   "file_extension": ".py",
   "mimetype": "text/x-python",
   "name": "python",
   "nbconvert_exporter": "python",
   "pygments_lexer": "ipython3",
   "version": "3.11.3"
  },
  "orig_nbformat": 4
 },
 "nbformat": 4,
 "nbformat_minor": 2
}
