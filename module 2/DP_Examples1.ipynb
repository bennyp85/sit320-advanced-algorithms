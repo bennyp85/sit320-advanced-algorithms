{
 "cells": [
  {
   "cell_type": "code",
   "execution_count": 1,
   "id": "b0fd6563",
   "metadata": {},
   "outputs": [
    {
     "name": "stderr",
     "output_type": "stream",
     "text": [
      "/var/folders/hj/y7y354bs2bb13st04gc6_nq00000gn/T/ipykernel_72583/495279268.py:1: DeprecationWarning: Importing display from IPython.core.display is deprecated since IPython 7.14, please import from IPython display\n",
      "  from IPython.core.display import display, HTML\n"
     ]
    },
    {
     "data": {
      "text/html": [
       "<style>.container { width:85% !important; }</style>"
      ],
      "text/plain": [
       "<IPython.core.display.HTML object>"
      ]
     },
     "metadata": {},
     "output_type": "display_data"
    }
   ],
   "source": [
    "from IPython.core.display import display, HTML\n",
    "display(HTML(\"<style>.container { width:85% !important; }</style>\"))"
   ]
  },
  {
   "attachments": {},
   "cell_type": "markdown",
   "id": "4fda91ef",
   "metadata": {},
   "source": [
    "The code is provided to you to demonstrate various design principles during coding phase of algorithm design"
   ]
  },
  {
   "attachments": {},
   "cell_type": "markdown",
   "id": "fcc61447",
   "metadata": {},
   "source": [
    "# Section 1: Dependency Inversion Principle"
   ]
  },
  {
   "attachments": {},
   "cell_type": "markdown",
   "id": "501605ce",
   "metadata": {},
   "source": [
    "# Try 1:"
   ]
  },
  {
   "cell_type": "code",
   "execution_count": 45,
   "id": "fbbe63eb",
   "metadata": {},
   "outputs": [],
   "source": [
    "class Lamp:\n",
    "    \n",
    "    def __init__(self, lid):\n",
    "        self.lid = lid\n",
    "        \n",
    "    def turnOn(self):\n",
    "        print('Turning on the lamp')\n",
    "        \n",
    "    def turnOff(self):\n",
    "        print('Turning off the lamp')"
   ]
  },
  {
   "cell_type": "code",
   "execution_count": 46,
   "id": "f3520897",
   "metadata": {},
   "outputs": [],
   "source": [
    "class Button:\n",
    "        \n",
    "    def __init__(self, lamp):\n",
    "        print('I am in the constructor of Button')\n",
    "        self.mylamp = lamp\n",
    "        \n",
    "    def detect(self):\n",
    "        buttonon = False\n",
    "        \n",
    "        if buttonon:\n",
    "            self.mylamp.turnOn()\n",
    "        else:\n",
    "            self.mylamp.turnOff()\n",
    "    "
   ]
  },
  {
   "cell_type": "code",
   "execution_count": 47,
   "id": "a997786b",
   "metadata": {},
   "outputs": [
    {
     "name": "stdout",
     "output_type": "stream",
     "text": [
      "Hello World\n"
     ]
    }
   ],
   "source": [
    "print('Hello World')"
   ]
  },
  {
   "cell_type": "code",
   "execution_count": 48,
   "id": "1a4f49af",
   "metadata": {},
   "outputs": [
    {
     "name": "stdout",
     "output_type": "stream",
     "text": [
      "I am in the constructor of Button\n",
      "Turning off the lamp\n"
     ]
    }
   ],
   "source": [
    "l1 = Lamp(20)\n",
    "b1 = Button(l1)\n",
    "b1.detect()"
   ]
  },
  {
   "attachments": {},
   "cell_type": "markdown",
   "id": "dd01da53",
   "metadata": {},
   "source": [
    "# Try 2:"
   ]
  },
  {
   "attachments": {},
   "cell_type": "markdown",
   "id": "a2aa196d",
   "metadata": {},
   "source": [
    "Let us fix above code in line of DIP"
   ]
  },
  {
   "cell_type": "code",
   "execution_count": 50,
   "id": "8e4c93ec",
   "metadata": {},
   "outputs": [],
   "source": [
    "from abc import ABC, abstractmethod\n",
    "\n",
    "class ButtonClient(ABC):\n",
    "\n",
    "    @abstractmethod\n",
    "    def turn_on(self):\n",
    "        pass\n",
    "\n",
    "    @abstractmethod\n",
    "    def turn_off(self):\n",
    "        pass\n",
    "\n",
    "class Lamp(ButtonClient):\n",
    "    \n",
    "    def turn_on(self):\n",
    "        print(\"Turning on the Lamp\")\n",
    "\n",
    "    def turn_off(self):\n",
    "        print(\"Turning off the Lamp\")\n",
    "        \n",
    "\n",
    "class Motor(ButtonClient):\n",
    "    \n",
    "    def turn_on(self):\n",
    "        print(\"Turning on the Motor\")\n",
    "\n",
    "    def turn_off(self):\n",
    "        print(\"Turning off the Motor\")\n",
    "        "
   ]
  },
  {
   "cell_type": "code",
   "execution_count": 51,
   "id": "1c800527",
   "metadata": {},
   "outputs": [],
   "source": [
    "class Button:\n",
    "\n",
    "    def __init__(self, button_client):\n",
    "\n",
    "        print(\"I am in the constructor of Button\")\n",
    "        self.button_client = button_client\n",
    "\n",
    "\n",
    "    def detect(self):\n",
    "\n",
    "        button_on = False\n",
    "\n",
    "        if button_on:\n",
    "            self.button_client.turn_on()\n",
    "        else:\n",
    "            self.button_client.turn_off()"
   ]
  },
  {
   "cell_type": "code",
   "execution_count": 52,
   "id": "41fb10e0",
   "metadata": {},
   "outputs": [
    {
     "name": "stdout",
     "output_type": "stream",
     "text": [
      "Hello World!\n",
      "I am in the constructor of Button\n",
      "Turning off the Lamp\n",
      "I am in the constructor of Button\n",
      "Turning off the Motor\n"
     ]
    }
   ],
   "source": [
    "print(\"Hello World!\")\n",
    "\n",
    "lamp = Lamp()\n",
    "b1 = Button(lamp)\n",
    "b1.detect()\n",
    "\n",
    "motor = Motor()\n",
    "b2 = Button(motor)\n",
    "b2.detect()"
   ]
  },
  {
   "attachments": {},
   "cell_type": "markdown",
   "id": "6f0d8101",
   "metadata": {},
   "source": [
    "# Try 3:"
   ]
  },
  {
   "cell_type": "code",
   "execution_count": 57,
   "id": "47843b1f",
   "metadata": {},
   "outputs": [],
   "source": [
    "from abc import ABC, abstractmethod\n",
    "\n",
    "class ButtonClient(ABC):\n",
    "\n",
    "    @abstractmethod\n",
    "    def turn_on(self):\n",
    "        pass\n",
    "\n",
    "    @abstractmethod\n",
    "    def turn_off(self):\n",
    "        pass\n",
    "\n",
    "class Lamp(ButtonClient):\n",
    "    \n",
    "    def turn_on(self):\n",
    "        print(\"Turning on the Lamp\")\n",
    "\n",
    "    def turn_off(self):\n",
    "        print(\"Turning off the Lamp\")\n",
    "        \n",
    "\n",
    "class Motor(ButtonClient):\n",
    "    \n",
    "    def turn_on(self):\n",
    "        print(\"Turning on the Motor\")\n",
    "\n",
    "    def turn_off(self):\n",
    "        print(\"Turning off the Motor\")\n",
    "        "
   ]
  },
  {
   "cell_type": "code",
   "execution_count": 62,
   "id": "2018e117",
   "metadata": {},
   "outputs": [],
   "source": [
    "class Button(ABC):\n",
    "\n",
    "    def __init__(self, button_client):\n",
    "\n",
    "        print(\"I am in the constructor of Button\")\n",
    "        self.button_client = button_client\n",
    "\n",
    "\n",
    "    def detect(self):\n",
    "\n",
    "        button_on = False\n",
    "\n",
    "        if button_on:\n",
    "            self.button_client.turn_on()\n",
    "        else:\n",
    "            self.button_client.turn_off()\n",
    "        \n",
    "\n",
    "class RubberButton(Button):\n",
    "    \n",
    "    def __init__(self, button_client, speed):\n",
    "        Button.__init__(self, button_client)\n",
    "        self.speed = speed\n",
    "        \n",
    "\n",
    "class PlasticButton(Button):\n",
    "    \n",
    "    def __init__(self, button_client, speed, velocity):\n",
    "        Button.__init__(self, button_client)\n",
    "        self.speed = speed\n",
    "        self.velocity = velocity\n",
    "        "
   ]
  },
  {
   "cell_type": "code",
   "execution_count": 65,
   "id": "2f65b85d",
   "metadata": {},
   "outputs": [
    {
     "name": "stdout",
     "output_type": "stream",
     "text": [
      "Hello World!\n",
      "I am in the constructor of Button\n",
      "Turning off the Lamp\n",
      "I am in the constructor of Button\n",
      "Turning off the Motor\n"
     ]
    }
   ],
   "source": [
    "print(\"Hello World!\")\n",
    "\n",
    "lamp = Lamp()\n",
    "b1 = RubberButton(lamp, 20)\n",
    "b1.detect()\n",
    "\n",
    "motor = Motor()\n",
    "b2 = PlasticButton(motor, 20, 30)\n",
    "b2.detect()"
   ]
  },
  {
   "attachments": {},
   "cell_type": "markdown",
   "id": "b47dee61",
   "metadata": {},
   "source": [
    "# Section 2: Open Closed Principle"
   ]
  },
  {
   "attachments": {},
   "cell_type": "markdown",
   "id": "8b665512",
   "metadata": {},
   "source": [
    "# Try 1:"
   ]
  },
  {
   "cell_type": "code",
   "execution_count": 69,
   "id": "766865f3",
   "metadata": {},
   "outputs": [
    {
     "name": "stdout",
     "output_type": "stream",
     "text": [
      "Save the Person(name=John Doe) to database\n"
     ]
    }
   ],
   "source": [
    "class Person:\n",
    "    \n",
    "    def __init__(self, name):\n",
    "        self.name = name\n",
    "\n",
    "    def __repr__(self):\n",
    "        return f'Person(name={self.name})'\n",
    "\n",
    "\n",
    "class PersonStorage:\n",
    "    \n",
    "    def save_to_database(self, person):\n",
    "        print(f'Save the {person} to database')\n",
    "\n",
    "    def save_to_json(self, person):\n",
    "        print(f'Save the {person} to a JSON file')\n",
    "\n",
    "\n",
    "if __name__ == '__main__':\n",
    "    \n",
    "    person = Person('John Doe')\n",
    "    storage = PersonStorage()\n",
    "    storage.save_to_database(person)"
   ]
  },
  {
   "attachments": {},
   "cell_type": "markdown",
   "id": "25e7b68d",
   "metadata": {},
   "source": [
    "# Try 2:"
   ]
  },
  {
   "cell_type": "code",
   "execution_count": 70,
   "id": "dff57b64",
   "metadata": {},
   "outputs": [],
   "source": [
    "from abc import ABC, abstractmethod\n",
    "\n",
    "class PersonStorage(ABC):\n",
    "    \n",
    "    @abstractmethod\n",
    "    def save(self, person):\n",
    "        pass"
   ]
  },
  {
   "cell_type": "code",
   "execution_count": 71,
   "id": "c92aa1a3",
   "metadata": {},
   "outputs": [],
   "source": [
    "class PersonDB(PersonStorage):\n",
    "    \n",
    "    def save(self, person):\n",
    "        print(f'Save the {person} to database')\n",
    "\n",
    "\n",
    "class PersonJSON(PersonStorage):\n",
    "    \n",
    "    def save(self, person):\n",
    "        print(f'Save the {person} to a JSON file')"
   ]
  },
  {
   "cell_type": "code",
   "execution_count": 72,
   "id": "299211bb",
   "metadata": {},
   "outputs": [],
   "source": [
    "class PersonXML(PersonStorage):\n",
    "    \n",
    "    def save(self, person):\n",
    "        print(f'Save the {person} to an XML file')\n"
   ]
  },
  {
   "cell_type": "code",
   "execution_count": 73,
   "id": "ff4c83b7",
   "metadata": {},
   "outputs": [
    {
     "name": "stdout",
     "output_type": "stream",
     "text": [
      "Save the Person(name=John Doe) to an XML file\n"
     ]
    }
   ],
   "source": [
    "if __name__ == '__main__':\n",
    "    \n",
    "    person = Person('John Doe')\n",
    "    storage = PersonXML()\n",
    "    storage.save(person)"
   ]
  },
  {
   "attachments": {},
   "cell_type": "markdown",
   "id": "37baef20",
   "metadata": {},
   "source": [
    "# Section 3: Liskov Subsitution Principle"
   ]
  },
  {
   "attachments": {},
   "cell_type": "markdown",
   "id": "832ba714",
   "metadata": {},
   "source": [
    "# Try 1:"
   ]
  },
  {
   "cell_type": "code",
   "execution_count": 66,
   "id": "28949220",
   "metadata": {},
   "outputs": [],
   "source": [
    "from abc import ABC, abstractmethod\n",
    "\n",
    "class Notification(ABC):\n",
    "    \n",
    "    @abstractmethod\n",
    "    def notify(self, message, email):\n",
    "        pass\n",
    "\n",
    "\n",
    "class Email(Notification):\n",
    "    \n",
    "    def notify(self, message, email):\n",
    "        print(f'Send {message} to {email}')\n",
    "\n",
    "class SMS(Notification):\n",
    "    \n",
    "    def notify(self, message, phone):\n",
    "        print(f'Send {message} to {phone}')"
   ]
  },
  {
   "cell_type": "code",
   "execution_count": 67,
   "id": "91286042",
   "metadata": {},
   "outputs": [
    {
     "name": "stdout",
     "output_type": "stream",
     "text": [
      "Send Hello to john@test.com\n"
     ]
    }
   ],
   "source": [
    "notification = SMS()\n",
    "notification.notify('Hello', 'john@test.com')"
   ]
  },
  {
   "cell_type": "code",
   "execution_count": 75,
   "id": "487dacee",
   "metadata": {},
   "outputs": [],
   "source": [
    "class Contact:\n",
    "    \n",
    "    def __init__(self, name, email, phone):\n",
    "        \n",
    "        self.name = name\n",
    "        self.email = email\n",
    "        self.phone = phone\n",
    "\n",
    "\n",
    "class NotificationManager:\n",
    "    \n",
    "    def __init__(self, notification, contact):\n",
    "        \n",
    "        self.contact = contact\n",
    "        self.notification = notification\n",
    "\n",
    "    def send(self, message):\n",
    "        \n",
    "        if isinstance(self.notification, Email):\n",
    "            self.notification.notify(message, contact.email)\n",
    "        elif isinstance(self.notification, SMS):\n",
    "            self.notification.notify(message, contact.phone)\n",
    "        else:\n",
    "            raise Exception('The notification is not supported')"
   ]
  },
  {
   "cell_type": "code",
   "execution_count": 78,
   "id": "bd04ddb8",
   "metadata": {},
   "outputs": [
    {
     "name": "stdout",
     "output_type": "stream",
     "text": [
      "Send Hello John to (408)-888-9999\n",
      "Send Hello John to john@test.com\n"
     ]
    }
   ],
   "source": [
    "if __name__ == '__main__':\n",
    "    \n",
    "    contact = Contact('John Doe', 'john@test.com', '(408)-888-9999')\n",
    "    notification_manager = NotificationManager(SMS(), contact)\n",
    "    notification_manager.send('Hello John')\n",
    "    \n",
    "    contact = Contact('John Doe', 'john@test.com', '(408)-888-9999')\n",
    "    notification_manager = NotificationManager(Email(), contact)\n",
    "    notification_manager.send('Hello John')"
   ]
  },
  {
   "attachments": {},
   "cell_type": "markdown",
   "id": "0e5550d6",
   "metadata": {},
   "source": [
    "# Try 2:"
   ]
  },
  {
   "cell_type": "code",
   "execution_count": 80,
   "id": "a76579d7",
   "metadata": {},
   "outputs": [],
   "source": [
    "class Notification(ABC):\n",
    "    \n",
    "    @abstractmethod\n",
    "    def notify(self, message):\n",
    "        pass\n",
    "    \n",
    "class Email(Notification):\n",
    "    \n",
    "    def __init__(self, email):\n",
    "        self.email = email\n",
    "\n",
    "    def notify(self, message):\n",
    "        print(f'Send \"{message}\" to {self.email}')\n",
    "        \n",
    "class SMS(Notification):\n",
    "    \n",
    "    def __init__(self, phone):\n",
    "        self.phone = phone\n",
    "\n",
    "    def notify(self, message):\n",
    "        print(f'Send \"{message}\" to {self.phone}')"
   ]
  },
  {
   "cell_type": "code",
   "execution_count": 81,
   "id": "8bc5d810",
   "metadata": {},
   "outputs": [],
   "source": [
    "class Contact:\n",
    "    \n",
    "    def __init__(self, name, email, phone):\n",
    "        self.name = name\n",
    "        self.email = email\n",
    "        self.phone = phone\n",
    "\n",
    "\n",
    "class NotificationManager:\n",
    "    \n",
    "    def __init__(self, notification):\n",
    "        self.notification = notification\n",
    "\n",
    "    def send(self, message):\n",
    "        self.notification.notify(message)"
   ]
  },
  {
   "cell_type": "code",
   "execution_count": 83,
   "id": "3835f60b",
   "metadata": {},
   "outputs": [
    {
     "name": "stdout",
     "output_type": "stream",
     "text": [
      "Send \"Hello John\" to (408)-888-9999\n",
      "Send \"Hi John\" to john@test.com\n"
     ]
    }
   ],
   "source": [
    "if __name__ == '__main__':\n",
    "    \n",
    "    contact = Contact('John Doe', 'john@test.com', '(408)-888-9999')\n",
    "\n",
    "    sms_notification = SMS(contact.phone)\n",
    "    email_notification = Email(contact.email)\n",
    "\n",
    "    notification_manager = NotificationManager(sms_notification)\n",
    "    notification_manager.send('Hello John')\n",
    "\n",
    "    notification_manager = NotificationManager(email_notification)\n",
    "    notification_manager.send('Hi John')"
   ]
  },
  {
   "cell_type": "code",
   "execution_count": null,
   "id": "4301edc3",
   "metadata": {},
   "outputs": [],
   "source": []
  },
  {
   "attachments": {},
   "cell_type": "markdown",
   "id": "584df445",
   "metadata": {},
   "source": [
    "# Section 4: Module Activity Tasks"
   ]
  },
  {
   "cell_type": "code",
   "execution_count": 105,
   "id": "2b8e10e9",
   "metadata": {},
   "outputs": [],
   "source": [
    "class Rectangle:\n",
    "    \n",
    "    def __init__(self, width, height):\n",
    "        \n",
    "        self.width = width\n",
    "        self.height = height\n",
    "\n",
    "    def calculate_area(self):\n",
    "        \n",
    "        return self.width * self.height"
   ]
  },
  {
   "cell_type": "code",
   "execution_count": 106,
   "id": "8621d39c",
   "metadata": {},
   "outputs": [],
   "source": [
    "class Square(Rectangle):\n",
    "    \n",
    "    def __init__(self, side):\n",
    "        #super().__init__(side, side)\n",
    "        Rectangle.__init__(self,side, side)\n",
    "        \n",
    "    def setwidth(width):\n",
    "        self.width = width\n",
    "        \n",
    "    def setheight(height):\n",
    "        self.height = height"
   ]
  },
  {
   "cell_type": "code",
   "execution_count": 110,
   "id": "573c6cd5",
   "metadata": {},
   "outputs": [
    {
     "name": "stdout",
     "output_type": "stream",
     "text": [
      "5\n",
      "5\n"
     ]
    },
    {
     "data": {
      "text/plain": [
       "{'width': 5, 'height': 5}"
      ]
     },
     "execution_count": 110,
     "metadata": {},
     "output_type": "execute_result"
    }
   ],
   "source": [
    "square = Square(5)\n",
    "print(square.width)\n",
    "print(square.height)\n",
    "#vars(square)"
   ]
  },
  {
   "cell_type": "code",
   "execution_count": 112,
   "id": "25ba00c8",
   "metadata": {},
   "outputs": [
    {
     "name": "stdout",
     "output_type": "stream",
     "text": [
      "7\n",
      "5\n"
     ]
    },
    {
     "data": {
      "text/plain": [
       "{'width': 7, 'height': 5}"
      ]
     },
     "execution_count": 112,
     "metadata": {},
     "output_type": "execute_result"
    }
   ],
   "source": [
    "square.width = 7\n",
    "print(square.width)\n",
    "print(square.height)\n",
    "#vars(square)"
   ]
  },
  {
   "cell_type": "code",
   "execution_count": 113,
   "id": "3cb266e8",
   "metadata": {},
   "outputs": [
    {
     "name": "stdout",
     "output_type": "stream",
     "text": [
      "7\n",
      "9\n"
     ]
    },
    {
     "data": {
      "text/plain": [
       "{'width': 7, 'height': 9}"
      ]
     },
     "execution_count": 113,
     "metadata": {},
     "output_type": "execute_result"
    }
   ],
   "source": [
    "square.height = 9\n",
    "print(square.width)\n",
    "print(square.height)\n",
    "vars(square)"
   ]
  },
  {
   "cell_type": "code",
   "execution_count": 114,
   "id": "6c3982f1",
   "metadata": {},
   "outputs": [],
   "source": [
    "from abc import ABC, abstractmethod\n",
    "\n",
    "class Shape(ABC):\n",
    "    \n",
    "    @abstractmethod\n",
    "    def calculate_area(self):\n",
    "        pass\n",
    "\n",
    "class Rectangle(Shape):\n",
    "    \n",
    "    def __init__(self, width, height):\n",
    "        self.width = width\n",
    "        self.height = height\n",
    "\n",
    "    def calculate_area(self):\n",
    "        return self.width * self.height\n",
    "\n",
    "class Square(Shape):\n",
    "    \n",
    "    def __init__(self, side):\n",
    "        self.side = side\n",
    "\n",
    "    def calculate_area(self):\n",
    "        return self.side ** 2"
   ]
  },
  {
   "cell_type": "code",
   "execution_count": 115,
   "id": "33e87a02",
   "metadata": {},
   "outputs": [
    {
     "data": {
      "text/plain": [
       "75"
      ]
     },
     "execution_count": 115,
     "metadata": {},
     "output_type": "execute_result"
    }
   ],
   "source": [
    "def get_total_area(shapes):\n",
    "    return sum(shape.calculate_area() for shape in shapes)\n",
    "\n",
    "get_total_area([Rectangle(10, 5), Square(5)])"
   ]
  }
 ],
 "metadata": {
  "kernelspec": {
   "display_name": "Python 3 (ipykernel)",
   "language": "python",
   "name": "python3"
  },
  "language_info": {
   "codemirror_mode": {
    "name": "ipython",
    "version": 3
   },
   "file_extension": ".py",
   "mimetype": "text/x-python",
   "name": "python",
   "nbconvert_exporter": "python",
   "pygments_lexer": "ipython3",
   "version": "3.9.16"
  }
 },
 "nbformat": 4,
 "nbformat_minor": 5
}
