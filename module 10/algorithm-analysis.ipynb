{
 "cells": [
  {
   "cell_type": "markdown",
   "metadata": {},
   "source": [
    "# SIT320 - Advanced Algorithms\n",
    "## Module Ten: Algorithm Analysis"
   ]
  },
  {
   "cell_type": "markdown",
   "metadata": {},
   "source": [
    "### Substution Method"
   ]
  },
  {
   "cell_type": "code",
   "execution_count": 3,
   "metadata": {},
   "outputs": [
    {
     "name": "stdout",
     "output_type": "stream",
     "text": [
      "1\n",
      "2\n",
      "6\n",
      "24\n",
      "120\n",
      "720\n",
      "5040\n",
      "40320\n",
      "362880\n"
     ]
    }
   ],
   "source": [
    "def recOne(n):\n",
    "    return 1 if n == 1 else n * recOne(n-1)\n",
    "        \n",
    "for i in range(1, 10):\n",
    "    print(recOne(i))\n",
    "\n",
    "# recOne computes the factorial of n\n",
    "# Using the substitution method, we can see that the running time of recOne is O(n!)"
   ]
  },
  {
   "cell_type": "code",
   "execution_count": 3,
   "metadata": {},
   "outputs": [
    {
     "name": "stdout",
     "output_type": "stream",
     "text": [
      "1\n",
      "1.6931471805599454\n",
      "2.7917594692280554\n",
      "4.178053830347946\n",
      "5.787491742782047\n",
      "7.579251212010101\n",
      "9.525161361065415\n",
      "11.60460290274525\n",
      "13.80182748008147\n"
     ]
    }
   ],
   "source": [
    "import math\n",
    "import time\n",
    "\n",
    "def recTwo(n):\n",
    "    return 1 if n == 1 else recTwo(n-1) + math.log(n)\n",
    "\n",
    "\n",
    "for i in range(1, 10):\n",
    "    print(recTwo(i))\n",
    "\n",
    "\n",
    "# recTwo computes the sum of the logarithms of the numbers from 1 to n\n",
    "# Using the substitution method, we can see that the running time of recTwo is O(nlogn)"
   ]
  },
  {
   "cell_type": "code",
   "execution_count": 7,
   "metadata": {},
   "outputs": [
    {
     "name": "stdout",
     "output_type": "stream",
     "text": [
      "1.0986122886681098\n"
     ]
    }
   ],
   "source": [
    "print(math.log(3))"
   ]
  },
  {
   "cell_type": "code",
   "execution_count": 24,
   "metadata": {},
   "outputs": [
    {
     "name": "stdout",
     "output_type": "stream",
     "text": [
      "1\n",
      "5\n",
      "6\n",
      "19\n",
      "20\n",
      "24\n",
      "25\n",
      "65\n",
      "66\n",
      "96.91171515873822\n"
     ]
    }
   ],
   "source": [
    "def recThree(n):\n",
    "    return 1 if n == 1 else 3*recThree(n//2) + n\n",
    "\n",
    "for i in range(1, 10):\n",
    "    print(recThree(i))\n",
    "\n",
    "# recThree computes 3 times the sum of the numbers from 1 to n/2 plus n\n",
    "# print (n to the power log base 2 of 3) + n\n",
    "print(2*(10**(math.log(3, 2)) + 10))\n",
    "\n"
   ]
  },
  {
   "cell_type": "markdown",
   "metadata": {},
   "source": [
    "### Master Theorem"
   ]
  },
  {
   "cell_type": "markdown",
   "metadata": {},
   "source": [
    "### Recursion Tree Method"
   ]
  },
  {
   "cell_type": "markdown",
   "metadata": {},
   "source": [
    "### QuickSort Analysis"
   ]
  }
 ],
 "metadata": {
  "kernelspec": {
   "display_name": "Python 3",
   "language": "python",
   "name": "python3"
  },
  "language_info": {
   "codemirror_mode": {
    "name": "ipython",
    "version": 3
   },
   "file_extension": ".py",
   "mimetype": "text/x-python",
   "name": "python",
   "nbconvert_exporter": "python",
   "pygments_lexer": "ipython3",
   "version": "3.11.3"
  },
  "orig_nbformat": 4
 },
 "nbformat": 4,
 "nbformat_minor": 2
}
