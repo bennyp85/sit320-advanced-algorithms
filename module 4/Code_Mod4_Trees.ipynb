{
 "cells": [
  {
   "cell_type": "markdown",
   "id": "imposed-playlist",
   "metadata": {},
   "source": [
    "# Lab: Trees"
   ]
  },
  {
   "cell_type": "markdown",
   "id": "d97cce87",
   "metadata": {},
   "source": [
    "Lab associated with Module: Trees"
   ]
  },
  {
   "cell_type": "markdown",
   "id": "5c7f2e9d",
   "metadata": {},
   "source": [
    "***"
   ]
  },
  {
   "cell_type": "code",
   "execution_count": null,
   "id": "5b495ad0",
   "metadata": {},
   "outputs": [],
   "source": [
    "# The following lines are used to increase the width of cells to utilize more space on the screen \n",
    "from IPython.core.display import display, HTML\n",
    "display(HTML(\"<style>.container { width:95% !important; }</style>\"))"
   ]
  },
  {
   "cell_type": "markdown",
   "id": "3a2b855c",
   "metadata": {},
   "source": [
    "***"
   ]
  },
  {
   "cell_type": "markdown",
   "id": "9d0921a0",
   "metadata": {},
   "source": [
    "### Section 0: Imports"
   ]
  },
  {
   "cell_type": "code",
   "execution_count": null,
   "id": "477622d5",
   "metadata": {},
   "outputs": [],
   "source": [
    "import numpy as np"
   ]
  },
  {
   "cell_type": "markdown",
   "id": "88f9f12c",
   "metadata": {},
   "source": [
    "Following libraries have to be installed on your computer. Try to install graphviz by using: conda install python-graphviz\n",
    "\n",
    "I made use of some of the following links to get rid of errors:\n",
    "    \n",
    "https://github.com/quadram-institute-bioscience/albatradis/issues/7\n",
    "\n",
    "https://stackoverflow.com/questions/35064304/runtimeerror-make-sure-the-graphviz-executables-are-on-your-systems-path-aft\n",
    "\n",
    "https://github.com/xflr6/graphviz/issues/68\n",
    "\n",
    "https://github.com/RedaOps/ann-visualizer/issues/12\n",
    "\n",
    "\n",
    "On my mac computer I had to install some packages using brew to get rid of following error: \"ExecutableNotFound: failed to execute ['dot', '-Tsvg'], make sure the Graphviz executables are on your systems' PATH\"\n",
    "\n",
    "brew install graphviz"
   ]
  },
  {
   "cell_type": "code",
   "execution_count": null,
   "id": "965de108",
   "metadata": {},
   "outputs": [],
   "source": [
    "from IPython.display import Image\n",
    "from graphviz import Digraph"
   ]
  },
  {
   "cell_type": "markdown",
   "id": "214d69eb",
   "metadata": {},
   "source": [
    "Details of Digraph package: https://h1ros.github.io/posts/introduction-to-graphviz-in-jupyter-notebook/"
   ]
  },
  {
   "cell_type": "markdown",
   "id": "7f9321f8",
   "metadata": {},
   "source": [
    "***"
   ]
  },
  {
   "cell_type": "markdown",
   "id": "317d9bca",
   "metadata": {},
   "source": [
    "### Section 1: Testing Visualization Package"
   ]
  },
  {
   "cell_type": "markdown",
   "id": "cc820c0e",
   "metadata": {},
   "source": [
    "Let us test this visualization Digraph Pacakge, it is only a tool for displaying tree or graph, this will come handy as it helps to visualize our solution."
   ]
  },
  {
   "cell_type": "code",
   "execution_count": null,
   "id": "d8e6550f",
   "metadata": {},
   "outputs": [],
   "source": [
    "dot = Digraph()\n",
    "\n",
    "dot.node(\"1\")\n",
    "dot.node(\"2\")\n",
    "dot.edges(['12'])"
   ]
  },
  {
   "cell_type": "code",
   "execution_count": null,
   "id": "c86f2017",
   "metadata": {},
   "outputs": [],
   "source": [
    "dot"
   ]
  },
  {
   "cell_type": "code",
   "execution_count": null,
   "id": "1fc3ebf2",
   "metadata": {},
   "outputs": [],
   "source": [
    "# Create Digraph object\n",
    "dot = Digraph()\n",
    "\n",
    "# Add nodes\n",
    "dot.node('1')\n",
    "dot.node('3')\n",
    "dot.node('2')\n",
    "dot.node('5')\n",
    "dot.node('6')\n",
    "dot.node('7')\n",
    "\n",
    "# Add edges\n",
    "dot.edges(['12', '13', '35', '15', '21', '37', '36', '26'])\n",
    "\n",
    "# Visualize the graph\n",
    "dot"
   ]
  },
  {
   "cell_type": "markdown",
   "id": "9ef3277e",
   "metadata": {},
   "source": [
    "***"
   ]
  },
  {
   "cell_type": "markdown",
   "id": "657f5146",
   "metadata": {},
   "source": [
    "### Section 2: Creating a Binary Search Tree"
   ]
  },
  {
   "cell_type": "markdown",
   "id": "090921d3",
   "metadata": {},
   "source": [
    "Let us start by creating a BST"
   ]
  },
  {
   "cell_type": "markdown",
   "id": "96b0985c",
   "metadata": {},
   "source": [
    "We will keep code simple in the sense that we will make a node class, and then build functions outside the class to implement various functionality."
   ]
  },
  {
   "cell_type": "code",
   "execution_count": null,
   "id": "fc9711e4",
   "metadata": {},
   "outputs": [],
   "source": [
    "class Node:\n",
    "    \n",
    "    def __init__(self, value):\n",
    "\n",
    "        self.val = value\n",
    "        self.right = None\n",
    "        self.left = None\n",
    "\n",
    "\n",
    "def buildBinaryTree(nodes):\n",
    "    \n",
    "    if len(nodes) == 0:\n",
    "        raise ValueError('list is empty')\n",
    "        \n",
    "    return binaryTree(nodes, 0, len(nodes) - 1)\n",
    "        \n",
    "def binaryTree(nodes, start, end):\n",
    "    \n",
    "    if start > end:\n",
    "        return\n",
    "    \n",
    "    middle = (start + end) // 2\n",
    "    root = Node(nodes[middle])\n",
    "    root.left = binaryTree(nodes, start, middle - 1)\n",
    "    root.right = binaryTree(nodes, middle + 1, end)\n",
    "    \n",
    "    return root"
   ]
  },
  {
   "cell_type": "code",
   "execution_count": null,
   "id": "f6673a70",
   "metadata": {},
   "outputs": [],
   "source": [
    "test1 = [1, 2, 3, 4, 5, 6, 7, 8]\n",
    "test2 = [-1, 0, 9, 10]"
   ]
  },
  {
   "cell_type": "code",
   "execution_count": null,
   "id": "61844dee",
   "metadata": {},
   "outputs": [],
   "source": [
    "test1_tree = buildBinaryTree(test1)\n",
    "test2_tree = buildBinaryTree(test2)"
   ]
  },
  {
   "cell_type": "markdown",
   "id": "b04fe14f",
   "metadata": {},
   "source": [
    "We will make the simpler assumption that all the keys are unique when we are inserting"
   ]
  },
  {
   "cell_type": "code",
   "execution_count": null,
   "id": "508e47ad",
   "metadata": {},
   "outputs": [],
   "source": [
    "test3 = [0, 1, 2, 3, 3, 3, 5]\n",
    "test3 = np.unique(test3)"
   ]
  },
  {
   "cell_type": "code",
   "execution_count": null,
   "id": "58d627f7",
   "metadata": {},
   "outputs": [],
   "source": [
    "test3_tree = buildBinaryTree(test3)"
   ]
  },
  {
   "cell_type": "markdown",
   "id": "a5662c0b",
   "metadata": {},
   "source": [
    "Okay now that we have build three trees, let us visualize them. For visualization, we will have to write another function."
   ]
  },
  {
   "cell_type": "code",
   "execution_count": null,
   "id": "a4524de8",
   "metadata": {},
   "outputs": [],
   "source": [
    "def visualize_tree(tree):\n",
    "    \n",
    "    def add_nodes_edges(tree, dot=None):\n",
    "        # Create Digraph object\n",
    "        if dot is None:\n",
    "            dot = Digraph()\n",
    "            dot.node(name=str(tree), label=str(tree.val))\n",
    "\n",
    "        # Add nodes\n",
    "        if tree.left:\n",
    "            dot.node(name=str(tree.left) ,label=str(tree.left.val))\n",
    "            dot.edge(str(tree), str(tree.left))\n",
    "            dot = add_nodes_edges(tree.left, dot=dot)\n",
    "            \n",
    "        if tree.right:\n",
    "            dot.node(name=str(tree.right) ,label=str(tree.right.val))\n",
    "            dot.edge(str(tree), str(tree.right))\n",
    "            dot = add_nodes_edges(tree.right, dot=dot)\n",
    "\n",
    "        return dot\n",
    "    \n",
    "    # Add nodes recursively and create a list of edges\n",
    "    dot = add_nodes_edges(tree)\n",
    "\n",
    "    # Visualize the graph\n",
    "    display(dot)\n",
    "    \n",
    "    return dot"
   ]
  },
  {
   "cell_type": "code",
   "execution_count": null,
   "id": "55ca6fe6",
   "metadata": {},
   "outputs": [],
   "source": [
    "dot = visualize_tree(test1_tree)"
   ]
  },
  {
   "cell_type": "code",
   "execution_count": null,
   "id": "9d55d1a9",
   "metadata": {},
   "outputs": [],
   "source": [
    "dot = visualize_tree(test2_tree)"
   ]
  },
  {
   "cell_type": "code",
   "execution_count": null,
   "id": "5596016b",
   "metadata": {},
   "outputs": [],
   "source": [
    "dot = visualize_tree(test3_tree)"
   ]
  },
  {
   "cell_type": "markdown",
   "id": "679135ba",
   "metadata": {},
   "source": [
    "***"
   ]
  },
  {
   "cell_type": "markdown",
   "id": "e7b3ec46",
   "metadata": {},
   "source": [
    "### Section 3: Implementing Search, Insert and Delete Operations"
   ]
  },
  {
   "cell_type": "markdown",
   "id": "08f4c3ee",
   "metadata": {},
   "source": [
    "Let us implement IDS operations on the BST we have built"
   ]
  },
  {
   "cell_type": "markdown",
   "id": "b07d8136",
   "metadata": {},
   "source": [
    "Search operation should look like:"
   ]
  },
  {
   "cell_type": "code",
   "execution_count": null,
   "id": "e4d264b9",
   "metadata": {},
   "outputs": [],
   "source": [
    "def search(nodes, val):\n",
    "\n",
    "    if val == nodes.val:\n",
    "        return True\n",
    "\n",
    "    if val < nodes.val:\n",
    "        \n",
    "        if nodes.left == None:\n",
    "            return False\n",
    "\n",
    "        return search(nodes.left, val)\n",
    "\n",
    "    elif val >= nodes.val:\n",
    "        \n",
    "        if nodes.right == None:\n",
    "            return False\n",
    "\n",
    "        return search(nodes.right, val)"
   ]
  },
  {
   "cell_type": "code",
   "execution_count": null,
   "id": "facb622b",
   "metadata": {},
   "outputs": [],
   "source": [
    "search(test3_tree, 3)"
   ]
  },
  {
   "cell_type": "code",
   "execution_count": null,
   "id": "48de85cf",
   "metadata": {},
   "outputs": [],
   "source": [
    "search(test1_tree, 18)"
   ]
  },
  {
   "cell_type": "markdown",
   "id": "5e11e2e0",
   "metadata": {},
   "source": [
    "Let us write insert function now:"
   ]
  },
  {
   "cell_type": "code",
   "execution_count": null,
   "id": "8fca8d65",
   "metadata": {},
   "outputs": [],
   "source": [
    "def insert(nodes, val):\n",
    "\n",
    "    # Empty Tree\n",
    "    if nodes == None:\n",
    "        nodes = Node(val)\n",
    "        return\n",
    "\n",
    "    # Value already exist on the node\n",
    "    if nodes.val == val:\n",
    "        return\n",
    "\n",
    "    if val < nodes.val:\n",
    "\n",
    "        if nodes.left == None: \n",
    "            nodes.left = Node(val)\n",
    "            return\n",
    "        else:\n",
    "            insert(nodes.left, val)\n",
    "            return\n",
    "\n",
    "    elif val >= nodes.val:\n",
    "        \n",
    "        if nodes.right == None:\n",
    "            nodes.right = Node(val)\n",
    "            return\n",
    "        else:\n",
    "            insert(nodes.right, val)\n",
    "            return"
   ]
  },
  {
   "cell_type": "code",
   "execution_count": null,
   "id": "8df84f57",
   "metadata": {},
   "outputs": [],
   "source": [
    "test3 = [0, 1, 2, 3, 3, 3, 5]\n",
    "test3 = np.unique(test3)\n",
    "\n",
    "test3_tree = buildBinaryTree(test3)\n",
    "dot = visualize_tree(test3_tree)"
   ]
  },
  {
   "cell_type": "code",
   "execution_count": null,
   "id": "c483c78b",
   "metadata": {},
   "outputs": [],
   "source": [
    "insert(test3_tree, -1.5)\n",
    "dot = visualize_tree(test3_tree)"
   ]
  },
  {
   "cell_type": "markdown",
   "id": "d2e36c91",
   "metadata": {},
   "source": [
    "Let us write delete opertion. We will write another function minValueNode as well."
   ]
  },
  {
   "cell_type": "code",
   "execution_count": null,
   "id": "d16f9745",
   "metadata": {},
   "outputs": [],
   "source": [
    "def minValueNode(node):\n",
    "    current = node\n",
    " \n",
    "    # loop down to find the leftmost leaf\n",
    "    while(current.left is not None):\n",
    "        current = current.left\n",
    " \n",
    "    return current\n",
    "\n",
    "def delete(nodes, val):\n",
    "\n",
    "    if nodes == None:  \n",
    "        return nodes\n",
    "\n",
    "    if val < nodes.val:\n",
    "        \n",
    "        #if nodes.left:\n",
    "        nodes.left = delete(nodes.left, val)\n",
    "\n",
    "    elif val > nodes.val:\n",
    "        \n",
    "        #if nodes.right:\n",
    "        nodes.right = delete(nodes.right, val)\n",
    "\n",
    "    else:\n",
    "        \n",
    "        # Node with only one child or no child\n",
    "        \n",
    "        if nodes.left is None:\n",
    "            temp = nodes.right\n",
    "            nodes = None\n",
    "            return temp\n",
    "        elif nodes.right is None:\n",
    "            temp = nodes.left\n",
    "            nodes = None\n",
    "            return temp\n",
    "        \n",
    "        # Nodes with two children: Get the inorder successor\n",
    "        temp = minValueNode(nodes.right)\n",
    "        \n",
    "        nodes.val = temp.val\n",
    "        \n",
    "        nodes.right = delete(nodes.right, temp.val)\n",
    "        \n",
    "    return nodes"
   ]
  },
  {
   "cell_type": "code",
   "execution_count": null,
   "id": "5e12f007",
   "metadata": {},
   "outputs": [],
   "source": [
    "test3_tree = buildBinaryTree([50])\n",
    "dot = visualize_tree(test3_tree)"
   ]
  },
  {
   "cell_type": "code",
   "execution_count": null,
   "id": "892ef4f2",
   "metadata": {},
   "outputs": [],
   "source": [
    "insert(test3_tree, 50)\n",
    "insert(test3_tree, 30)\n",
    "insert(test3_tree, 20)\n",
    "insert(test3_tree, 40)\n",
    "insert(test3_tree, 70)\n",
    "insert(test3_tree, 60)\n",
    "insert(test3_tree, 80)\n",
    "dot = visualize_tree(test3_tree)"
   ]
  },
  {
   "cell_type": "code",
   "execution_count": null,
   "id": "e232f617",
   "metadata": {},
   "outputs": [],
   "source": [
    "delete(test3_tree, 50)\n",
    "dot = visualize_tree(test3_tree)"
   ]
  },
  {
   "cell_type": "markdown",
   "id": "e3b820f2",
   "metadata": {},
   "source": [
    "***"
   ]
  },
  {
   "cell_type": "markdown",
   "id": "f9b31a04",
   "metadata": {},
   "source": [
    "### <font color='red'> Section 4: Now that you have a good understanding of BST, write down code for activities in the onTrack Task sheet, in the following section </font>"
   ]
  },
  {
   "cell_type": "code",
   "execution_count": null,
   "id": "2a6897da",
   "metadata": {},
   "outputs": [],
   "source": [
    "### TODO ###\n",
    "### Good Luck ###\n",
    "    \n",
    "\n",
    "\n",
    "\n",
    "\n",
    "\n",
    "\n"
   ]
  },
  {
   "cell_type": "markdown",
   "id": "01e640cf",
   "metadata": {},
   "source": [
    "***"
   ]
  }
 ],
 "metadata": {
  "kernelspec": {
   "display_name": "Python 3",
   "language": "python",
   "name": "python3"
  },
  "language_info": {
   "codemirror_mode": {
    "name": "ipython",
    "version": 3
   },
   "file_extension": ".py",
   "mimetype": "text/x-python",
   "name": "python",
   "nbconvert_exporter": "python",
   "pygments_lexer": "ipython3",
   "version": "3.11.3"
  }
 },
 "nbformat": 4,
 "nbformat_minor": 5
}
