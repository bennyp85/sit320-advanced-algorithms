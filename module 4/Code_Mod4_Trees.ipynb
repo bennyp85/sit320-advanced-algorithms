{
 "cells": [
  {
   "cell_type": "markdown",
   "id": "imposed-playlist",
   "metadata": {},
   "source": [
    "# Lab: Trees"
   ]
  },
  {
   "cell_type": "markdown",
   "id": "d97cce87",
   "metadata": {},
   "source": [
    "Lab associated with Module: Trees"
   ]
  },
  {
   "cell_type": "markdown",
   "id": "5c7f2e9d",
   "metadata": {},
   "source": [
    "***"
   ]
  },
  {
   "cell_type": "code",
   "execution_count": null,
   "id": "5b495ad0",
   "metadata": {},
   "outputs": [],
   "source": [
    "# The following lines are used to increase the width of cells to utilize more space on the screen \n",
    "from IPython.core.display import display, HTML\n",
    "display(HTML(\"<style>.container { width:95% !important; }</style>\"))"
   ]
  },
  {
   "cell_type": "markdown",
   "id": "3a2b855c",
   "metadata": {},
   "source": [
    "***"
   ]
  },
  {
   "cell_type": "markdown",
   "id": "9d0921a0",
   "metadata": {},
   "source": [
    "### Section 0: Imports"
   ]
  },
  {
   "cell_type": "code",
   "execution_count": null,
   "id": "477622d5",
   "metadata": {},
   "outputs": [],
   "source": [
    "import numpy as np"
   ]
  },
  {
   "cell_type": "markdown",
   "id": "88f9f12c",
   "metadata": {},
   "source": [
    "Following libraries have to be installed on your computer. Try to install graphviz by using: conda install python-graphviz\n",
    "\n",
    "I made use of some of the following links to get rid of errors:\n",
    "    \n",
    "https://github.com/quadram-institute-bioscience/albatradis/issues/7\n",
    "\n",
    "https://stackoverflow.com/questions/35064304/runtimeerror-make-sure-the-graphviz-executables-are-on-your-systems-path-aft\n",
    "\n",
    "https://github.com/xflr6/graphviz/issues/68\n",
    "\n",
    "https://github.com/RedaOps/ann-visualizer/issues/12\n",
    "\n",
    "\n",
    "On my mac computer I had to install some packages using brew to get rid of following error: \"ExecutableNotFound: failed to execute ['dot', '-Tsvg'], make sure the Graphviz executables are on your systems' PATH\"\n",
    "\n",
    "brew install graphviz"
   ]
  },
  {
   "cell_type": "code",
   "execution_count": null,
   "id": "965de108",
   "metadata": {},
   "outputs": [],
   "source": [
    "from IPython.display import Image\n",
    "from graphviz import Digraph"
   ]
  },
  {
   "cell_type": "markdown",
   "id": "214d69eb",
   "metadata": {},
   "source": [
    "Details of Digraph package: https://h1ros.github.io/posts/introduction-to-graphviz-in-jupyter-notebook/"
   ]
  },
  {
   "cell_type": "markdown",
   "id": "7f9321f8",
   "metadata": {},
   "source": [
    "***"
   ]
  },
  {
   "cell_type": "markdown",
   "id": "317d9bca",
   "metadata": {},
   "source": [
    "### Section 1: Testing Visualization Package"
   ]
  },
  {
   "cell_type": "markdown",
   "id": "cc820c0e",
   "metadata": {},
   "source": [
    "Let us test this visualization Digraph Pacakge, it is only a tool for displaying tree or graph, this will come handy as it helps to visualize our solution."
   ]
  },
  {
   "cell_type": "code",
   "execution_count": null,
   "id": "d8e6550f",
   "metadata": {},
   "outputs": [],
   "source": [
    "dot = Digraph()\n",
    "\n",
    "dot.node(\"1\")\n",
    "dot.node(\"2\")\n",
    "dot.edges(['12'])"
   ]
  },
  {
   "cell_type": "code",
   "execution_count": null,
   "id": "c86f2017",
   "metadata": {},
   "outputs": [],
   "source": [
    "dot"
   ]
  },
  {
   "cell_type": "markdown",
   "id": "c3349f09",
   "metadata": {},
   "source": [
    "## Digraphs\n",
    "### Directed Graphs\n",
    "- This is an example of a DAG (Directed Acyclic Graph)\n",
    "- A DAG is a directed graph with no cycles\n",
    "- A cycle is a path of edges and vertices wherein a vertex is reachable from itself\n",
    "- A directed graph is a graph in which edges have orientations\n",
    "- **A directed graph is acyclic if and only if its vertices can be ordered in such a way that all the edges are directed from left to right**\n",
    "- **A directed graph is acyclic if and only if it has a topological ordering**\n",
    "- A directed graph is connected if it contains a directed path from u to v or a directed path from v to u for every pair of vertices u, v\n",
    "- A directed graph is disconnected if it is not connected\n",
    "- A directed graph is semiconnected if there is a path from u to v or a path from v to u for every pair of vertices u, v\n",
    "- A directed graph is strongly connected if there is a path between all pairs of vertices\n",
    "- A directed graph is weakly connected if replacing all of its directed edges with undirected edges produces a connected (undirected) graph"
   ]
  },
  {
   "cell_type": "code",
   "execution_count": null,
   "id": "1fc3ebf2",
   "metadata": {},
   "outputs": [],
   "source": [
    "# Create Digraph object\n",
    "dot = Digraph()\n",
    "\n",
    "# Add nodes\n",
    "dot.node('1')\n",
    "dot.node('3')\n",
    "dot.node('2')\n",
    "dot.node('5')\n",
    "dot.node('6')\n",
    "dot.node('7')\n",
    "\n",
    "# Add edges\n",
    "dot.edges(['12', '13', '35', '15', '21', '37', '36', '26'])\n",
    "\n",
    "# Visualize the graph\n",
    "dot"
   ]
  },
  {
   "cell_type": "markdown",
   "id": "9ef3277e",
   "metadata": {},
   "source": [
    "***"
   ]
  },
  {
   "cell_type": "markdown",
   "id": "657f5146",
   "metadata": {},
   "source": [
    "### Section 2: Creating a Binary Search Tree"
   ]
  },
  {
   "cell_type": "markdown",
   "id": "090921d3",
   "metadata": {},
   "source": [
    "Let us start by creating a BST"
   ]
  },
  {
   "cell_type": "markdown",
   "id": "96b0985c",
   "metadata": {},
   "source": [
    "We will keep code simple in the sense that we will make a node class, and then build functions outside the class to implement various functionality."
   ]
  },
  {
   "cell_type": "markdown",
   "id": "8e2111a7",
   "metadata": {},
   "source": [
    "This is a recursive algorithm."
   ]
  },
  {
   "cell_type": "code",
   "execution_count": null,
   "id": "fc9711e4",
   "metadata": {},
   "outputs": [],
   "source": [
    "class Node:\n",
    "    \n",
    "    def __init__(self, value):\n",
    "\n",
    "        self.val = value\n",
    "        self.right = None\n",
    "        self.left = None\n",
    "\n",
    "\n",
    "def buildBinaryTree(nodes):\n",
    "    \n",
    "    if len(nodes) == 0:\n",
    "        raise ValueError('list is empty')\n",
    "        \n",
    "    return binaryTree(nodes, 0, len(nodes) - 1)\n",
    "        \n",
    "def binaryTree(nodes, start, end):\n",
    "    \n",
    "    if start > end:\n",
    "        return\n",
    "    \n",
    "    middle = (start + end) // 2\n",
    "    root = Node(nodes[middle])\n",
    "    root.left = binaryTree(nodes, start, middle - 1)\n",
    "    root.right = binaryTree(nodes, middle + 1, end)\n",
    "    \n",
    "    return root"
   ]
  },
  {
   "cell_type": "code",
   "execution_count": null,
   "id": "f6673a70",
   "metadata": {},
   "outputs": [],
   "source": [
    "test1 = [1, 2, 3, 4, 5, 6, 7, 8]\n",
    "test2 = [-1, 0, 9, 10]"
   ]
  },
  {
   "cell_type": "code",
   "execution_count": null,
   "id": "61844dee",
   "metadata": {},
   "outputs": [],
   "source": [
    "test1_tree = buildBinaryTree(test1)\n",
    "test2_tree = buildBinaryTree(test2)"
   ]
  },
  {
   "cell_type": "markdown",
   "id": "b04fe14f",
   "metadata": {},
   "source": [
    "We will make the simpler assumption that all the keys are unique when we are inserting\n",
    "- np.unique() function can be used to check if all the keys are unique"
   ]
  },
  {
   "cell_type": "code",
   "execution_count": null,
   "id": "508e47ad",
   "metadata": {},
   "outputs": [],
   "source": [
    "test3 = [0, 1, 2, 3, 3, 3, 5]\n",
    "test3 = np.unique(test3)"
   ]
  },
  {
   "cell_type": "code",
   "execution_count": null,
   "id": "58d627f7",
   "metadata": {},
   "outputs": [],
   "source": [
    "test3_tree = buildBinaryTree(test3)"
   ]
  },
  {
   "cell_type": "code",
   "execution_count": null,
   "id": "2328af90",
   "metadata": {},
   "outputs": [],
   "source": [
    "\n",
    "test4_tree = buildBinaryTree([3, 1, 2, 5, 4, 6, 8, 7, 9])"
   ]
  },
  {
   "cell_type": "markdown",
   "id": "a5662c0b",
   "metadata": {},
   "source": [
    "Okay now that we have build three trees, let us visualize them. For visualization, we will have to write another function.\n",
    "\n",
    "- This code does not build a balanced tree, it builds a tree that is dependent on the order of insertion"
   ]
  },
  {
   "cell_type": "code",
   "execution_count": null,
   "id": "a4524de8",
   "metadata": {},
   "outputs": [],
   "source": [
    "def visualize_tree(tree):\n",
    "    \n",
    "    def add_nodes_edges(tree, dot=None):\n",
    "        # Create Digraph object\n",
    "        if dot is None:\n",
    "            dot = Digraph()\n",
    "            dot.node(name=str(tree), label=str(tree.val))\n",
    "\n",
    "        # Add nodes\n",
    "        if tree.left:\n",
    "            dot.node(name=str(tree.left) ,label=str(tree.left.val))\n",
    "            dot.edge(str(tree), str(tree.left))\n",
    "            dot = add_nodes_edges(tree.left, dot=dot)\n",
    "            \n",
    "        if tree.right:\n",
    "            dot.node(name=str(tree.right) ,label=str(tree.right.val))\n",
    "            dot.edge(str(tree), str(tree.right))\n",
    "            dot = add_nodes_edges(tree.right, dot=dot)\n",
    "\n",
    "        return dot\n",
    "    \n",
    "    # Add nodes recursively and create a list of edges\n",
    "    dot = add_nodes_edges(tree)\n",
    "\n",
    "    # Visualize the graph\n",
    "    display(dot)\n",
    "    \n",
    "    return dot"
   ]
  },
  {
   "cell_type": "code",
   "execution_count": null,
   "id": "55ca6fe6",
   "metadata": {},
   "outputs": [],
   "source": [
    "dot = visualize_tree(test1_tree)"
   ]
  },
  {
   "cell_type": "code",
   "execution_count": null,
   "id": "9d55d1a9",
   "metadata": {},
   "outputs": [],
   "source": [
    "dot = visualize_tree(test2_tree)"
   ]
  },
  {
   "cell_type": "code",
   "execution_count": null,
   "id": "5596016b",
   "metadata": {},
   "outputs": [],
   "source": [
    "dot = visualize_tree(test3_tree)"
   ]
  },
  {
   "cell_type": "code",
   "execution_count": null,
   "id": "aeb22db8",
   "metadata": {},
   "outputs": [],
   "source": [
    "dot = visualize_tree(test4_tree)"
   ]
  },
  {
   "cell_type": "markdown",
   "id": "679135ba",
   "metadata": {},
   "source": [
    "***"
   ]
  },
  {
   "cell_type": "markdown",
   "id": "e7b3ec46",
   "metadata": {},
   "source": [
    "### Section 3: Implementing Search, Insert and Delete Operations"
   ]
  },
  {
   "cell_type": "markdown",
   "id": "08f4c3ee",
   "metadata": {},
   "source": [
    "Let us implement IDS operations on the BST we have built\n",
    "\n",
    "- This code finds the key(value) in the tree and returns True if it is found, else returns False"
   ]
  },
  {
   "cell_type": "markdown",
   "id": "b07d8136",
   "metadata": {},
   "source": [
    "Search operation should look like:"
   ]
  },
  {
   "cell_type": "code",
   "execution_count": null,
   "id": "e4d264b9",
   "metadata": {},
   "outputs": [],
   "source": [
    "def search(nodes, val):\n",
    "    if val == nodes.val:\n",
    "        return True\n",
    "\n",
    "    if val < nodes.val:\n",
    "        return False if nodes.left is None else search(nodes.left, val)\n",
    "    return False if nodes.right is None else search(nodes.right, val)"
   ]
  },
  {
   "cell_type": "code",
   "execution_count": null,
   "id": "facb622b",
   "metadata": {},
   "outputs": [],
   "source": [
    "search(test3_tree, 3)"
   ]
  },
  {
   "cell_type": "code",
   "execution_count": null,
   "id": "48de85cf",
   "metadata": {},
   "outputs": [],
   "source": [
    "search(test1_tree, 18)"
   ]
  },
  {
   "cell_type": "markdown",
   "id": "5e11e2e0",
   "metadata": {},
   "source": [
    "Let us write insert function now:\n",
    "\n",
    "**upadted code** \n",
    "- I removed redundant return statements\n",
    "- Changed the **==** comaprison to **is** comparison\n",
    "\n",
    "- The code recusrively traverses the tree and inserts the node at the appropriate location\n",
    "- It finds the location by comparing the key of the node to be inserted with the key of the current node\n",
    "- If the key is less than the current node, it goes to the left subtree, else it goes to the right subtree"
   ]
  },
  {
   "cell_type": "code",
   "execution_count": null,
   "id": "8fca8d65",
   "metadata": {},
   "outputs": [],
   "source": [
    "def insert(nodes, val):\n",
    "\n",
    "    # Empty Tree\n",
    "    if nodes is None:\n",
    "        nodes = Node(val)\n",
    "        return\n",
    "\n",
    "    # Value already exist on the node\n",
    "    if nodes.val == val:\n",
    "        return\n",
    "\n",
    "    if val < nodes.val:\n",
    "\n",
    "        if nodes.left is None: \n",
    "            nodes.left = Node(val)\n",
    "        else:\n",
    "            insert(nodes.left, val)\n",
    "    elif nodes.right is None:\n",
    "        nodes.right = Node(val)\n",
    "    else:\n",
    "        insert(nodes.right, val)\n",
    "    return"
   ]
  },
  {
   "cell_type": "code",
   "execution_count": null,
   "id": "8df84f57",
   "metadata": {},
   "outputs": [],
   "source": [
    "test3 = [0, 1, 2, 3, 3, 3, 5]\n",
    "test3 = np.unique(test3)\n",
    "\n",
    "test3_tree = buildBinaryTree(test3)\n",
    "dot = visualize_tree(test3_tree)"
   ]
  },
  {
   "cell_type": "code",
   "execution_count": null,
   "id": "c483c78b",
   "metadata": {},
   "outputs": [],
   "source": [
    "insert(test3_tree, -1.5)\n",
    "dot = visualize_tree(test3_tree)"
   ]
  },
  {
   "cell_type": "markdown",
   "id": "d2e36c91",
   "metadata": {},
   "source": [
    "Let us write delete opertion. We will write another function minValueNode as well.\n",
    "\n",
    "- This function finds the inorder successor of the node\n",
    "- This is the node with the minimum key value in the right subtree of the node to be deleted"
   ]
  },
  {
   "cell_type": "code",
   "execution_count": null,
   "id": "d16f9745",
   "metadata": {},
   "outputs": [],
   "source": [
    "def minValueNode(node):\n",
    "    current = node\n",
    " \n",
    "    # loop down to find the leftmost leaf\n",
    "    while(current.left is not None):\n",
    "        current = current.left\n",
    " \n",
    "    return current\n",
    "\n",
    "def delete(nodes, val):\n",
    "\n",
    "    if nodes is None:  \n",
    "        return nodes\n",
    "\n",
    "    if val < nodes.val:\n",
    "\n",
    "        #if nodes.left:\n",
    "        nodes.left = delete(nodes.left, val)\n",
    "\n",
    "    elif val > nodes.val:\n",
    "\n",
    "        #if nodes.right:\n",
    "        nodes.right = delete(nodes.right, val)\n",
    "\n",
    "    else:\n",
    "\n",
    "        # Node with only one child or no child\n",
    "\n",
    "        if nodes.left is None:\n",
    "            temp = nodes.right\n",
    "            nodes = None\n",
    "            return temp\n",
    "        elif nodes.right is None:\n",
    "            temp = nodes.left\n",
    "            nodes = None\n",
    "            return temp\n",
    "\n",
    "        # Nodes with two children: Get the inorder successor\n",
    "        temp = minValueNode(nodes.right)\n",
    "\n",
    "        nodes.val = temp.val\n",
    "\n",
    "        nodes.right = delete(nodes.right, temp.val)\n",
    "\n",
    "    return nodes"
   ]
  },
  {
   "cell_type": "code",
   "execution_count": null,
   "id": "5e12f007",
   "metadata": {},
   "outputs": [],
   "source": [
    "test3_tree = buildBinaryTree([50])\n",
    "dot = visualize_tree(test3_tree)"
   ]
  },
  {
   "cell_type": "markdown",
   "id": "42bc8afd",
   "metadata": {},
   "source": [
    "- Test case\n",
    "- Added value of 45 to the tree"
   ]
  },
  {
   "cell_type": "code",
   "execution_count": null,
   "id": "892ef4f2",
   "metadata": {},
   "outputs": [],
   "source": [
    "insert(test3_tree, 50)\n",
    "insert(test3_tree, 30)\n",
    "insert(test3_tree, 20)\n",
    "insert(test3_tree, 40)\n",
    "insert(test3_tree, 70)\n",
    "insert(test3_tree, 60)\n",
    "insert(test3_tree, 80)\n",
    "dot = visualize_tree(test3_tree)"
   ]
  },
  {
   "cell_type": "code",
   "execution_count": null,
   "id": "e232f617",
   "metadata": {},
   "outputs": [],
   "source": [
    "delete(test3_tree, 50)\n",
    "dot = visualize_tree(test3_tree)"
   ]
  },
  {
   "cell_type": "markdown",
   "id": "e3b820f2",
   "metadata": {},
   "source": [
    "***"
   ]
  },
  {
   "cell_type": "markdown",
   "id": "f9b31a04",
   "metadata": {},
   "source": [
    "### <font color='red'> Section 4: Now that you have a good understanding of BST, write down code for activities in the onTrack Task sheet, in the following section </font>"
   ]
  },
  {
   "cell_type": "code",
   "execution_count": null,
   "id": "2a6897da",
   "metadata": {},
   "outputs": [],
   "source": [
    "### TODO ###\n",
    "### Good Luck ###\n",
    "class Node:\n",
    "    \n",
    "    def __init__(self, value, parent=None):\n",
    "        self.val = value\n",
    "        self.right = None\n",
    "        self.left = None\n",
    "        self.balance_factor = 0\n",
    "        self.parent = parent\n",
    "\n",
    "\n",
    "def buildBinaryTree(nodes):\n",
    "    \"\"\"Build a binary tree from a list of values\n",
    "    Args: nodes(list): list of values\n",
    "    Returns: root node of the binary tree\n",
    "    \"\"\"\n",
    "    if len(nodes) == 0:\n",
    "        raise ValueError('list is empty')\n",
    "        \n",
    "    return binaryTree(nodes, 0, len(nodes) - 1, None)\n",
    "        \n",
    "def binaryTree(nodes, start, end, parent):\n",
    "    \"\"\"Build a binary tree from a list of values\n",
    "    Args: nodes(list): list of values, start(int): start index, end(int): end index, parent(Node): parent node\n",
    "    Returns: root node of the binary tree\n",
    "    \"\"\"\n",
    "    if start > end:\n",
    "        return\n",
    "    \n",
    "    middle = (start + end) // 2\n",
    "    root = Node(nodes[middle], parent)\n",
    "    root.left = binaryTree(nodes, start, middle - 1, root)\n",
    "    root.right = binaryTree(nodes, middle + 1, end, root)\n",
    "\n",
    "    root.balance_factor = left_height(root) - right_height(root)\n",
    "    \n",
    "    return root\n",
    "\n",
    "def height(root):\n",
    "    \"\"\"Calculate the height of a tree\n",
    "    Args: root(node): root node of the tree\n",
    "    Returns: height(int): height of the tree\n",
    "    \"\"\"\n",
    "    return 0 if root is None else max(height(root.left), height(root.right)) + 1\n",
    "\n",
    "def left_height(root):\n",
    "    return height(root.left)\n",
    "\n",
    "def right_height(root):\n",
    "    return height(root.right)\n",
    "\n",
    "def insert(nodes, val):\n",
    "    \"\"\"Insert a value into a binary tree\n",
    "    Args: nodes(node): root node of the tree, val(int): value to be inserted\n",
    "    Returns: None\n",
    "    \"\"\"\n",
    "    if nodes is None:\n",
    "        nodes = Node(val)\n",
    "        return\n",
    "\n",
    "    if nodes.val == val:\n",
    "        return\n",
    "\n",
    "    if val < nodes.val:\n",
    "\n",
    "        if nodes.left is None: \n",
    "            nodes.left = Node(val)\n",
    "        else:\n",
    "            insert(nodes.left, val)\n",
    "    elif nodes.right is None:\n",
    "        nodes.right = Node(val)\n",
    "    else:\n",
    "        insert(nodes.right, val)\n",
    "    \n",
    "    nodes.balance_factor = left_height(nodes) - right_height(nodes)\n",
    "    return\n",
    "\n",
    "def checkForBalance(nodes):\n",
    "    \"\"\"Check if a binary tree is balanced\n",
    "    Args: nodes(node): root node of the tree\n",
    "    Returns: True if balanced, False if not balanced\n",
    "    \"\"\"\n",
    "    if nodes is None:\n",
    "        return True\n",
    "    if nodes.balance_factor > 1 or nodes.balance_factor < -1:\n",
    "        return False\n",
    "    return checkForBalance(nodes.left) and checkForBalance(nodes.right)\n",
    "\n",
    "\n",
    "def delete(nodes, val):\n",
    "    \"\"\"Delete a value from a binary tree\n",
    "    Args: nodes(node): root node of the tree, val(int): value to be deleted\n",
    "    Returns: root node of the tree\n",
    "    \"\"\"\n",
    "\n",
    "    if nodes is None:  \n",
    "        return nodes\n",
    "\n",
    "    if val < nodes.val:\n",
    "        nodes.left = delete(nodes.left, val)\n",
    "\n",
    "    elif val > nodes.val:\n",
    "        nodes.right = delete(nodes.right, val)\n",
    "\n",
    "    else:\n",
    "\n",
    "        # Node with only one child or no child\n",
    "\n",
    "        if nodes.left is None:\n",
    "            temp = nodes.right\n",
    "            nodes = None\n",
    "            return temp\n",
    "        elif nodes.right is None:\n",
    "            temp = nodes.left\n",
    "            nodes = None\n",
    "            return temp\n",
    "\n",
    "        # Nodes with two children: Get the inorder successor\n",
    "        temp = minValueNode(nodes.right)\n",
    "        nodes.val = temp.val\n",
    "        nodes.right = delete(nodes.right, temp.val)\n",
    "    \n",
    "    nodes.balance_factor = left_height(nodes) - right_height(nodes)\n",
    "\n",
    "    return nodes\n",
    "\n",
    "def findCommonAncestor(nodes, val1, val2):\n",
    "    \"\"\"Find the common ancestor of two nodes\n",
    "    Args: nodes(node): root node of the tree, val1(int): value of node 1, val2(int): value of node 2\n",
    "    Returns: value of the common ancestor\n",
    "    \"\"\"\n",
    "    if nodes is None:\n",
    "        return None\n",
    "    if nodes.val in [val1, val2]:\n",
    "        return nodes.val\n",
    "    if nodes.val > val1 and nodes.val > val2:\n",
    "        return findCommonAncestor(nodes.left, val1, val2)\n",
    "    if nodes.val < val1 and nodes.val < val2:\n",
    "        return findCommonAncestor(nodes.right, val1, val2)\n",
    "    return nodes.val\n",
    "\n",
    "def printBalanceFactors(nodes):\n",
    "    \"\"\"Print the balance factor of each node\n",
    "    Args: nodes(node): root node of the tree\n",
    "    Returns: None\n",
    "    \"\"\"\n",
    "    if nodes is None:\n",
    "        return\n",
    "    print(\n",
    "        f\"node: {str(nodes.val)}, \"\n",
    "        f\"balance factor: {str(nodes.balance_factor)}\"\n",
    "    )\n",
    "    printBalanceFactors(nodes.left)\n",
    "    printBalanceFactors(nodes.right)\n",
    "\n",
    "\n",
    "def rightRotate(tree, val):\n",
    "    \"\"\"Right rotate a subtree\n",
    "    Args: tree(node): root node of the tree, val(int): value of the node to be rotated\n",
    "    Returns: root node of the subtree\n",
    "    \"\"\"\n",
    "    node = findNode(tree, val)\n",
    "    if node is None or node.left is None:\n",
    "        return tree\n",
    "    temp = node.left\n",
    "    node.left = temp.right\n",
    "    if node.left:  # Update parent pointer for the left child of the rotated node\n",
    "        node.left.parent = node\n",
    "    temp.right = node\n",
    "    if node.parent is not None:\n",
    "        if node.parent.left == node:\n",
    "            node.parent.left = temp\n",
    "        else:\n",
    "            node.parent.right = temp\n",
    "    temp.parent = node.parent\n",
    "    node.parent = temp\n",
    "    \n",
    "    # If rotated node was the root, return the new root (temp), otherwise return the original root (tree)\n",
    "    return temp if temp.parent is None else tree\n",
    "\n",
    "\n",
    "def leftRotate(tree, val):\n",
    "    \"\"\"Left rotate a subtree\n",
    "    Args: tree(node): root node of the tree, val(int): value of the node to be rotated\n",
    "    Returns: root node of the subtree\n",
    "    \"\"\"\n",
    "    node = findNode(tree, val)\n",
    "    if node is None or node.right is None:\n",
    "        return tree\n",
    "    temp = node.right\n",
    "    node.right = temp.left\n",
    "    if node.right:  # Update parent pointer for the right child of the rotated node\n",
    "        node.right.parent = node\n",
    "    temp.left = node\n",
    "    if node.parent is not None:\n",
    "        if node.parent.left == node:\n",
    "            node.parent.left = temp\n",
    "        else:\n",
    "            node.parent.right = temp\n",
    "    temp.parent = node.parent\n",
    "    node.parent = temp\n",
    "    \n",
    "    # If rotated node was the root, return the new root (temp), otherwise return the original root (tree)\n",
    "    return temp if temp.parent is None else tree\n",
    "\n",
    "\n",
    "def findNode(tree, val):\n",
    "    \"\"\"Find a node with a given value\n",
    "    Args: tree(node): root node of the tree, val(int): value of the node to be found\n",
    "    Returns: node with the given value\n",
    "    \"\"\"\n",
    "    if tree is None:\n",
    "        return None\n",
    "    if tree.val == val:\n",
    "        return tree\n",
    "    if tree.val > val:\n",
    "        return findNode(tree.left, val)\n",
    "    return findNode(tree.right, val)\n"
   ]
  },
  {
   "cell_type": "code",
   "execution_count": null,
   "id": "90394308",
   "metadata": {},
   "outputs": [],
   "source": [
    "test4_tree = buildBinaryTree([3, 1, 2, 5, 4, 6, 8, 7, 9])\n",
    "dot = visualize_tree(test4_tree)\n",
    "tree = leftRotate(test4_tree, 4)\n",
    "dot = visualize_tree(tree)\n",
    "printBalanceFactors(tree)\n",
    "\n",
    "\n",
    "\n"
   ]
  },
  {
   "cell_type": "code",
   "execution_count": null,
   "id": "57095b2a",
   "metadata": {},
   "outputs": [],
   "source": []
  }
 ],
 "metadata": {
  "kernelspec": {
   "display_name": "Python 3",
   "language": "python",
   "name": "python3"
  },
  "language_info": {
   "codemirror_mode": {
    "name": "ipython",
    "version": 3
   },
   "file_extension": ".py",
   "mimetype": "text/x-python",
   "name": "python",
   "nbconvert_exporter": "python",
   "pygments_lexer": "ipython3",
   "version": "3.11.3"
  }
 },
 "nbformat": 4,
 "nbformat_minor": 5
}
