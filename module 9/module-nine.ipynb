{
 "cells": [
  {
   "cell_type": "markdown",
   "metadata": {},
   "source": [
    "# Module Nine - Linear Programming"
   ]
  },
  {
   "cell_type": "markdown",
   "metadata": {},
   "source": [
    "### LU Decomposition"
   ]
  },
  {
   "cell_type": "code",
   "execution_count": 50,
   "metadata": {},
   "outputs": [],
   "source": [
    "import itertools\n",
    "def LUDecomposition(A):\n",
    "    \"\"\"LU Decomposition of a matrix A\n",
    "    Input: A - a square matrix\n",
    "    Output: L - a lower triangular matrix\n",
    "            U - an upper triangular matrix\n",
    "    \"\"\"\n",
    "    n = len(A)\n",
    "    U = [[\".\" for _ in range(n)] for _ in range(n)]\n",
    "    # initialise U with 0s below the diagonal\n",
    "    for i in range(n):\n",
    "        for j in range(i):\n",
    "            U[i][j] = 0\n",
    "    # initialise L with 0s above the diagonal and 1s on the diagonal\n",
    "    L = [[\".\" for _ in range(n)] for _ in range(n)]\n",
    "    for i in range(n):\n",
    "        for j in range(i+1,n):\n",
    "            L[i][j] = 0\n",
    "        L[i][i] = 1\n",
    "        for k in range(i,n):\n",
    "            U[k][k] = A[k][k]\n",
    "            for i in range(k+1,n):\n",
    "                L[i][k] = A[i][k]/U[k][k]\n",
    "                U[k][i] = A[k][i]\n",
    "            for i, j in itertools.product(range(k+1,n), range(k+1,n)):\n",
    "                A[i][j] = A[i][j] - L[i][k]*U[k][j]\n",
    "    return L,U\n",
    "\n",
    "def ForwardSubstitution(L,b):\n",
    "    \"\"\"Solves the system Lx = b\n",
    "    Input: L - a lower triangular matrix\n",
    "            b - a vector\n",
    "    Output: x - a vector\n",
    "    \"\"\"\n",
    "    n = len(L)\n",
    "    y = [0 for _ in range(n)]\n",
    "    for i in range(n):\n",
    "        y[i] = b[i]\n",
    "        for j in range(i):\n",
    "            y[i] = y[i] - L[i][j]*y[j]\n",
    "    return y\n",
    "\n",
    "def BackwardSubstitution(U,y):\n",
    "    \"\"\"Solves the system Ux = y\n",
    "    Input: U - an upper triangular matrix\n",
    "            y - a vector\n",
    "    Output: x - a vector\n",
    "    \"\"\"\n",
    "    n = len(U)\n",
    "    x = [0 for _ in range(n)]\n",
    "    for i in range(n-1,-1,-1):\n",
    "        x[i] = y[i]\n",
    "        for j in range(i+1,n):\n",
    "            x[i] = x[i] - U[i][j]*x[j]\n",
    "        x[i] = x[i]/U[i][i]\n",
    "    return x\n"
   ]
  },
  {
   "cell_type": "code",
   "execution_count": 59,
   "metadata": {},
   "outputs": [
    {
     "name": "stdout",
     "output_type": "stream",
     "text": [
      "\n",
      "L:\n",
      "[1, 0, 0]\n",
      "[4.0, 1, 0]\n",
      "[3.0, -0.5, 1]\n",
      "\n",
      "U:\n",
      "[1, 2, 3]\n",
      "[0, -2.0, -3.0]\n",
      "[0, 0, -11.0]\n",
      "\n",
      "x:\n",
      "[-1.0, 0.8636363636363636, 0.09090909090909091]\n"
     ]
    }
   ],
   "source": [
    "A = [[1, 2, 3], [4, 6, 9], [3, 7, 1]]\n",
    "L, U = LUDecomposition(A)\n",
    "print(\"\\nL:\")\n",
    "for line in L:\n",
    "    print(line)\n",
    "print(\"\\nU:\")\n",
    "for line in U:\n",
    "    print(line)\n",
    "\n",
    "b = [1, 2, 3]\n",
    "y = ForwardSubstitution(L,b)\n",
    "x = BackwardSubstitution(U,y)\n",
    "print(\"\\nx:\")\n",
    "print(x)\n",
    "\n",
    "\n"
   ]
  },
  {
   "cell_type": "markdown",
   "metadata": {},
   "source": [
    "![screenshot1](answer1.png)\n",
    "![screenshot2](answer2.png)"
   ]
  }
 ],
 "metadata": {
  "kernelspec": {
   "display_name": "Python 3",
   "language": "python",
   "name": "python3"
  },
  "language_info": {
   "codemirror_mode": {
    "name": "ipython",
    "version": 3
   },
   "file_extension": ".py",
   "mimetype": "text/x-python",
   "name": "python",
   "nbconvert_exporter": "python",
   "pygments_lexer": "ipython3",
   "version": "3.11.3"
  },
  "orig_nbformat": 4
 },
 "nbformat": 4,
 "nbformat_minor": 2
}
