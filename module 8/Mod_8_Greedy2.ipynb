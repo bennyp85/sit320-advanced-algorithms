{
 "cells": [
  {
   "cell_type": "markdown",
   "id": "imposed-playlist",
   "metadata": {},
   "source": [
    "# Lab 8: Greedy Algorithms"
   ]
  },
  {
   "cell_type": "markdown",
   "id": "d97cce87",
   "metadata": {},
   "source": [
    "Lab associated with Module 8: Greedy Algorithms"
   ]
  },
  {
   "cell_type": "markdown",
   "id": "5c7f2e9d",
   "metadata": {},
   "source": [
    "***"
   ]
  },
  {
   "cell_type": "code",
   "execution_count": 1,
   "id": "5b495ad0",
   "metadata": {},
   "outputs": [
    {
     "name": "stderr",
     "output_type": "stream",
     "text": [
      "C:\\Users\\benny\\AppData\\Local\\Temp\\ipykernel_35256\\1945220536.py:2: DeprecationWarning: Importing display from IPython.core.display is deprecated since IPython 7.14, please import from IPython display\n",
      "  from IPython.core.display import display, HTML\n"
     ]
    },
    {
     "data": {
      "text/html": [
       "<style>.container { width:95% !important; }</style>"
      ],
      "text/plain": [
       "<IPython.core.display.HTML object>"
      ]
     },
     "metadata": {},
     "output_type": "display_data"
    }
   ],
   "source": [
    "# The following lines are used to increase the width of cells to utilize more space on the screen \n",
    "from IPython.core.display import display, HTML\n",
    "display(HTML(\"<style>.container { width:95% !important; }</style>\"))"
   ]
  },
  {
   "cell_type": "markdown",
   "id": "3a2b855c",
   "metadata": {},
   "source": [
    "***"
   ]
  },
  {
   "cell_type": "markdown",
   "id": "9d0921a0",
   "metadata": {},
   "source": [
    "### Section 0: Imports"
   ]
  },
  {
   "cell_type": "code",
   "execution_count": 2,
   "id": "477622d5",
   "metadata": {},
   "outputs": [],
   "source": [
    "import numpy as np"
   ]
  },
  {
   "cell_type": "code",
   "execution_count": 3,
   "id": "50fb5ed5",
   "metadata": {},
   "outputs": [],
   "source": [
    "import math"
   ]
  },
  {
   "cell_type": "code",
   "execution_count": 4,
   "id": "9910ee06",
   "metadata": {},
   "outputs": [],
   "source": [
    "from IPython.display import Image\n",
    "from graphviz import Digraph"
   ]
  },
  {
   "cell_type": "markdown",
   "id": "7f9321f8",
   "metadata": {},
   "source": [
    "***"
   ]
  },
  {
   "cell_type": "markdown",
   "id": "39bd83df",
   "metadata": {},
   "source": [
    "### Node and Graph Classes"
   ]
  },
  {
   "cell_type": "code",
   "execution_count": 5,
   "id": "5e1cb431",
   "metadata": {},
   "outputs": [],
   "source": [
    "import numpy as np\n",
    "\n",
    "class Node:\n",
    "    \n",
    "    def __init__(self, v):\n",
    "\n",
    "        self.value = v\n",
    "        self.inNeighbors = []\n",
    "        self.outNeighbors = []\n",
    "        \n",
    "        self.status = \"unvisited\"\n",
    "        self.estD = np.inf\n",
    "\n",
    "        self.parent = None\n",
    "        \n",
    "    def hasOutNeighbor(self, v):\n",
    "        \n",
    "        if v in self.outNeighbors:\n",
    "            return True\n",
    "        \n",
    "        return False\n",
    "        \n",
    "    def hasInNeighbor(self, v):\n",
    "        \n",
    "        if v in self.inNeighbors:\n",
    "            return True\n",
    "        \n",
    "        return False\n",
    "    \n",
    "    def hasNeighbor(self, v):\n",
    "        \n",
    "        if v in self.inNeighbors or v in self.outNeighbors:\n",
    "            return True\n",
    "        \n",
    "        return False\n",
    "    \n",
    "    def getOutNeighbors(self):\n",
    "        \n",
    "        return self.outNeighbors\n",
    "    \n",
    "    def getInNeighbors(self):\n",
    "        \n",
    "        return self.inNeighbors\n",
    "    \n",
    "    def getOutNeighborsWithWeights(self):\n",
    "        \n",
    "        return self.outNeighbors\n",
    "    \n",
    "    def getInNeighborsWithWeights(self):\n",
    "        \n",
    "        return self.inNeighbors\n",
    "    \n",
    "    # ------------------------------------------------\n",
    "    # Let us modify following two functions to incorporate weights\n",
    "    # ------------------------------------------------\n",
    "    \n",
    "    def addOutNeighbor(self,v,wt):\n",
    "        \n",
    "        self.outNeighbors.append((v,wt))\n",
    "    \n",
    "    def addInNeighbor(self,v,wt):\n",
    "        \n",
    "        self.inNeighbors.append((v,wt))\n",
    "        \n",
    "        \n",
    "    def __str__(self):\n",
    "        \n",
    "        return str(self.value) \n",
    "\n",
    "\n",
    "class Graph:\n",
    "    \n",
    "    def __init__(self):\n",
    "        \n",
    "        self.vertices = []\n",
    "\n",
    "    def addVertex(self,n):\n",
    "        \n",
    "        self.vertices.append(n)\n",
    "        \n",
    "    # ------------------------------------------------\n",
    "    # Let us modify following two functions to incorporate weights\n",
    "    # ------------------------------------------------\n",
    "        \n",
    "    def addDiEdge(self, u, v, wt = 1):\n",
    "        \n",
    "        u.addOutNeighbor(v, wt = wt)\n",
    "        v.addInNeighbor(u, wt = wt)\n",
    "        \n",
    "    # add edges in both directions between u and v\n",
    "    def addBiEdge(self, u, v, wt = 1):\n",
    "        \n",
    "        self.addDiEdge(u, v, wt = wt)\n",
    "        self.addDiEdge(v, u, wt = wt)\n",
    "        \n",
    "            \n",
    "    # get a list of all the directed edges\n",
    "    # directed edges are a list of two vertices\n",
    "    def getDirEdges(self):\n",
    "        \n",
    "        ret = []\n",
    "        for v in self.vertices:\n",
    "            ret += [ [v, u] for u in v.outNeighbors ]\n",
    "        return ret\n",
    "    \n",
    "    # reverse the edge between u and v.  Multiple edges are not supported.\n",
    "    def reverseEdge(self,u,v):\n",
    "        \n",
    "        if u.hasOutNeighbor(v) and v.hasInNeighbor(u):\n",
    "            \n",
    "            if v.hasOutNeighbor(u) and u.hasInNeighbor(v): \n",
    "                return\n",
    "        \n",
    "            self.addDiEdge(v, u)\n",
    "            u.outNeighbors.remove(v)\n",
    "            v.inNeighbors.remove(u)        \n",
    "                \n",
    "    def __str__(self):\n",
    "        \n",
    "        ret = \"Graph with:\\n\"\n",
    "        ret += \"\\t Vertices:\\n\\t\"\n",
    "        for v in self.vertices:\n",
    "            ret += str(v) + \",\"\n",
    "        ret += \"\\n\"\n",
    "        ret += \"\\t Edges:\\n\\t\"\n",
    "        for a,b in self.getDirEdges():\n",
    "            ret += \"(\" + str(a) + \",\" + str(b) + \") \"\n",
    "        ret += \"\\n\"\n",
    "        return ret"
   ]
  },
  {
   "cell_type": "markdown",
   "id": "f9b31a04",
   "metadata": {},
   "source": [
    "### <font color='red'> Activity 1a: Write a greedy algorithm for Activity Selection problem in this week's lab. </font>"
   ]
  },
  {
   "cell_type": "markdown",
   "id": "db36bdaf",
   "metadata": {},
   "source": [
    "![Union is appending](Union-is-appending.png)"
   ]
  },
  {
   "cell_type": "markdown",
   "id": "14d86f48",
   "metadata": {},
   "source": [
    "### Realised that Union is Appending to the list, not adding to the set\n",
    "### Making sure the list is sorted before returning it changed the result"
   ]
  },
  {
   "cell_type": "code",
   "execution_count": 6,
   "id": "8d176b03",
   "metadata": {},
   "outputs": [],
   "source": [
    "# activity selection algorithm\n",
    "# activites a1, a2 ... an\n",
    "# start time s1, s2 ... sn\n",
    "# finish time f1, f2 ... fn\n",
    "# we have to do n activities and each activity has to be started at a specified time and finished at specified time\n",
    "# if the activities overlap, can we devise an algorithm to come-up with an order on the activities to do as many activities as possible\n",
    "# The question is which activities should we choose and which should we skip\n",
    "# sorted finish time is O(n) otherwise O(nlogn)\n",
    "# each step is locally optimal\n",
    "\n",
    "def greedyActivitySelection(activites):\n",
    "    if len(activites) == 0:\n",
    "        return []\n",
    "    sortedActivities = sorted(activites, key=lambda x: x[1])\n",
    "    selectedActivities = [sortedActivities[0]]\n",
    "    for i in range(1, len(sortedActivities)):\n",
    "        if sortedActivities[i][0] >= selectedActivities[-1][1]:\n",
    "            selectedActivities.append(sortedActivities[i])\n",
    "    return selectedActivities\n"
   ]
  },
  {
   "cell_type": "code",
   "execution_count": 7,
   "id": "55b3a75e",
   "metadata": {},
   "outputs": [
    {
     "name": "stdout",
     "output_type": "stream",
     "text": [
      "Solution:\n",
      "[1, 4]\n",
      "[5, 7]\n",
      "[8, 10]\n",
      "[13, 15]\n"
     ]
    }
   ],
   "source": [
    "activities = [  [1,4],[2,5],[3,6],[5,7],[3,8],[6,9],[8,10],[9,11],[5,12],[6,13],[8,14],[13,15] ]\n",
    "\n",
    "activityList = greedyActivitySelection(activities)\n",
    "\n",
    "print(\"Solution:\")\n",
    "for activity in activityList:\n",
    "    print(activity)"
   ]
  },
  {
   "cell_type": "code",
   "execution_count": 8,
   "id": "e17d0c6d",
   "metadata": {},
   "outputs": [
    {
     "name": "stderr",
     "output_type": "stream",
     "text": [
      "test_disjoint_activities (__main__.TestGreedyActivitySelection.test_disjoint_activities) ... ok\n",
      "test_empty_activities (__main__.TestGreedyActivitySelection.test_empty_activities) ... ok\n",
      "test_overlapping_activities (__main__.TestGreedyActivitySelection.test_overlapping_activities) ... ok\n",
      "test_single_activity (__main__.TestGreedyActivitySelection.test_single_activity) ... ok\n",
      "\n",
      "----------------------------------------------------------------------\n",
      "Ran 4 tests in 0.003s\n",
      "\n",
      "OK\n"
     ]
    },
    {
     "data": {
      "text/plain": [
       "<unittest.runner.TextTestResult run=4 errors=0 failures=0>"
      ]
     },
     "execution_count": 8,
     "metadata": {},
     "output_type": "execute_result"
    }
   ],
   "source": [
    "import unittest\n",
    "\n",
    "class TestGreedyActivitySelection(unittest.TestCase):\n",
    "    \n",
    "    def test_empty_activities(self):\n",
    "        activities = []\n",
    "        expected_output = []\n",
    "        self.assertEqual(greedyActivitySelection(activities), expected_output)\n",
    "        \n",
    "    def test_single_activity(self):\n",
    "        activities = [(1, 2)]\n",
    "        expected_output = [(1, 2)]\n",
    "        self.assertEqual(greedyActivitySelection(activities), expected_output)\n",
    "        \n",
    "    def test_disjoint_activities(self):\n",
    "        activities = [(1, 2), (3, 4), (5, 6)]\n",
    "        expected_output = [(1, 2), (3, 4), (5, 6)]\n",
    "        self.assertEqual(greedyActivitySelection(activities), expected_output)\n",
    "        \n",
    "    def test_overlapping_activities(self):\n",
    "        activities = [(1, 3), (2, 4), (3, 5), (4, 6)]\n",
    "        expected_output_1 = [(1, 3), (3, 5)]\n",
    "        expected_output_2 = [(2, 4), (4, 6)]\n",
    "        result = greedyActivitySelection(activities)\n",
    "        self.assertTrue(result in [expected_output_1, expected_output_2])\n",
    "\n",
    "# Create a test suite\n",
    "suite = unittest.TestLoader().loadTestsFromTestCase(TestGreedyActivitySelection)\n",
    "\n",
    "# Run the test suite and print the results\n",
    "runner = unittest.TextTestRunner(verbosity=2)\n",
    "runner.run(suite)"
   ]
  },
  {
   "cell_type": "markdown",
   "id": "configured-swedish",
   "metadata": {},
   "source": [
    "### <font color='red'> Activity 1b: Devise a dynamic programming solution to Activity Selection problem, and see if you get the same results as that of greedy strategy. </font>"
   ]
  },
  {
   "cell_type": "code",
   "execution_count": 21,
   "id": "piano-programming",
   "metadata": {},
   "outputs": [],
   "source": [
    "# a dynamic programming solution to the activity selection problem\n",
    "def dynamicProgrammingActivitySelection(activities):\n",
    "    #test for empty list\n",
    "    if len(activities) == 0:\n",
    "        return []\n",
    "    sorted_activities = sorted(activities, key=lambda x: x[1])\n",
    "    # initialize the DP table\n",
    "    DP = [0] * len(sorted_activities)\n",
    "    DP[0] = 1\n",
    "    for i in range(1, len(sorted_activities)):\n",
    "        # find the last compatible activity\n",
    "        j = i - 1\n",
    "        while j >= 0 and sorted_activities[j][1] > sorted_activities[i][0]:\n",
    "            j -= 1\n",
    "        # update the DP table\n",
    "        DP[i] = max(DP[i - 1], DP[j] + 1)\n",
    "    # construct a solution\n",
    "    solution = []\n",
    "    i = len(sorted_activities) - 1\n",
    "    while i >= 0:\n",
    "        if i > 0 and DP[i] == DP[i - 1]:\n",
    "            i -= 1\n",
    "        else:\n",
    "            solution.append(sorted_activities[i])\n",
    "            i = j\n",
    "\n",
    "    return solution[::-1]\n",
    "        \n",
    "\n",
    "\n",
    "\n",
    "\n",
    "\n"
   ]
  },
  {
   "cell_type": "markdown",
   "id": "1cb9c687",
   "metadata": {},
   "source": [
    "Let us test above function as:"
   ]
  },
  {
   "cell_type": "code",
   "execution_count": 22,
   "id": "db5d80f4",
   "metadata": {},
   "outputs": [
    {
     "name": "stdout",
     "output_type": "stream",
     "text": [
      "Solution has 2 activities:\n",
      "[1, 2] [5, 6] "
     ]
    }
   ],
   "source": [
    "activities = [  [1, 2], [3, 4], [5, 6] ]\n",
    "\n",
    "solution = dynamicProgrammingActivitySelection(activities)\n",
    "\n",
    "print(f\"Solution has {len(solution)} activities:\")\n",
    "for i in solution:\n",
    "    print(i, end=\" \")\n"
   ]
  },
  {
   "cell_type": "markdown",
   "id": "6570890e",
   "metadata": {},
   "source": [
    "***"
   ]
  },
  {
   "cell_type": "code",
   "execution_count": 11,
   "id": "16f63130",
   "metadata": {},
   "outputs": [
    {
     "name": "stderr",
     "output_type": "stream",
     "text": [
      "test_activities_with_same_end_time (__main__.TestDynamicProgrammingActivitySelection.test_activities_with_same_end_time) ... ok\n",
      "test_activities_with_same_start_time (__main__.TestDynamicProgrammingActivitySelection.test_activities_with_same_start_time) ... ok\n",
      "test_multiple_non_overlapping_activities (__main__.TestDynamicProgrammingActivitySelection.test_multiple_non_overlapping_activities) ... FAIL\n",
      "test_multiple_overlapping_activities_different_scenario (__main__.TestDynamicProgrammingActivitySelection.test_multiple_overlapping_activities_different_scenario) ... ok\n",
      "test_multiple_overlapping_activities_original_list (__main__.TestDynamicProgrammingActivitySelection.test_multiple_overlapping_activities_original_list) ... ok\n",
      "test_no_activities (__main__.TestDynamicProgrammingActivitySelection.test_no_activities) ... ok\n",
      "test_single_activity (__main__.TestDynamicProgrammingActivitySelection.test_single_activity) ... ok\n",
      "\n",
      "======================================================================\n",
      "FAIL: test_multiple_non_overlapping_activities (__main__.TestDynamicProgrammingActivitySelection.test_multiple_non_overlapping_activities)\n",
      "----------------------------------------------------------------------\n",
      "Traceback (most recent call last):\n",
      "  File \"C:\\Users\\benny\\AppData\\Local\\Temp\\ipykernel_35256\\4237209991.py\", line 18, in test_multiple_non_overlapping_activities\n",
      "    self.assertEqual(solution, [[1, 2], [3, 4], [5, 6]], \"Test Case 3 Failed\")\n",
      "AssertionError: Lists differ: [[1, 2], [5, 6]] != [[1, 2], [3, 4], [5, 6]]\n",
      "\n",
      "First differing element 1:\n",
      "[5, 6]\n",
      "[3, 4]\n",
      "\n",
      "Second list contains 1 additional elements.\n",
      "First extra element 2:\n",
      "[5, 6]\n",
      "\n",
      "- [[1, 2], [5, 6]]\n",
      "+ [[1, 2], [3, 4], [5, 6]]\n",
      "?          ++++++++\n",
      " : Test Case 3 Failed\n",
      "\n",
      "----------------------------------------------------------------------\n",
      "Ran 7 tests in 0.006s\n",
      "\n",
      "FAILED (failures=1)\n"
     ]
    },
    {
     "data": {
      "text/plain": [
       "<unittest.runner.TextTestResult run=7 errors=0 failures=1>"
      ]
     },
     "execution_count": 11,
     "metadata": {},
     "output_type": "execute_result"
    }
   ],
   "source": [
    "import unittest\n",
    "\n",
    "class TestDynamicProgrammingActivitySelection(unittest.TestCase):\n",
    "\n",
    "    def test_no_activities(self):\n",
    "        activities = []\n",
    "        solution = dynamicProgrammingActivitySelection(activities)\n",
    "        self.assertEqual(solution, [], \"Test Case 1 Failed\")\n",
    "\n",
    "    def test_single_activity(self):\n",
    "        activities = [[1, 4]]\n",
    "        solution = dynamicProgrammingActivitySelection(activities)\n",
    "        self.assertEqual(solution, [[1, 4]], \"Test Case 2 Failed\")\n",
    "\n",
    "    def test_multiple_non_overlapping_activities(self):\n",
    "        activities = [[1, 2], [3, 4], [5, 6]]\n",
    "        solution = dynamicProgrammingActivitySelection(activities)\n",
    "        self.assertEqual(solution, [[1, 2], [3, 4], [5, 6]], \"Test Case 3 Failed\")\n",
    "\n",
    "    def test_multiple_overlapping_activities_original_list(self):\n",
    "        activities = [[1, 4], [2, 5], [3, 6], [5, 7], [3, 8], [6, 9], [8, 10], [9, 11], [5, 12], [6, 13], [8, 14], [13, 15]]\n",
    "        solution = dynamicProgrammingActivitySelection(activities)\n",
    "        # Expected solution depends on your implementation\n",
    "\n",
    "    def test_multiple_overlapping_activities_different_scenario(self):\n",
    "        activities = [[1, 4], [2, 6], [5, 7], [6, 8]]\n",
    "        solution = dynamicProgrammingActivitySelection(activities)\n",
    "        # Expected solution depends on your implementation\n",
    "\n",
    "    def test_activities_with_same_start_time(self):\n",
    "        activities = [[1, 4], [1, 3], [2, 5], [3, 6]]\n",
    "        solution = dynamicProgrammingActivitySelection(activities)\n",
    "        # Expected solution depends on your implementation\n",
    "\n",
    "    def test_activities_with_same_end_time(self):\n",
    "        activities = [[1, 4], [2, 4], [3, 4]]\n",
    "        solution = dynamicProgrammingActivitySelection(activities)\n",
    "        # Expected solution depends on your implementation\n",
    "\n",
    "# Create a test suite\n",
    "suite = unittest.TestLoader().loadTestsFromTestCase(TestDynamicProgrammingActivitySelection)\n",
    "\n",
    "# Run the test suite and print the results\n",
    "runner = unittest.TextTestRunner(verbosity=2)\n",
    "runner.run(suite)\n"
   ]
  },
  {
   "cell_type": "markdown",
   "id": "1f5bb07e",
   "metadata": {},
   "source": [
    "### This image shows how to calculate the weighted sum of completion times"
   ]
  },
  {
   "cell_type": "markdown",
   "id": "8040afba",
   "metadata": {},
   "source": [
    "![Weighted Sum](weighted-sum.png)"
   ]
  },
  {
   "cell_type": "markdown",
   "id": "6e92fc09",
   "metadata": {},
   "source": [
    "###  Prim's Algorithm"
   ]
  },
  {
   "cell_type": "markdown",
   "id": "ce467019",
   "metadata": {},
   "source": [
    "Graph's Preliminaries"
   ]
  },
  {
   "cell_type": "code",
   "execution_count": 12,
   "id": "4cdc7ece",
   "metadata": {},
   "outputs": [
    {
     "ename": "ModuleNotFoundError",
     "evalue": "No module named 'graph'",
     "output_type": "error",
     "traceback": [
      "\u001b[1;31m---------------------------------------------------------------------------\u001b[0m",
      "\u001b[1;31mModuleNotFoundError\u001b[0m                       Traceback (most recent call last)",
      "Cell \u001b[1;32mIn[12], line 1\u001b[0m\n\u001b[1;32m----> 1\u001b[0m \u001b[39mfrom\u001b[39;00m \u001b[39mgraph\u001b[39;00m \u001b[39mimport\u001b[39;00m \u001b[39m*\u001b[39m\n",
      "\u001b[1;31mModuleNotFoundError\u001b[0m: No module named 'graph'"
     ]
    }
   ],
   "source": [
    "from graph import *"
   ]
  },
  {
   "cell_type": "code",
   "execution_count": null,
   "id": "a75ba3ec",
   "metadata": {},
   "outputs": [],
   "source": [
    "G = Graph()\n",
    "\n",
    "for i in ['A', 'B', 'C', 'D', 'E', 'F', 'G', 'H', 'I']:\n",
    "    G.addVertex( Node(i) )"
   ]
  },
  {
   "cell_type": "code",
   "execution_count": null,
   "id": "c990d75e",
   "metadata": {},
   "outputs": [],
   "source": [
    "V = G.vertices\n",
    "\n",
    "#0, 1, 2, 3, 4, 5, 6, 7, 8\n",
    "#A, B, C, D, E, F, G, H, I\n",
    "\n",
    "G.addBiEdge( V[0], V[1], 4)\n",
    "\n",
    "G.addBiEdge( V[0], V[7] , 8)\n",
    "\n",
    "G.addBiEdge( V[1], V[7], 11)\n",
    "\n",
    "G.addBiEdge( V[1], V[2], 8)\n",
    "\n",
    "G.addBiEdge( V[2], V[3], 7)\n",
    "\n",
    "G.addBiEdge( V[3], V[4], 9)\n",
    "\n",
    "G.addBiEdge( V[3], V[5], 14 )\n",
    "\n",
    "G.addBiEdge( V[4], V[5], 10 )\n",
    "\n",
    "G.addBiEdge( V[2], V[5], 4 )\n",
    "\n",
    "G.addBiEdge( V[2], V[8], 2 )\n",
    "\n",
    "G.addBiEdge( V[5], V[6], 2 )\n",
    "\n",
    "G.addBiEdge( V[6], V[7], 1 )\n",
    "\n",
    "G.addBiEdge( V[6], V[8], 6 )\n",
    "\n",
    "G.addBiEdge( V[7], V[8], 7 )\n"
   ]
  },
  {
   "cell_type": "code",
   "execution_count": null,
   "id": "2ac81f26",
   "metadata": {},
   "outputs": [],
   "source": [
    "print(G)"
   ]
  },
  {
   "cell_type": "markdown",
   "id": "10941ad1",
   "metadata": {},
   "source": [
    "This is what we had in the lectures as the slow implementation of Prim's Algorithm"
   ]
  },
  {
   "cell_type": "code",
   "execution_count": null,
   "id": "c75594c0",
   "metadata": {},
   "outputs": [],
   "source": [
    "# G is graph\n",
    "# s is the node to start\n",
    "\n",
    "def slowPrim(G, s):\n",
    "    \n",
    "    # first, find the lightest edge leaving s\n",
    "    bestWt = np.inf\n",
    "    bestu = None\n",
    "    \n",
    "    for u,wt in s.getOutNeighborsWithWeights():\n",
    "        \n",
    "        if wt < bestWt:\n",
    "            bestWt = wt\n",
    "            bestu = u\n",
    "    \n",
    "    MST = [ (s, bestu) ]\n",
    "    verticesVisited = [s,bestu]\n",
    "    \n",
    "    while len(verticesVisited) < len(G.vertices): # danger! this will loop forever if the graph isn't connected...\n",
    "        \n",
    "        # find the lightest edge (x,v) so that x has been visited and v hasn't.\n",
    "        bestWt = np.inf\n",
    "        bestv = None\n",
    "        bestx = None\n",
    "        \n",
    "        for x in verticesVisited:\n",
    "            for v,wt in x.getOutNeighborsWithWeights():\n",
    "                \n",
    "                if v in verticesVisited:\n",
    "                    continue\n",
    "                \n",
    "                if wt < bestWt:\n",
    "                    bestWt = wt\n",
    "                    bestv = v\n",
    "                    bestx = x\n",
    "                    \n",
    "        MST.append((bestx,bestv))\n",
    "        verticesVisited.append(bestv)\n",
    "    \n",
    "    return MST"
   ]
  },
  {
   "cell_type": "code",
   "execution_count": null,
   "id": "f6ff20d2",
   "metadata": {},
   "outputs": [],
   "source": [
    "T = slowPrim(G, G.vertices[0])\n",
    "\n",
    "for x,y in T:\n",
    "    print(x,y)"
   ]
  },
  {
   "cell_type": "markdown",
   "id": "3f2b31e2",
   "metadata": {},
   "source": [
    "Okay, it seems to be working fine, but as we discussed, will be quite slow. Let us see if we can work on the faster version of the code as:"
   ]
  },
  {
   "cell_type": "markdown",
   "id": "42212e3d",
   "metadata": {},
   "source": [
    "### <font color='red'> Activity 2: In lights of Prim's Algorithm above, write an efficient implementation based on our discussions in the Seminar/Lecture. </font>"
   ]
  },
  {
   "cell_type": "code",
   "execution_count": null,
   "id": "e32585d1",
   "metadata": {},
   "outputs": [],
   "source": [
    "def prim(G,w):\n",
    "    \n",
    "    #### TODO ####\n",
    "    ### Good Luck ###\n",
    "                    \n",
    "    return MST"
   ]
  },
  {
   "cell_type": "code",
   "execution_count": null,
   "id": "e6c07571",
   "metadata": {},
   "outputs": [],
   "source": [
    "T = prim(G, G.vertices[0])\n",
    "\n",
    "for x,y in T:\n",
    "    print(x,y)"
   ]
  },
  {
   "cell_type": "markdown",
   "id": "cc0f5215",
   "metadata": {},
   "source": [
    "***"
   ]
  }
 ],
 "metadata": {
  "kernelspec": {
   "display_name": "Python 3 (ipykernel)",
   "language": "python",
   "name": "python3"
  },
  "language_info": {
   "codemirror_mode": {
    "name": "ipython",
    "version": 3
   },
   "file_extension": ".py",
   "mimetype": "text/x-python",
   "name": "python",
   "nbconvert_exporter": "python",
   "pygments_lexer": "ipython3",
   "version": "3.11.3"
  }
 },
 "nbformat": 4,
 "nbformat_minor": 5
}
