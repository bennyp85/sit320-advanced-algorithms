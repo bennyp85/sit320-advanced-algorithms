{
 "cells": [
  {
   "cell_type": "markdown",
   "id": "imposed-playlist",
   "metadata": {},
   "source": [
    "# Lab 8: Greedy Algorithms"
   ]
  },
  {
   "cell_type": "markdown",
   "id": "d97cce87",
   "metadata": {},
   "source": [
    "Lab associated with Module 8: Greedy Algorithms"
   ]
  },
  {
   "cell_type": "markdown",
   "id": "5c7f2e9d",
   "metadata": {},
   "source": [
    "***"
   ]
  },
  {
   "cell_type": "code",
   "execution_count": 21,
   "id": "5b495ad0",
   "metadata": {},
   "outputs": [
    {
     "name": "stderr",
     "output_type": "stream",
     "text": [
      "C:\\Users\\benny\\AppData\\Local\\Temp\\ipykernel_78404\\1945220536.py:2: DeprecationWarning: Importing display from IPython.core.display is deprecated since IPython 7.14, please import from IPython display\n",
      "  from IPython.core.display import display, HTML\n"
     ]
    },
    {
     "data": {
      "text/html": [
       "<style>.container { width:95% !important; }</style>"
      ],
      "text/plain": [
       "<IPython.core.display.HTML object>"
      ]
     },
     "metadata": {},
     "output_type": "display_data"
    }
   ],
   "source": [
    "# The following lines are used to increase the width of cells to utilize more space on the screen \n",
    "from IPython.core.display import display, HTML\n",
    "display(HTML(\"<style>.container { width:95% !important; }</style>\"))"
   ]
  },
  {
   "cell_type": "markdown",
   "id": "3a2b855c",
   "metadata": {},
   "source": [
    "***"
   ]
  },
  {
   "cell_type": "markdown",
   "id": "9d0921a0",
   "metadata": {},
   "source": [
    "### Section 0: Imports"
   ]
  },
  {
   "cell_type": "code",
   "execution_count": 22,
   "id": "477622d5",
   "metadata": {},
   "outputs": [],
   "source": [
    "import numpy as np"
   ]
  },
  {
   "cell_type": "code",
   "execution_count": 23,
   "id": "50fb5ed5",
   "metadata": {},
   "outputs": [],
   "source": [
    "import math"
   ]
  },
  {
   "cell_type": "code",
   "execution_count": 24,
   "id": "9910ee06",
   "metadata": {},
   "outputs": [],
   "source": [
    "from IPython.display import Image\n",
    "from graphviz import Digraph"
   ]
  },
  {
   "cell_type": "markdown",
   "id": "7f9321f8",
   "metadata": {},
   "source": [
    "***"
   ]
  },
  {
   "cell_type": "markdown",
   "id": "39bd83df",
   "metadata": {},
   "source": [
    "### Node and Graph Classes"
   ]
  },
  {
   "cell_type": "code",
   "execution_count": 25,
   "id": "5e1cb431",
   "metadata": {},
   "outputs": [],
   "source": [
    "import numpy as np\n",
    "\n",
    "class Node:\n",
    "    \n",
    "    def __init__(self, v):\n",
    "\n",
    "        self.value = v\n",
    "        self.inNeighbors = []\n",
    "        self.outNeighbors = []\n",
    "        \n",
    "        self.status = \"unvisited\"\n",
    "        self.estD = np.inf\n",
    "\n",
    "        self.parent = None\n",
    "        self.weight = float('inf')  # set initial weight to infinity\n",
    "\n",
    "    def __lt__(self, other):\n",
    "        return self.weight < other.weight\n",
    "        \n",
    "    def hasOutNeighbor(self, v):\n",
    "        \n",
    "        return v in self.outNeighbors\n",
    "        \n",
    "    def hasInNeighbor(self, v):\n",
    "        \n",
    "        return v in self.inNeighbors\n",
    "    \n",
    "    def hasNeighbor(self, v):\n",
    "        \n",
    "        return v in self.inNeighbors or v in self.outNeighbors\n",
    "    \n",
    "    def getOutNeighbors(self):\n",
    "        \n",
    "        return self.outNeighbors\n",
    "    \n",
    "    def getInNeighbors(self):\n",
    "        \n",
    "        return self.inNeighbors\n",
    "    \n",
    "    def getOutNeighborsWithWeights(self):\n",
    "        \n",
    "        return self.outNeighbors\n",
    "    \n",
    "    def getInNeighborsWithWeights(self):\n",
    "        \n",
    "        return self.inNeighbors\n",
    "    \n",
    "    # ------------------------------------------------\n",
    "    # Let us modify following two functions to incorporate weights\n",
    "    # ------------------------------------------------\n",
    "    \n",
    "    def addOutNeighbor(self,v,wt):\n",
    "        \n",
    "        self.outNeighbors.append((v,wt))\n",
    "    \n",
    "    def addInNeighbor(self,v,wt):\n",
    "        \n",
    "        self.inNeighbors.append((v,wt))\n",
    "        \n",
    "        \n",
    "    def __str__(self):\n",
    "        \n",
    "        return str(self.value) \n",
    "\n",
    "\n",
    "class Graph:\n",
    "    \n",
    "    def __init__(self):\n",
    "        \n",
    "        self.vertices = []\n",
    "\n",
    "    def addVertex(self,n):\n",
    "        \n",
    "        self.vertices.append(n)\n",
    "        \n",
    "    # ------------------------------------------------\n",
    "    # Let us modify following two functions to incorporate weights\n",
    "    # ------------------------------------------------\n",
    "        \n",
    "    def addDiEdge(self, u, v, wt = 1):\n",
    "        \n",
    "        u.addOutNeighbor(v, wt = wt)\n",
    "        v.addInNeighbor(u, wt = wt)\n",
    "        \n",
    "    # add edges in both directions between u and v\n",
    "    def addBiEdge(self, u, v, wt = 1):\n",
    "        \n",
    "        self.addDiEdge(u, v, wt = wt)\n",
    "        self.addDiEdge(v, u, wt = wt)\n",
    "        \n",
    "            \n",
    "    # get a list of all the directed edges\n",
    "    # directed edges are a list of two vertices\n",
    "    def getDirEdges(self):\n",
    "        \n",
    "        ret = []\n",
    "        for v in self.vertices:\n",
    "            ret += [ [v, u] for u in v.outNeighbors ]\n",
    "        return ret\n",
    "    \n",
    "    # reverse the edge between u and v.  Multiple edges are not supported.\n",
    "    def reverseEdge(self,u,v):\n",
    "        \n",
    "        if u.hasOutNeighbor(v) and v.hasInNeighbor(u):\n",
    "            \n",
    "            if v.hasOutNeighbor(u) and u.hasInNeighbor(v): \n",
    "                return\n",
    "        \n",
    "            self.addDiEdge(v, u)\n",
    "            u.outNeighbors.remove(v)\n",
    "            v.inNeighbors.remove(u)        \n",
    "                \n",
    "    def __str__(self):\n",
    "        ret = \"Graph with:\\n\" + \"\\t Vertices:\\n\\t\"\n",
    "        for v in self.vertices:\n",
    "            ret += f\"{str(v)},\"\n",
    "        ret += \"\\n\"\n",
    "        ret += \"\\t Edges:\\n\\t\"\n",
    "        for a, b in self.getDirEdges():\n",
    "            ret += f\"({str(a)}->{str(b[0])} , {str(b[1])})) \"\n",
    "        ret += \"\\n\"\n",
    "        return ret"
   ]
  },
  {
   "cell_type": "markdown",
   "id": "f9b31a04",
   "metadata": {},
   "source": [
    "### <font color='red'> Activity 1a: Write a greedy algorithm for Activity Selection problem in this week's lab. </font>"
   ]
  },
  {
   "cell_type": "markdown",
   "id": "db36bdaf",
   "metadata": {},
   "source": [
    "![Union is appending](Union-is-appending.png)"
   ]
  },
  {
   "cell_type": "markdown",
   "id": "14d86f48",
   "metadata": {},
   "source": [
    "### Realised that Union is Appending to the list, not adding to the set\n",
    "### Making sure the list is sorted before returning it changed the result\n",
    "### Time Complexity of the algorithm is O(nlogn) because of the sorting\n",
    "### Space Complexity of the algorithm is O(n) because of the list"
   ]
  },
  {
   "cell_type": "code",
   "execution_count": 26,
   "id": "8d176b03",
   "metadata": {},
   "outputs": [],
   "source": [
    "def greedyActivitySelection(activites):\n",
    "    \"\"\" Input: a list of activities, each activity is a tuple (start, finish)\n",
    "        Output: a list of activities, each activity is a tuple (start, finish)\n",
    "        The output list contains a subset of the input list such that no two activities overlap\n",
    "    \"\"\"\n",
    "    if len(activites) == 0:\n",
    "        return []\n",
    "    sortedActivities = sorted(activites, key=lambda x: x[1])\n",
    "    selectedActivities = [sortedActivities[0]]\n",
    "    for i in range(1, len(sortedActivities)):\n",
    "        if sortedActivities[i][0] >= selectedActivities[-1][1]:\n",
    "            selectedActivities.append(sortedActivities[i])\n",
    "    return selectedActivities\n"
   ]
  },
  {
   "cell_type": "code",
   "execution_count": 27,
   "id": "55b3a75e",
   "metadata": {},
   "outputs": [
    {
     "name": "stdout",
     "output_type": "stream",
     "text": [
      "Solution:\n",
      "[1, 4]\n",
      "[5, 7]\n",
      "[8, 10]\n",
      "[13, 15]\n"
     ]
    }
   ],
   "source": [
    "activities = [  [1,4],[2,5],[3,6],[5,7],[3,8],[6,9],[8,10],[9,11],[5,12],[6,13],[8,14],[13,15] ]\n",
    "\n",
    "activityList = greedyActivitySelection(activities)\n",
    "\n",
    "print(\"Solution:\")\n",
    "for activity in activityList:\n",
    "    print(activity)"
   ]
  },
  {
   "cell_type": "code",
   "execution_count": 28,
   "id": "e17d0c6d",
   "metadata": {},
   "outputs": [
    {
     "name": "stderr",
     "output_type": "stream",
     "text": [
      "test_disjoint_activities (__main__.TestGreedyActivitySelection.test_disjoint_activities) ... ok\n",
      "test_empty_activities (__main__.TestGreedyActivitySelection.test_empty_activities) ... ok\n",
      "test_overlapping_activities (__main__.TestGreedyActivitySelection.test_overlapping_activities) ... ok\n",
      "test_single_activity (__main__.TestGreedyActivitySelection.test_single_activity) ... ok\n",
      "\n",
      "----------------------------------------------------------------------\n",
      "Ran 4 tests in 0.003s\n",
      "\n",
      "OK\n"
     ]
    },
    {
     "data": {
      "text/plain": [
       "<unittest.runner.TextTestResult run=4 errors=0 failures=0>"
      ]
     },
     "execution_count": 28,
     "metadata": {},
     "output_type": "execute_result"
    }
   ],
   "source": [
    "import unittest\n",
    "\n",
    "class TestGreedyActivitySelection(unittest.TestCase):\n",
    "    \n",
    "    def test_empty_activities(self):\n",
    "        activities = []\n",
    "        expected_output = []\n",
    "        self.assertEqual(greedyActivitySelection(activities), expected_output)\n",
    "        \n",
    "    def test_single_activity(self):\n",
    "        activities = [(1, 2)]\n",
    "        expected_output = [(1, 2)]\n",
    "        self.assertEqual(greedyActivitySelection(activities), expected_output)\n",
    "        \n",
    "    def test_disjoint_activities(self):\n",
    "        activities = [(1, 2), (3, 4), (5, 6)]\n",
    "        expected_output = [(1, 2), (3, 4), (5, 6)]\n",
    "        self.assertEqual(greedyActivitySelection(activities), expected_output)\n",
    "        \n",
    "    def test_overlapping_activities(self):\n",
    "        activities = [(1, 3), (2, 4), (3, 5), (4, 6)]\n",
    "        expected_output_1 = [(1, 3), (3, 5)]\n",
    "        expected_output_2 = [(2, 4), (4, 6)]\n",
    "        result = greedyActivitySelection(activities)\n",
    "        self.assertTrue(result in [expected_output_1, expected_output_2])\n",
    "\n",
    "# Create a test suite\n",
    "suite = unittest.TestLoader().loadTestsFromTestCase(TestGreedyActivitySelection)\n",
    "\n",
    "# Run the test suite and print the results\n",
    "runner = unittest.TextTestRunner(verbosity=2)\n",
    "runner.run(suite)"
   ]
  },
  {
   "cell_type": "markdown",
   "id": "configured-swedish",
   "metadata": {},
   "source": [
    "### <font color='red'> Activity 1b: Devise a dynamic programming solution to Activity Selection problem, and see if you get the same results as that of greedy strategy. </font>\n",
    "### Time Complexity of DP Activity Selection is O(n^2) because of the nested for loop\n",
    "### Space Complexity of DP Activity Selection is O(n^2) as we use a 2D array to store the results"
   ]
  },
  {
   "cell_type": "code",
   "execution_count": 29,
   "id": "piano-programming",
   "metadata": {},
   "outputs": [],
   "source": [
    "# a dynamic programming solution to the activity selection problem\n",
    "def dynamicProgrammingActivitySelection(activities):\n",
    "    \"\"\" Input: a list of activities, each activity is a tuple (start, finish)\n",
    "        Output: a list of activities, each activity is a tuple (start, finish)\n",
    "        The output list contains a subset of the input list such that no two activities overlap\n",
    "    \"\"\"\n",
    "    #test for empty list\n",
    "    if len(activities) == 0:\n",
    "        return []\n",
    "    sorted_activities = sorted(activities, key=lambda x: x[1])\n",
    "    # initialize the DP table\n",
    "    DP = [0] * len(sorted_activities)\n",
    "    DP[0] = 1\n",
    "    for i in range(1, len(sorted_activities)):\n",
    "        # find the last compatible activity\n",
    "        j = i - 1\n",
    "        while j >= 0 and sorted_activities[j][1] > sorted_activities[i][0]:\n",
    "            j -= 1\n",
    "        # update the DP table\n",
    "        DP[i] = max(DP[i - 1], DP[j] + 1)\n",
    "    # construct a solution\n",
    "    # construct a solution\n",
    "    solution = []\n",
    "    i = len(sorted_activities) - 1\n",
    "    while i >= 0:\n",
    "        if i == 0 or DP[i] != DP[i - 1]:\n",
    "            solution.append(sorted_activities[i])\n",
    "            # Find the previous included activity\n",
    "            while i > 0 and DP[i] == DP[i - 1]:\n",
    "                i -= 1\n",
    "        i -= 1\n",
    "\n",
    "    return solution[::-1]\n"
   ]
  },
  {
   "cell_type": "markdown",
   "id": "1cb9c687",
   "metadata": {},
   "source": [
    "Let us test above function as:"
   ]
  },
  {
   "cell_type": "code",
   "execution_count": 40,
   "id": "db5d80f4",
   "metadata": {},
   "outputs": [
    {
     "name": "stdout",
     "output_type": "stream",
     "text": [
      "Solution has 4 activities:\n",
      "[1, 4] [5, 7] [8, 10] [13, 15] "
     ]
    }
   ],
   "source": [
    "activities = [  [1,4],[2,5],[3,6],[5,7],[3,8],[6,9],[8,10],[9,11],[5,12],[6,13],[8,14],[13,15] ]\n",
    "\n",
    "solution = dynamicProgrammingActivitySelection(activities)\n",
    "\n",
    "print(f\"Solution has {len(solution)} activities:\")\n",
    "for i in solution:\n",
    "    print(i, end=\" \")\n"
   ]
  },
  {
   "cell_type": "markdown",
   "id": "6570890e",
   "metadata": {},
   "source": [
    "***"
   ]
  },
  {
   "cell_type": "code",
   "execution_count": 31,
   "id": "16f63130",
   "metadata": {},
   "outputs": [
    {
     "name": "stderr",
     "output_type": "stream",
     "text": [
      "test_activities_with_same_end_time (__main__.TestDynamicProgrammingActivitySelection.test_activities_with_same_end_time) ... ok\n",
      "test_activities_with_same_start_time (__main__.TestDynamicProgrammingActivitySelection.test_activities_with_same_start_time) ... ok\n",
      "test_multiple_non_overlapping_activities (__main__.TestDynamicProgrammingActivitySelection.test_multiple_non_overlapping_activities) ... ok\n",
      "test_multiple_overlapping_activities_different_scenario (__main__.TestDynamicProgrammingActivitySelection.test_multiple_overlapping_activities_different_scenario) ... ok\n",
      "test_multiple_overlapping_activities_original_list (__main__.TestDynamicProgrammingActivitySelection.test_multiple_overlapping_activities_original_list) ... ok\n",
      "test_no_activities (__main__.TestDynamicProgrammingActivitySelection.test_no_activities) ... ok\n",
      "test_single_activity (__main__.TestDynamicProgrammingActivitySelection.test_single_activity) ... ok\n",
      "\n",
      "----------------------------------------------------------------------\n",
      "Ran 7 tests in 0.006s\n",
      "\n",
      "OK\n"
     ]
    },
    {
     "data": {
      "text/plain": [
       "<unittest.runner.TextTestResult run=7 errors=0 failures=0>"
      ]
     },
     "execution_count": 31,
     "metadata": {},
     "output_type": "execute_result"
    }
   ],
   "source": [
    "import unittest\n",
    "\n",
    "class TestDynamicProgrammingActivitySelection(unittest.TestCase):\n",
    "\n",
    "    def test_no_activities(self):\n",
    "        activities = []\n",
    "        solution = dynamicProgrammingActivitySelection(activities)\n",
    "        self.assertEqual(solution, [], \"Test Case 1 Failed\")\n",
    "\n",
    "    def test_single_activity(self):\n",
    "        activities = [[1, 4]]\n",
    "        solution = dynamicProgrammingActivitySelection(activities)\n",
    "        self.assertEqual(solution, [[1, 4]], \"Test Case 2 Failed\")\n",
    "\n",
    "    def test_multiple_non_overlapping_activities(self):\n",
    "        activities = [[1, 2], [3, 4], [5, 6]]\n",
    "        solution = dynamicProgrammingActivitySelection(activities)\n",
    "        self.assertEqual(solution, [[1, 2], [3, 4], [5, 6]], \"Test Case 3 Failed\")\n",
    "\n",
    "    def test_multiple_overlapping_activities_original_list(self):\n",
    "        activities = [[1, 4], [2, 5], [3, 6], [5, 7], [3, 8], [6, 9], [8, 10], [9, 11], [5, 12], [6, 13], [8, 14], [13, 15]]\n",
    "        solution = dynamicProgrammingActivitySelection(activities)\n",
    "        # Expected solution depends on your implementation\n",
    "\n",
    "    def test_multiple_overlapping_activities_different_scenario(self):\n",
    "        activities = [[1, 4], [2, 6], [5, 7], [6, 8]]\n",
    "        solution = dynamicProgrammingActivitySelection(activities)\n",
    "        # Expected solution depends on your implementation\n",
    "\n",
    "    def test_activities_with_same_start_time(self):\n",
    "        activities = [[1, 4], [1, 3], [2, 5], [3, 6]]\n",
    "        solution = dynamicProgrammingActivitySelection(activities)\n",
    "        # Expected solution depends on your implementation\n",
    "\n",
    "    def test_activities_with_same_end_time(self):\n",
    "        activities = [[1, 4], [2, 4], [3, 4]]\n",
    "        solution = dynamicProgrammingActivitySelection(activities)\n",
    "        # Expected solution depends on your implementation\n",
    "\n",
    "# Create a test suite\n",
    "suite = unittest.TestLoader().loadTestsFromTestCase(TestDynamicProgrammingActivitySelection)\n",
    "\n",
    "# Run the test suite and print the results\n",
    "runner = unittest.TextTestRunner(verbosity=2)\n",
    "runner.run(suite)\n"
   ]
  },
  {
   "cell_type": "markdown",
   "id": "1f5bb07e",
   "metadata": {},
   "source": [
    "### This image shows how to calculate the weighted sum of completion times"
   ]
  },
  {
   "cell_type": "markdown",
   "id": "8040afba",
   "metadata": {},
   "source": [
    "![Weighted Sum](weighted-sum.png)"
   ]
  },
  {
   "cell_type": "markdown",
   "id": "6e92fc09",
   "metadata": {},
   "source": [
    "###  Prim's Algorithm"
   ]
  },
  {
   "cell_type": "markdown",
   "id": "ce467019",
   "metadata": {},
   "source": [
    "Graph's Preliminaries"
   ]
  },
  {
   "cell_type": "code",
   "execution_count": 32,
   "id": "a75ba3ec",
   "metadata": {},
   "outputs": [],
   "source": [
    "G = Graph()\n",
    "\n",
    "for i in ['A', 'B', 'C', 'D', 'E', 'F', 'G', 'H', 'I']:\n",
    "    G.addVertex( Node(i) )"
   ]
  },
  {
   "cell_type": "code",
   "execution_count": 33,
   "id": "c990d75e",
   "metadata": {},
   "outputs": [],
   "source": [
    "V = G.vertices\n",
    "\n",
    "#0, 1, 2, 3, 4, 5, 6, 7, 8\n",
    "#A, B, C, D, E, F, G, H, I\n",
    "\n",
    "G.addBiEdge( V[0], V[1], 4)\n",
    "\n",
    "G.addBiEdge( V[0], V[7] , 8)\n",
    "\n",
    "G.addBiEdge( V[1], V[7], 11)\n",
    "\n",
    "G.addBiEdge( V[1], V[2], 8)\n",
    "\n",
    "G.addBiEdge( V[2], V[3], 7)\n",
    "\n",
    "G.addBiEdge( V[3], V[4], 9)\n",
    "\n",
    "G.addBiEdge( V[3], V[5], 14 )\n",
    "\n",
    "G.addBiEdge( V[4], V[5], 10 )\n",
    "\n",
    "G.addBiEdge( V[2], V[5], 4 )\n",
    "\n",
    "G.addBiEdge( V[2], V[8], 2 )\n",
    "\n",
    "G.addBiEdge( V[5], V[6], 2 )\n",
    "\n",
    "G.addBiEdge( V[6], V[7], 1 )\n",
    "\n",
    "G.addBiEdge( V[6], V[8], 6 )\n",
    "\n",
    "G.addBiEdge( V[7], V[8], 7 )\n"
   ]
  },
  {
   "cell_type": "code",
   "execution_count": 34,
   "id": "2ac81f26",
   "metadata": {},
   "outputs": [
    {
     "name": "stdout",
     "output_type": "stream",
     "text": [
      "Graph with:\n",
      "\t Vertices:\n",
      "\tA,B,C,D,E,F,G,H,I,\n",
      "\t Edges:\n",
      "\t(A->B , 4)) (A->H , 8)) (B->A , 4)) (B->H , 11)) (B->C , 8)) (C->B , 8)) (C->D , 7)) (C->F , 4)) (C->I , 2)) (D->C , 7)) (D->E , 9)) (D->F , 14)) (E->D , 9)) (E->F , 10)) (F->D , 14)) (F->E , 10)) (F->C , 4)) (F->G , 2)) (G->F , 2)) (G->H , 1)) (G->I , 6)) (H->A , 8)) (H->B , 11)) (H->G , 1)) (H->I , 7)) (I->C , 2)) (I->G , 6)) (I->H , 7)) \n",
      "\n"
     ]
    }
   ],
   "source": [
    "print(G)"
   ]
  },
  {
   "cell_type": "code",
   "execution_count": 35,
   "id": "e420665f",
   "metadata": {},
   "outputs": [
    {
     "data": {
      "image/svg+xml": [
       "<?xml version=\"1.0\" encoding=\"UTF-8\" standalone=\"no\"?>\n",
       "<!DOCTYPE svg PUBLIC \"-//W3C//DTD SVG 1.1//EN\"\n",
       " \"http://www.w3.org/Graphics/SVG/1.1/DTD/svg11.dtd\">\n",
       "<!-- Generated by graphviz version 8.1.0 (20230707.0739)\n",
       " -->\n",
       "<!-- Pages: 1 -->\n",
       "<svg width=\"274pt\" height=\"746pt\"\n",
       " viewBox=\"0.00 0.00 273.75 746.00\" xmlns=\"http://www.w3.org/2000/svg\" xmlns:xlink=\"http://www.w3.org/1999/xlink\">\n",
       "<g id=\"graph0\" class=\"graph\" transform=\"scale(1 1) rotate(0) translate(4 742)\">\n",
       "<polygon fill=\"white\" stroke=\"none\" points=\"-4,4 -4,-742 269.75,-742 269.75,4 -4,4\"/>\n",
       "<!-- A -->\n",
       "<g id=\"node1\" class=\"node\">\n",
       "<title>A</title>\n",
       "<ellipse fill=\"none\" stroke=\"black\" cx=\"27\" cy=\"-720\" rx=\"27\" ry=\"18\"/>\n",
       "<text text-anchor=\"middle\" x=\"27\" y=\"-714.58\" font-family=\"Times New Roman,serif\" font-size=\"14.00\">A</text>\n",
       "</g>\n",
       "<!-- B -->\n",
       "<g id=\"node2\" class=\"node\">\n",
       "<title>B</title>\n",
       "<ellipse fill=\"none\" stroke=\"black\" cx=\"66\" cy=\"-632.25\" rx=\"27\" ry=\"18\"/>\n",
       "<text text-anchor=\"middle\" x=\"66\" y=\"-626.83\" font-family=\"Times New Roman,serif\" font-size=\"14.00\">B</text>\n",
       "</g>\n",
       "<!-- A&#45;&gt;B -->\n",
       "<g id=\"edge1\" class=\"edge\">\n",
       "<title>A&#45;&gt;B</title>\n",
       "<path fill=\"none\" stroke=\"black\" d=\"M34.52,-702.47C40.08,-690.25 47.75,-673.37 54.13,-659.34\"/>\n",
       "<polygon fill=\"black\" stroke=\"black\" points=\"57.55,-661.28 58.5,-650.73 51.18,-658.39 57.55,-661.28\"/>\n",
       "<text text-anchor=\"middle\" x=\"53.38\" y=\"-670.7\" font-family=\"Times New Roman,serif\" font-size=\"14.00\">4</text>\n",
       "</g>\n",
       "<!-- H -->\n",
       "<g id=\"node3\" class=\"node\">\n",
       "<title>H</title>\n",
       "<ellipse fill=\"none\" stroke=\"black\" cx=\"69\" cy=\"-105.75\" rx=\"27\" ry=\"18\"/>\n",
       "<text text-anchor=\"middle\" x=\"69\" y=\"-100.33\" font-family=\"Times New Roman,serif\" font-size=\"14.00\">H</text>\n",
       "</g>\n",
       "<!-- A&#45;&gt;H -->\n",
       "<g id=\"edge2\" class=\"edge\">\n",
       "<title>A&#45;&gt;H</title>\n",
       "<path fill=\"none\" stroke=\"black\" d=\"M21.94,-702.09C17.25,-684.92 11,-657.48 11,-633.25 11,-633.25 11,-633.25 11,-192.5 11,-167.02 28.79,-143.45 44.67,-127.5\"/>\n",
       "<polygon fill=\"black\" stroke=\"black\" points=\"46.4,-130.74 51.22,-121.31 41.57,-125.67 46.4,-130.74\"/>\n",
       "<text text-anchor=\"middle\" x=\"14.38\" y=\"-407.45\" font-family=\"Times New Roman,serif\" font-size=\"14.00\">8</text>\n",
       "</g>\n",
       "<!-- B&#45;&gt;H -->\n",
       "<g id=\"edge3\" class=\"edge\">\n",
       "<title>B&#45;&gt;H</title>\n",
       "<path fill=\"none\" stroke=\"black\" d=\"M63.1,-613.9C60.47,-596.62 57,-569.3 57,-545.5 57,-545.5 57,-545.5 57,-192.5 57,-173.08 60.06,-151.42 63.08,-134.73\"/>\n",
       "<polygon fill=\"black\" stroke=\"black\" points=\"66.68,-135.54 65.14,-125.06 59.81,-134.22 66.68,-135.54\"/>\n",
       "<text text-anchor=\"middle\" x=\"63.75\" y=\"-363.57\" font-family=\"Times New Roman,serif\" font-size=\"14.00\">11</text>\n",
       "</g>\n",
       "<!-- C -->\n",
       "<g id=\"node4\" class=\"node\">\n",
       "<title>C</title>\n",
       "<ellipse fill=\"none\" stroke=\"black\" cx=\"130\" cy=\"-544.5\" rx=\"27\" ry=\"18\"/>\n",
       "<text text-anchor=\"middle\" x=\"130\" y=\"-539.08\" font-family=\"Times New Roman,serif\" font-size=\"14.00\">C</text>\n",
       "</g>\n",
       "<!-- B&#45;&gt;C -->\n",
       "<g id=\"edge4\" class=\"edge\">\n",
       "<title>B&#45;&gt;C</title>\n",
       "<path fill=\"none\" stroke=\"black\" d=\"M77.74,-615.52C87.3,-602.71 100.97,-584.4 111.92,-569.72\"/>\n",
       "<polygon fill=\"black\" stroke=\"black\" points=\"115.16,-572.24 118.34,-562.13 109.55,-568.05 115.16,-572.24\"/>\n",
       "<text text-anchor=\"middle\" x=\"106.38\" y=\"-582.95\" font-family=\"Times New Roman,serif\" font-size=\"14.00\">8</text>\n",
       "</g>\n",
       "<!-- I -->\n",
       "<g id=\"node8\" class=\"node\">\n",
       "<title>I</title>\n",
       "<ellipse fill=\"none\" stroke=\"black\" cx=\"134\" cy=\"-18\" rx=\"27\" ry=\"18\"/>\n",
       "<text text-anchor=\"middle\" x=\"134\" y=\"-12.57\" font-family=\"Times New Roman,serif\" font-size=\"14.00\">I</text>\n",
       "</g>\n",
       "<!-- H&#45;&gt;I -->\n",
       "<g id=\"edge14\" class=\"edge\">\n",
       "<title>H&#45;&gt;I</title>\n",
       "<path fill=\"none\" stroke=\"black\" d=\"M80.62,-89.42C90.36,-76.57 104.43,-58.01 115.68,-43.16\"/>\n",
       "<polygon fill=\"black\" stroke=\"black\" points=\"119.01,-45.57 122.26,-35.49 113.43,-41.34 119.01,-45.57\"/>\n",
       "<text text-anchor=\"middle\" x=\"110.38\" y=\"-56.45\" font-family=\"Times New Roman,serif\" font-size=\"14.00\">7</text>\n",
       "</g>\n",
       "<!-- D -->\n",
       "<g id=\"node5\" class=\"node\">\n",
       "<title>D</title>\n",
       "<ellipse fill=\"none\" stroke=\"black\" cx=\"154\" cy=\"-456.75\" rx=\"27\" ry=\"18\"/>\n",
       "<text text-anchor=\"middle\" x=\"154\" y=\"-451.32\" font-family=\"Times New Roman,serif\" font-size=\"14.00\">D</text>\n",
       "</g>\n",
       "<!-- C&#45;&gt;D -->\n",
       "<g id=\"edge5\" class=\"edge\">\n",
       "<title>C&#45;&gt;D</title>\n",
       "<path fill=\"none\" stroke=\"black\" d=\"M134.74,-526.56C138.04,-514.77 142.51,-498.8 146.31,-485.21\"/>\n",
       "<polygon fill=\"black\" stroke=\"black\" points=\"149.86,-486.52 149.19,-475.95 143.12,-484.64 149.86,-486.52\"/>\n",
       "<text text-anchor=\"middle\" x=\"147.38\" y=\"-495.2\" font-family=\"Times New Roman,serif\" font-size=\"14.00\">7</text>\n",
       "</g>\n",
       "<!-- F -->\n",
       "<g id=\"node7\" class=\"node\">\n",
       "<title>F</title>\n",
       "<ellipse fill=\"none\" stroke=\"black\" cx=\"143\" cy=\"-281.25\" rx=\"27\" ry=\"18\"/>\n",
       "<text text-anchor=\"middle\" x=\"143\" y=\"-275.82\" font-family=\"Times New Roman,serif\" font-size=\"14.00\">F</text>\n",
       "</g>\n",
       "<!-- C&#45;&gt;F -->\n",
       "<g id=\"edge9\" class=\"edge\">\n",
       "<title>C&#45;&gt;F</title>\n",
       "<path fill=\"none\" stroke=\"black\" d=\"M126.16,-526.37C123.27,-512.53 119.54,-492.49 118,-474.75 112.9,-415.87 126.52,-347.33 135.6,-309.99\"/>\n",
       "<polygon fill=\"black\" stroke=\"black\" points=\"139.21,-311 138.25,-300.45 132.42,-309.3 139.21,-311\"/>\n",
       "<text text-anchor=\"middle\" x=\"122.38\" y=\"-407.45\" font-family=\"Times New Roman,serif\" font-size=\"14.00\">4</text>\n",
       "</g>\n",
       "<!-- C&#45;&gt;I -->\n",
       "<g id=\"edge10\" class=\"edge\">\n",
       "<title>C&#45;&gt;I</title>\n",
       "<path fill=\"none\" stroke=\"black\" d=\"M155.8,-538.49C193.44,-529.51 259,-506.83 259,-457.75 259,-457.75 259,-457.75 259,-104.75 259,-61.28 206.95,-38.2 170.03,-27.3\"/>\n",
       "<polygon fill=\"black\" stroke=\"black\" points=\"171.17,-23.71 160.6,-24.42 169.3,-30.46 171.17,-23.71\"/>\n",
       "<text text-anchor=\"middle\" x=\"262.38\" y=\"-275.82\" font-family=\"Times New Roman,serif\" font-size=\"14.00\">2</text>\n",
       "</g>\n",
       "<!-- E -->\n",
       "<g id=\"node6\" class=\"node\">\n",
       "<title>E</title>\n",
       "<ellipse fill=\"none\" stroke=\"black\" cx=\"204\" cy=\"-369\" rx=\"27\" ry=\"18\"/>\n",
       "<text text-anchor=\"middle\" x=\"204\" y=\"-363.57\" font-family=\"Times New Roman,serif\" font-size=\"14.00\">E</text>\n",
       "</g>\n",
       "<!-- D&#45;&gt;E -->\n",
       "<g id=\"edge6\" class=\"edge\">\n",
       "<title>D&#45;&gt;E</title>\n",
       "<path fill=\"none\" stroke=\"black\" d=\"M163.4,-439.62C170.62,-427.24 180.73,-409.91 189.05,-395.64\"/>\n",
       "<polygon fill=\"black\" stroke=\"black\" points=\"192.45,-397.75 194.47,-387.35 186.41,-394.22 192.45,-397.75\"/>\n",
       "<text text-anchor=\"middle\" x=\"186.38\" y=\"-407.45\" font-family=\"Times New Roman,serif\" font-size=\"14.00\">9</text>\n",
       "</g>\n",
       "<!-- D&#45;&gt;F -->\n",
       "<g id=\"edge7\" class=\"edge\">\n",
       "<title>D&#45;&gt;F</title>\n",
       "<path fill=\"none\" stroke=\"black\" d=\"M152.91,-438.48C151.01,-408.55 147.09,-346.77 144.79,-310.51\"/>\n",
       "<polygon fill=\"black\" stroke=\"black\" points=\"148.23,-310.47 144.11,-300.71 141.25,-310.91 148.23,-310.47\"/>\n",
       "<text text-anchor=\"middle\" x=\"155.75\" y=\"-363.57\" font-family=\"Times New Roman,serif\" font-size=\"14.00\">14</text>\n",
       "</g>\n",
       "<!-- E&#45;&gt;F -->\n",
       "<g id=\"edge8\" class=\"edge\">\n",
       "<title>E&#45;&gt;F</title>\n",
       "<path fill=\"none\" stroke=\"black\" d=\"M192.81,-352.27C183.7,-339.46 170.67,-321.15 160.23,-306.47\"/>\n",
       "<polygon fill=\"black\" stroke=\"black\" points=\"162.77,-305 154.12,-298.88 157.06,-309.06 162.77,-305\"/>\n",
       "<text text-anchor=\"middle\" x=\"184.75\" y=\"-319.7\" font-family=\"Times New Roman,serif\" font-size=\"14.00\">10</text>\n",
       "</g>\n",
       "<!-- G -->\n",
       "<g id=\"node9\" class=\"node\">\n",
       "<title>G</title>\n",
       "<ellipse fill=\"none\" stroke=\"black\" cx=\"134\" cy=\"-193.5\" rx=\"27\" ry=\"18\"/>\n",
       "<text text-anchor=\"middle\" x=\"134\" y=\"-188.07\" font-family=\"Times New Roman,serif\" font-size=\"14.00\">G</text>\n",
       "</g>\n",
       "<!-- F&#45;&gt;G -->\n",
       "<g id=\"edge11\" class=\"edge\">\n",
       "<title>F&#45;&gt;G</title>\n",
       "<path fill=\"none\" stroke=\"black\" d=\"M141.18,-262.9C139.96,-251.27 138.33,-235.72 136.93,-222.38\"/>\n",
       "<polygon fill=\"black\" stroke=\"black\" points=\"140.34,-222.41 135.82,-212.83 133.38,-223.14 140.34,-222.41\"/>\n",
       "<text text-anchor=\"middle\" x=\"142.38\" y=\"-231.95\" font-family=\"Times New Roman,serif\" font-size=\"14.00\">2</text>\n",
       "</g>\n",
       "<!-- G&#45;&gt;H -->\n",
       "<g id=\"edge12\" class=\"edge\">\n",
       "<title>G&#45;&gt;H</title>\n",
       "<path fill=\"none\" stroke=\"black\" d=\"M122.38,-177.17C112.64,-164.32 98.57,-145.76 87.32,-130.91\"/>\n",
       "<polygon fill=\"black\" stroke=\"black\" points=\"89.57,-129.09 80.74,-123.24 83.99,-133.32 89.57,-129.09\"/>\n",
       "<text text-anchor=\"middle\" x=\"110.38\" y=\"-144.2\" font-family=\"Times New Roman,serif\" font-size=\"14.00\">1</text>\n",
       "</g>\n",
       "<!-- G&#45;&gt;I -->\n",
       "<g id=\"edge13\" class=\"edge\">\n",
       "<title>G&#45;&gt;I</title>\n",
       "<path fill=\"none\" stroke=\"black\" d=\"M134,-175.23C134,-145.3 134,-83.52 134,-47.26\"/>\n",
       "<polygon fill=\"black\" stroke=\"black\" points=\"137.5,-47.46 134,-37.46 130.5,-47.46 137.5,-47.46\"/>\n",
       "<text text-anchor=\"middle\" x=\"137.38\" y=\"-100.33\" font-family=\"Times New Roman,serif\" font-size=\"14.00\">6</text>\n",
       "</g>\n",
       "</g>\n",
       "</svg>\n"
      ],
      "text/plain": [
       "<graphviz.graphs.Digraph at 0x22393f32e10>"
      ]
     },
     "execution_count": 35,
     "metadata": {},
     "output_type": "execute_result"
    }
   ],
   "source": [
    "dot = Digraph()\n",
    "dot.edge('A', 'B', label='4')\n",
    "dot.edge('A', 'H', label='8')\n",
    "dot.edge('B', 'H', label='11')\n",
    "dot.edge('B', 'C', label='8')\n",
    "dot.edge('C', 'D', label='7')\n",
    "dot.edge('D', 'E', label='9')\n",
    "dot.edge('D', 'F', label='14')\n",
    "dot.edge('E', 'F', label='10')\n",
    "dot.edge('C', 'F', label='4')\n",
    "dot.edge('C', 'I', label='2')\n",
    "dot.edge('F', 'G', label='2')\n",
    "dot.edge('G', 'H', label='1')\n",
    "dot.edge('G', 'I', label='6')\n",
    "dot.edge('H', 'I', label='7')\n",
    "dot"
   ]
  },
  {
   "cell_type": "markdown",
   "id": "10941ad1",
   "metadata": {},
   "source": [
    "#### Time Complexity of Slow Prim's Algorithm is O(n^2)\n",
    "#### Space Complexity of Slow Prim's Algorithm is O(n^2) as we are using a 2D array to store the graph\n",
    "#### Possible Inifinte Loop in Slow Prim's Algorithm - Unconnected Graph"
   ]
  },
  {
   "cell_type": "code",
   "execution_count": 36,
   "id": "c75594c0",
   "metadata": {},
   "outputs": [],
   "source": [
    "# G is graph\n",
    "# s is the node to start\n",
    "\n",
    "def slowPrim(G, s):\n",
    "    \"\"\" Input: a graph G and a starting vertex s\n",
    "        Output: the MST of G with root s\n",
    "    \"\"\"\n",
    "    \n",
    "    # first, find the lightest edge leaving s\n",
    "    bestWt = np.inf\n",
    "    bestu = None\n",
    "    \n",
    "    for u,wt in s.getOutNeighborsWithWeights():\n",
    "        \n",
    "        if wt < bestWt:\n",
    "            bestWt = wt\n",
    "            bestu = u\n",
    "    \n",
    "    MST = [ (s, bestu) ]\n",
    "    verticesVisited = [s,bestu]\n",
    "    \n",
    "    while len(verticesVisited) < len(G.vertices): # danger! this will loop forever if the graph isn't connected...\n",
    "        \n",
    "        # find the lightest edge (x,v) so that x has been visited and v hasn't.\n",
    "        bestWt = np.inf\n",
    "        bestv = None\n",
    "        bestx = None\n",
    "        \n",
    "        for x in verticesVisited:\n",
    "            for v,wt in x.getOutNeighborsWithWeights():\n",
    "                \n",
    "                if v in verticesVisited:\n",
    "                    continue\n",
    "                \n",
    "                if wt < bestWt:\n",
    "                    bestWt = wt\n",
    "                    bestv = v\n",
    "                    bestx = x\n",
    "                    \n",
    "        MST.append((bestx,bestv))\n",
    "        verticesVisited.append(bestv)\n",
    "    \n",
    "    return MST"
   ]
  },
  {
   "cell_type": "code",
   "execution_count": 37,
   "id": "f6ff20d2",
   "metadata": {},
   "outputs": [
    {
     "name": "stdout",
     "output_type": "stream",
     "text": [
      "A B\n",
      "A H\n",
      "H G\n",
      "G F\n",
      "F C\n",
      "C I\n",
      "C D\n",
      "D E\n"
     ]
    }
   ],
   "source": [
    "T = slowPrim(G, G.vertices[0])\n",
    "\n",
    "for x,y in T:\n",
    "    print(x,y)"
   ]
  },
  {
   "cell_type": "markdown",
   "id": "42212e3d",
   "metadata": {},
   "source": [
    "### Prim's Algorithm\n",
    "#### Time Complexity of Prim's Algorithm is O(mlogn) as we are bound by heap operations\n",
    "#### Space Complexity of Prim's Algorithm is O(n+m) as we are using a heap and a list"
   ]
  },
  {
   "cell_type": "code",
   "execution_count": 38,
   "id": "e32585d1",
   "metadata": {},
   "outputs": [],
   "source": [
    "def prim(G, s):\n",
    "    \"\"\"Prim's algorithm for finding a minimum spanning tree\n",
    "    in a graph G, starting at vertex s.\n",
    "    Args: G (Graph): weighted graph\n",
    "            s (Vertex): starting vertex\n",
    "    Returns: list of vertices in the MST\n",
    "    \"\"\"\n",
    "    # check for empty graph\n",
    "    if G is None or len(G) == 0:\n",
    "        print(\"Graph is empty\")\n",
    "        return\n",
    "    # check for a single vertex\n",
    "    if len(G) == 1:\n",
    "        print(\"Graph has only one vertex\")\n",
    "        return G\n",
    "    # List of vertices in the MST\n",
    "    MST = [s]\n",
    "    # Priority queue of edges\n",
    "    Q = queue.PriorityQueue()\n",
    "    # Add all edges from s to Q\n",
    "    for v, wt in s.getOutNeighborsWithWeights():\n",
    "        Q.put((wt, s, v))\n",
    "    # Process the vertices\n",
    "    while not Q.empty():\n",
    "        # Ge the edge with the smallest weight\n",
    "        wt, u, v = Q.get()\n",
    "        # If v is not in the MST, add it\n",
    "        if v not in MST:\n",
    "            MST.append(v)\n",
    "            print(\"Adding edge\", u, v, \"to MST\")\n",
    "            # Find all edges from v to vertices not in the MST\n",
    "            for w, wt in v.getOutNeighborsWithWeights():\n",
    "                # Add them to the priority queue\n",
    "                Q.put((wt, v, w))\n",
    "    return MST\n"
   ]
  },
  {
   "cell_type": "code",
   "execution_count": 39,
   "id": "e6c07571",
   "metadata": {},
   "outputs": [
    {
     "ename": "NameError",
     "evalue": "name 'queue' is not defined",
     "output_type": "error",
     "traceback": [
      "\u001b[1;31m---------------------------------------------------------------------------\u001b[0m",
      "\u001b[1;31mNameError\u001b[0m                                 Traceback (most recent call last)",
      "Cell \u001b[1;32mIn[39], line 15\u001b[0m\n\u001b[0;32m     12\u001b[0m G \u001b[39m=\u001b[39m [A, B, C]\n\u001b[0;32m     14\u001b[0m \u001b[39m# Running Prim's Algorithm\u001b[39;00m\n\u001b[1;32m---> 15\u001b[0m MST \u001b[39m=\u001b[39m prim(G, A)\n\u001b[0;32m     17\u001b[0m \u001b[39m# Expected Output: Edges (A, B) and (A, C) or (A, C) and (A, B)\u001b[39;00m\n\u001b[0;32m     18\u001b[0m \n\u001b[0;32m     19\u001b[0m \u001b[39m# Creating Graphviz object\u001b[39;00m\n\u001b[0;32m     20\u001b[0m dot \u001b[39m=\u001b[39m Digraph()\n",
      "Cell \u001b[1;32mIn[38], line 19\u001b[0m, in \u001b[0;36mprim\u001b[1;34m(G, s)\u001b[0m\n\u001b[0;32m     17\u001b[0m MST \u001b[39m=\u001b[39m [s]\n\u001b[0;32m     18\u001b[0m \u001b[39m# Priority queue of edges\u001b[39;00m\n\u001b[1;32m---> 19\u001b[0m Q \u001b[39m=\u001b[39m queue\u001b[39m.\u001b[39mPriorityQueue()\n\u001b[0;32m     20\u001b[0m \u001b[39m# Add all edges from s to Q\u001b[39;00m\n\u001b[0;32m     21\u001b[0m \u001b[39mfor\u001b[39;00m v, wt \u001b[39min\u001b[39;00m s\u001b[39m.\u001b[39mgetOutNeighborsWithWeights():\n",
      "\u001b[1;31mNameError\u001b[0m: name 'queue' is not defined"
     ]
    }
   ],
   "source": [
    "# Creating Nodes\n",
    "A = Node('A')\n",
    "B = Node('B')\n",
    "C = Node('C')\n",
    "\n",
    "# Adding Neighbors\n",
    "A.addOutNeighbor(B, 1)\n",
    "A.addOutNeighbor(C, 2)\n",
    "B.addOutNeighbor(C, 3)\n",
    "\n",
    "# Creating Graph\n",
    "G = [A, B, C]\n",
    "\n",
    "# Running Prim's Algorithm\n",
    "MST = prim(G, A)\n",
    "\n",
    "# Expected Output: Edges (A, B) and (A, C) or (A, C) and (A, B)\n",
    "\n",
    "# Creating Graphviz object\n",
    "dot = Digraph()\n",
    "\n",
    "# Adding Edges for Original Graph\n",
    "dot.edge('A', 'B', label='1')\n",
    "dot.edge('A', 'C', label='2')\n",
    "dot.edge('B', 'C', label='3')\n",
    "\n",
    "dot\n"
   ]
  },
  {
   "cell_type": "code",
   "execution_count": null,
   "id": "c5f14956",
   "metadata": {},
   "outputs": [
    {
     "name": "stdout",
     "output_type": "stream",
     "text": [
      "Adding edge A B to MST\n",
      "Adding edge B C to MST\n",
      "Adding edge C D to MST\n"
     ]
    },
    {
     "data": {
      "image/svg+xml": [
       "<?xml version=\"1.0\" encoding=\"UTF-8\" standalone=\"no\"?>\n",
       "<!DOCTYPE svg PUBLIC \"-//W3C//DTD SVG 1.1//EN\"\n",
       " \"http://www.w3.org/Graphics/SVG/1.1/DTD/svg11.dtd\">\n",
       "<!-- Generated by graphviz version 8.1.0 (20230707.0739)\n",
       " -->\n",
       "<!-- Pages: 1 -->\n",
       "<svg width=\"114pt\" height=\"307pt\"\n",
       " viewBox=\"0.00 0.00 114.00 307.25\" xmlns=\"http://www.w3.org/2000/svg\" xmlns:xlink=\"http://www.w3.org/1999/xlink\">\n",
       "<g id=\"graph0\" class=\"graph\" transform=\"scale(1 1) rotate(0) translate(4 303.25)\">\n",
       "<polygon fill=\"white\" stroke=\"none\" points=\"-4,4 -4,-303.25 110,-303.25 110,4 -4,4\"/>\n",
       "<!-- A -->\n",
       "<g id=\"node1\" class=\"node\">\n",
       "<title>A</title>\n",
       "<ellipse fill=\"none\" stroke=\"black\" cx=\"59\" cy=\"-281.25\" rx=\"27\" ry=\"18\"/>\n",
       "<text text-anchor=\"middle\" x=\"59\" y=\"-275.82\" font-family=\"Times New Roman,serif\" font-size=\"14.00\">A</text>\n",
       "</g>\n",
       "<!-- B -->\n",
       "<g id=\"node2\" class=\"node\">\n",
       "<title>B</title>\n",
       "<ellipse fill=\"none\" stroke=\"black\" cx=\"27\" cy=\"-193.5\" rx=\"27\" ry=\"18\"/>\n",
       "<text text-anchor=\"middle\" x=\"27\" y=\"-188.07\" font-family=\"Times New Roman,serif\" font-size=\"14.00\">B</text>\n",
       "</g>\n",
       "<!-- A&#45;&gt;B -->\n",
       "<g id=\"edge1\" class=\"edge\">\n",
       "<title>A&#45;&gt;B</title>\n",
       "<path fill=\"none\" stroke=\"black\" d=\"M52.68,-263.31C48.25,-251.45 42.24,-235.34 37.15,-221.7\"/>\n",
       "<polygon fill=\"black\" stroke=\"black\" points=\"40.08,-220.55 33.31,-212.41 33.53,-223 40.08,-220.55\"/>\n",
       "<text text-anchor=\"middle\" x=\"49.38\" y=\"-231.95\" font-family=\"Times New Roman,serif\" font-size=\"14.00\">2</text>\n",
       "</g>\n",
       "<!-- C -->\n",
       "<g id=\"node3\" class=\"node\">\n",
       "<title>C</title>\n",
       "<ellipse fill=\"none\" stroke=\"black\" cx=\"79\" cy=\"-105.75\" rx=\"27\" ry=\"18\"/>\n",
       "<text text-anchor=\"middle\" x=\"79\" y=\"-100.33\" font-family=\"Times New Roman,serif\" font-size=\"14.00\">C</text>\n",
       "</g>\n",
       "<!-- A&#45;&gt;C -->\n",
       "<g id=\"edge2\" class=\"edge\">\n",
       "<title>A&#45;&gt;C</title>\n",
       "<path fill=\"none\" stroke=\"black\" d=\"M60.99,-262.98C64.45,-232.97 71.6,-170.95 75.77,-134.73\"/>\n",
       "<polygon fill=\"black\" stroke=\"black\" points=\"79.35,-135.29 77.02,-124.95 72.4,-134.48 79.35,-135.29\"/>\n",
       "<text text-anchor=\"middle\" x=\"74.38\" y=\"-188.07\" font-family=\"Times New Roman,serif\" font-size=\"14.00\">3</text>\n",
       "</g>\n",
       "<!-- B&#45;&gt;C -->\n",
       "<g id=\"edge3\" class=\"edge\">\n",
       "<title>B&#45;&gt;C</title>\n",
       "<path fill=\"none\" stroke=\"black\" d=\"M36.78,-176.37C44.33,-163.91 54.93,-146.44 63.62,-132.12\"/>\n",
       "<polygon fill=\"black\" stroke=\"black\" points=\"67.07,-134.17 69.26,-123.81 61.09,-130.54 67.07,-134.17\"/>\n",
       "<text text-anchor=\"middle\" x=\"61.38\" y=\"-144.2\" font-family=\"Times New Roman,serif\" font-size=\"14.00\">1</text>\n",
       "</g>\n",
       "<!-- D -->\n",
       "<g id=\"node4\" class=\"node\">\n",
       "<title>D</title>\n",
       "<ellipse fill=\"none\" stroke=\"black\" cx=\"43\" cy=\"-18\" rx=\"27\" ry=\"18\"/>\n",
       "<text text-anchor=\"middle\" x=\"43\" y=\"-12.57\" font-family=\"Times New Roman,serif\" font-size=\"14.00\">D</text>\n",
       "</g>\n",
       "<!-- B&#45;&gt;D -->\n",
       "<g id=\"edge4\" class=\"edge\">\n",
       "<title>B&#45;&gt;D</title>\n",
       "<path fill=\"none\" stroke=\"black\" d=\"M28.49,-175.07C30.27,-154.28 33.39,-118.47 36.25,-87.75 37.5,-74.31 38.96,-59.4 40.2,-46.91\"/>\n",
       "<polygon fill=\"black\" stroke=\"black\" points=\"43.75,-47.53 41.26,-37.23 36.79,-46.83 43.75,-47.53\"/>\n",
       "<text text-anchor=\"middle\" x=\"40.38\" y=\"-100.33\" font-family=\"Times New Roman,serif\" font-size=\"14.00\">3</text>\n",
       "</g>\n",
       "<!-- C&#45;&gt;D -->\n",
       "<g id=\"edge5\" class=\"edge\">\n",
       "<title>C&#45;&gt;D</title>\n",
       "<path fill=\"none\" stroke=\"black\" d=\"M72.06,-88.22C67.01,-76.19 60.07,-59.66 54.24,-45.77\"/>\n",
       "<polygon fill=\"black\" stroke=\"black\" points=\"57.14,-44.64 50.04,-36.78 50.69,-47.35 57.14,-44.64\"/>\n",
       "<text text-anchor=\"middle\" x=\"68.38\" y=\"-56.45\" font-family=\"Times New Roman,serif\" font-size=\"14.00\">2</text>\n",
       "</g>\n",
       "</g>\n",
       "</svg>\n"
      ],
      "text/plain": [
       "<graphviz.graphs.Digraph at 0x227a48be810>"
      ]
     },
     "execution_count": 307,
     "metadata": {},
     "output_type": "execute_result"
    }
   ],
   "source": [
    "# Creating Nodes\n",
    "A = Node('A')\n",
    "B = Node('B')\n",
    "C = Node('C')\n",
    "D = Node('D')\n",
    "\n",
    "# Adding Neighbors\n",
    "A.addOutNeighbor(B, 2)\n",
    "A.addOutNeighbor(C, 3)\n",
    "B.addOutNeighbor(C, 1)\n",
    "B.addOutNeighbor(D, 3)\n",
    "C.addOutNeighbor(D, 2)\n",
    "\n",
    "# Creating Graph\n",
    "G = [A, B, C, D]\n",
    "\n",
    "# Running Prim's Algorithm\n",
    "MST = prim(G, A)\n",
    "\n",
    "# Expected Output: Edges (A, B), (B, C), and (C, D)\n",
    "\n",
    "# Creating Graphviz object\n",
    "dot = Digraph()\n",
    "\n",
    "# Adding Edges for Original Graph\n",
    "dot.edge('A', 'B', label='2')\n",
    "dot.edge('A', 'C', label='3')\n",
    "dot.edge('B', 'C', label='1')\n",
    "dot.edge('B', 'D', label='3')\n",
    "dot.edge('C', 'D', label='2')\n",
    "\n",
    "dot\n"
   ]
  },
  {
   "cell_type": "code",
   "execution_count": null,
   "id": "200a910d",
   "metadata": {},
   "outputs": [
    {
     "name": "stdout",
     "output_type": "stream",
     "text": [
      "Graph is empty\n"
     ]
    }
   ],
   "source": [
    "# Creating Graph\n",
    "G = []\n",
    "\n",
    "# Running Prim's Algorithm\n",
    "MST = prim(G, None)\n",
    "\n",
    "# Expected Output: Empty MST\n"
   ]
  },
  {
   "cell_type": "code",
   "execution_count": null,
   "id": "a7f7c8fe",
   "metadata": {},
   "outputs": [
    {
     "name": "stdout",
     "output_type": "stream",
     "text": [
      "Graph has only one vertex\n"
     ]
    }
   ],
   "source": [
    "# Creating Nodes\n",
    "A = Node('A')\n",
    "\n",
    "# Creating Graph\n",
    "G = [A]\n",
    "\n",
    "# Running Prim's Algorithm\n",
    "MST = prim(G, A)\n",
    "\n",
    "# Expected Output: MST with only node A\n"
   ]
  },
  {
   "cell_type": "code",
   "execution_count": null,
   "id": "d12c8ee2",
   "metadata": {},
   "outputs": [
    {
     "name": "stderr",
     "output_type": "stream",
     "text": [
      "test_empty_graph (__main__.TestPrimAlgorithm.test_empty_graph) ... ok\n",
      "test_four_nodes_unique_MST (__main__.TestPrimAlgorithm.test_four_nodes_unique_MST) ... ok\n",
      "test_simple_graph (__main__.TestPrimAlgorithm.test_simple_graph) ... ok\n",
      "test_single_node_graph (__main__.TestPrimAlgorithm.test_single_node_graph) ... ok\n",
      "\n",
      "----------------------------------------------------------------------\n",
      "Ran 4 tests in 0.003s\n",
      "\n",
      "OK\n"
     ]
    },
    {
     "name": "stdout",
     "output_type": "stream",
     "text": [
      "Graph is empty\n",
      "Adding edge A B to MST\n",
      "Adding edge B C to MST\n",
      "Adding edge C D to MST\n",
      "Adding edge A B to MST\n",
      "Adding edge A C to MST\n",
      "Graph has only one vertex\n"
     ]
    },
    {
     "data": {
      "text/plain": [
       "<unittest.runner.TextTestResult run=4 errors=0 failures=0>"
      ]
     },
     "execution_count": 306,
     "metadata": {},
     "output_type": "execute_result"
    }
   ],
   "source": [
    "import unittest\n",
    "import queue\n",
    "\n",
    "class TestPrimAlgorithm(unittest.TestCase):\n",
    "\n",
    "    def test_simple_graph(self):\n",
    "        A = Node('A')\n",
    "        B = Node('B')\n",
    "        C = Node('C')\n",
    "        A.addOutNeighbor(B, 1)\n",
    "        A.addOutNeighbor(C, 2)\n",
    "        G = [A, B, C]\n",
    "        MST = prim(G, A)\n",
    "        self.assertEqual(len(MST), 3)\n",
    "        self.assertIn(A, MST)\n",
    "        self.assertIn(B, MST)\n",
    "        self.assertIn(C, MST)\n",
    "\n",
    "    def test_four_nodes_unique_MST(self):\n",
    "        A = Node('A')\n",
    "        B = Node('B')\n",
    "        C = Node('C')\n",
    "        D = Node('D')\n",
    "        A.addOutNeighbor(B, 2)\n",
    "        A.addOutNeighbor(C, 3)\n",
    "        B.addOutNeighbor(C, 1)\n",
    "        B.addOutNeighbor(D, 3)\n",
    "        C.addOutNeighbor(D, 2)\n",
    "        G = [A, B, C, D]\n",
    "        MST = prim(G, A)\n",
    "        self.assertEqual(len(MST), 4)\n",
    "        self.assertIn(A, MST)\n",
    "        self.assertIn(B, MST)\n",
    "        self.assertIn(C, MST)\n",
    "        self.assertIn(D, MST)\n",
    "\n",
    "    def test_empty_graph(self):\n",
    "        G = []\n",
    "        MST = prim(G, None)\n",
    "        self.assertIsNone(MST)\n",
    "\n",
    "    def test_single_node_graph(self):\n",
    "        A = Node('A')\n",
    "        G = [A]\n",
    "        MST = prim(G, A)\n",
    "        self.assertEqual(len(MST), 1)\n",
    "        self.assertIn(A, MST)\n",
    "\n",
    "\n",
    "# Create a test suite\n",
    "suite = unittest.TestLoader().loadTestsFromTestCase(TestPrimAlgorithm)\n",
    "\n",
    "# Run the test suite and print the results\n",
    "runner = unittest.TextTestRunner(verbosity=2)\n",
    "runner.run(suite)\n"
   ]
  },
  {
   "cell_type": "markdown",
   "id": "cc0f5215",
   "metadata": {},
   "source": [
    "***"
   ]
  }
 ],
 "metadata": {
  "kernelspec": {
   "display_name": "Python 3 (ipykernel)",
   "language": "python",
   "name": "python3"
  },
  "language_info": {
   "codemirror_mode": {
    "name": "ipython",
    "version": 3
   },
   "file_extension": ".py",
   "mimetype": "text/x-python",
   "name": "python",
   "nbconvert_exporter": "python",
   "pygments_lexer": "ipython3",
   "version": "3.11.3"
  }
 },
 "nbformat": 4,
 "nbformat_minor": 5
}
