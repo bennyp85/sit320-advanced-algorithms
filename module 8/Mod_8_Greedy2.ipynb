{
 "cells": [
  {
   "cell_type": "markdown",
   "id": "imposed-playlist",
   "metadata": {},
   "source": [
    "# Lab 8: Greedy Algorithms"
   ]
  },
  {
   "cell_type": "markdown",
   "id": "d97cce87",
   "metadata": {},
   "source": [
    "Lab associated with Module 8: Greedy Algorithms"
   ]
  },
  {
   "cell_type": "markdown",
   "id": "5c7f2e9d",
   "metadata": {},
   "source": [
    "***"
   ]
  },
  {
   "cell_type": "code",
   "execution_count": 65,
   "id": "5b495ad0",
   "metadata": {},
   "outputs": [
    {
     "name": "stderr",
     "output_type": "stream",
     "text": [
      "C:\\Users\\benny\\AppData\\Local\\Temp\\ipykernel_57508\\1945220536.py:2: DeprecationWarning: Importing display from IPython.core.display is deprecated since IPython 7.14, please import from IPython display\n",
      "  from IPython.core.display import display, HTML\n"
     ]
    },
    {
     "data": {
      "text/html": [
       "<style>.container { width:95% !important; }</style>"
      ],
      "text/plain": [
       "<IPython.core.display.HTML object>"
      ]
     },
     "metadata": {},
     "output_type": "display_data"
    }
   ],
   "source": [
    "# The following lines are used to increase the width of cells to utilize more space on the screen \n",
    "from IPython.core.display import display, HTML\n",
    "display(HTML(\"<style>.container { width:95% !important; }</style>\"))"
   ]
  },
  {
   "cell_type": "markdown",
   "id": "3a2b855c",
   "metadata": {},
   "source": [
    "***"
   ]
  },
  {
   "cell_type": "markdown",
   "id": "9d0921a0",
   "metadata": {},
   "source": [
    "### Section 0: Imports"
   ]
  },
  {
   "cell_type": "code",
   "execution_count": 66,
   "id": "477622d5",
   "metadata": {},
   "outputs": [],
   "source": [
    "import numpy as np"
   ]
  },
  {
   "cell_type": "code",
   "execution_count": 67,
   "id": "50fb5ed5",
   "metadata": {},
   "outputs": [],
   "source": [
    "import math"
   ]
  },
  {
   "cell_type": "code",
   "execution_count": 68,
   "id": "9910ee06",
   "metadata": {},
   "outputs": [],
   "source": [
    "from IPython.display import Image\n",
    "from graphviz import Digraph"
   ]
  },
  {
   "cell_type": "markdown",
   "id": "7f9321f8",
   "metadata": {},
   "source": [
    "***"
   ]
  },
  {
   "cell_type": "markdown",
   "id": "f9b31a04",
   "metadata": {},
   "source": [
    "### <font color='red'> Activity 1a: Write a greedy algorithm for Activity Selection problem in this week's lab. </font>"
   ]
  },
  {
   "cell_type": "markdown",
   "id": "db36bdaf",
   "metadata": {},
   "source": [
    "![Union is appending](Union-is-appending.png)"
   ]
  },
  {
   "cell_type": "markdown",
   "id": "14d86f48",
   "metadata": {},
   "source": [
    "### Realised that Union is Appending to the list, not adding to the set"
   ]
  },
  {
   "cell_type": "code",
   "execution_count": 82,
   "id": "8d176b03",
   "metadata": {},
   "outputs": [],
   "source": [
    "# activity selection algorithm\n",
    "# activites a1, a2 ... an\n",
    "# start time s1, s2 ... sn\n",
    "# finish time f1, f2 ... fn\n",
    "# we have to do n activities and each activity has to be started at a specified time and finished at specified time\n",
    "# if the activities overlap, can we devise an algorithm to come-up with an order on the activities to do as many activities as possible\n",
    "# The question is which activities should we choose and which should we skip\n",
    "# sorted finish time is O(n) otherwise O(nlogn)\n",
    "# each step is locally optimal\n",
    "\n",
    "def greedyActivitySelection(activites):\n",
    "    if len(activites) == 0:\n",
    "        return []\n",
    "    sortedActivities = sorted(activites, key=lambda x: x[1])\n",
    "    selectedActivities = [sortedActivities[0]]\n",
    "    for i in range(1, len(sortedActivities)):\n",
    "        if sortedActivities[i][0] >= selectedActivities[-1][1]:\n",
    "            selectedActivities.append(sortedActivities[i])\n",
    "    return selectedActivities\n",
    "\n",
    "\n",
    "\n",
    "\n",
    "\n",
    "\n",
    "\n"
   ]
  },
  {
   "cell_type": "code",
   "execution_count": 83,
   "id": "e17d0c6d",
   "metadata": {},
   "outputs": [
    {
     "name": "stderr",
     "output_type": "stream",
     "text": [
      "F....\n",
      "======================================================================\n",
      "FAIL: test_all_activities_overlap (__main__.TestGreedyActivitySelection.test_all_activities_overlap)\n",
      "----------------------------------------------------------------------\n",
      "Traceback (most recent call last):\n",
      "  File \"C:\\Users\\benny\\AppData\\Local\\Temp\\ipykernel_57508\\2810846043.py\", line 33, in test_all_activities_overlap\n",
      "    self.assertEqual(len(result), expected_output)\n",
      "AssertionError: 2 != [(1, 5)]\n",
      "\n",
      "----------------------------------------------------------------------\n",
      "Ran 5 tests in 0.002s\n",
      "\n",
      "FAILED (failures=1)\n"
     ]
    },
    {
     "name": "stdout",
     "output_type": "stream",
     "text": [
      "[(2, 4), (4, 7)]\n"
     ]
    },
    {
     "data": {
      "text/plain": [
       "<unittest.main.TestProgram at 0x19a434912d0>"
      ]
     },
     "execution_count": 83,
     "metadata": {},
     "output_type": "execute_result"
    }
   ],
   "source": [
    "import unittest\n",
    "\n",
    "class TestGreedyActivitySelection(unittest.TestCase):\n",
    "    \n",
    "    def test_empty_activities(self):\n",
    "        activities = []\n",
    "        expected_output = []\n",
    "        self.assertEqual(greedyActivitySelection(activities), expected_output)\n",
    "        \n",
    "    def test_single_activity(self):\n",
    "        activities = [(1, 2)]\n",
    "        expected_output = [(1, 2)]\n",
    "        self.assertEqual(greedyActivitySelection(activities), expected_output)\n",
    "        \n",
    "    def test_disjoint_activities(self):\n",
    "        activities = [(1, 2), (3, 4), (5, 6)]\n",
    "        expected_output = [(1, 2), (3, 4), (5, 6)]\n",
    "        self.assertEqual(greedyActivitySelection(activities), expected_output)\n",
    "        \n",
    "    def test_overlapping_activities(self):\n",
    "        activities = [(1, 3), (2, 4), (3, 5), (4, 6)]\n",
    "        expected_output_1 = [(1, 3), (3, 5)]\n",
    "        expected_output_2 = [(2, 4), (4, 6)]\n",
    "        result = greedyActivitySelection(activities)\n",
    "        self.assertTrue(result in [expected_output_1, expected_output_2])\n",
    "\n",
    "unittest.main(argv=[''], exit=False)"
   ]
  },
  {
   "cell_type": "code",
   "execution_count": 77,
   "id": "55b3a75e",
   "metadata": {},
   "outputs": [
    {
     "name": "stdout",
     "output_type": "stream",
     "text": [
      "Solution:\n",
      "[1, 4]\n",
      "[5, 7]\n",
      "[8, 10]\n",
      "[13, 15]\n"
     ]
    }
   ],
   "source": [
    "activities = [  [1,4],[2,5],[3,6],[5,7],[3,8],[6,9],[8,10],[9,11],[5,12],[6,13],[8,14],[13,15] ]\n",
    "\n",
    "activityList = greedyActivitySelection(activities)\n",
    "\n",
    "print(\"Solution:\")\n",
    "for activity in activityList:\n",
    "    print(activity)"
   ]
  },
  {
   "cell_type": "markdown",
   "id": "configured-swedish",
   "metadata": {},
   "source": [
    "### <font color='red'> Activity 1b: Devise a dynamic programming solution to Activity Selection problem, and see if you get the same results as that of greedy strategy. </font>"
   ]
  },
  {
   "cell_type": "code",
   "execution_count": 72,
   "id": "piano-programming",
   "metadata": {},
   "outputs": [],
   "source": [
    "#### TODO ####\n",
    "### Good Luck ###\n",
    "\n",
    "\n",
    "\n",
    "\n",
    "\n"
   ]
  },
  {
   "cell_type": "markdown",
   "id": "1cb9c687",
   "metadata": {},
   "source": [
    "Let us test above function as:"
   ]
  },
  {
   "cell_type": "code",
   "execution_count": 73,
   "id": "db5d80f4",
   "metadata": {},
   "outputs": [
    {
     "ename": "NameError",
     "evalue": "name 'dynamicProgrammingActivitySelection' is not defined",
     "output_type": "error",
     "traceback": [
      "\u001b[1;31m---------------------------------------------------------------------------\u001b[0m",
      "\u001b[1;31mNameError\u001b[0m                                 Traceback (most recent call last)",
      "Cell \u001b[1;32mIn[73], line 3\u001b[0m\n\u001b[0;32m      1\u001b[0m activities \u001b[39m=\u001b[39m [  [\u001b[39m1\u001b[39m,\u001b[39m4\u001b[39m],[\u001b[39m2\u001b[39m,\u001b[39m5\u001b[39m],[\u001b[39m3\u001b[39m,\u001b[39m6\u001b[39m],[\u001b[39m5\u001b[39m,\u001b[39m7\u001b[39m],[\u001b[39m3\u001b[39m,\u001b[39m8\u001b[39m],[\u001b[39m6\u001b[39m,\u001b[39m9\u001b[39m],[\u001b[39m8\u001b[39m,\u001b[39m10\u001b[39m],[\u001b[39m9\u001b[39m,\u001b[39m11\u001b[39m],[\u001b[39m5\u001b[39m,\u001b[39m12\u001b[39m],[\u001b[39m6\u001b[39m,\u001b[39m13\u001b[39m],[\u001b[39m8\u001b[39m,\u001b[39m14\u001b[39m],[\u001b[39m13\u001b[39m,\u001b[39m15\u001b[39m] ]\n\u001b[1;32m----> 3\u001b[0m activityList \u001b[39m=\u001b[39m dynamicProgrammingActivitySelection(activities)\n\u001b[0;32m      5\u001b[0m \u001b[39mprint\u001b[39m(\u001b[39m\"\u001b[39m\u001b[39mSolution:\u001b[39m\u001b[39m\"\u001b[39m)\n\u001b[0;32m      6\u001b[0m \u001b[39mfor\u001b[39;00m act \u001b[39min\u001b[39;00m activityList:\n",
      "\u001b[1;31mNameError\u001b[0m: name 'dynamicProgrammingActivitySelection' is not defined"
     ]
    }
   ],
   "source": [
    "activities = [  [1,4],[2,5],[3,6],[5,7],[3,8],[6,9],[8,10],[9,11],[5,12],[6,13],[8,14],[13,15] ]\n",
    "\n",
    "activityList = dynamicProgrammingActivitySelection(activities)\n",
    "\n",
    "print(\"Solution:\")\n",
    "for act in activityList:\n",
    "    print(activities[act])"
   ]
  },
  {
   "cell_type": "markdown",
   "id": "6570890e",
   "metadata": {},
   "source": [
    "***"
   ]
  },
  {
   "cell_type": "markdown",
   "id": "6e92fc09",
   "metadata": {},
   "source": [
    "###  Prim's Algorithm"
   ]
  },
  {
   "cell_type": "markdown",
   "id": "ce467019",
   "metadata": {},
   "source": [
    "Graph's Preliminaries"
   ]
  },
  {
   "cell_type": "code",
   "execution_count": null,
   "id": "4cdc7ece",
   "metadata": {},
   "outputs": [],
   "source": [
    "from graph import *"
   ]
  },
  {
   "cell_type": "code",
   "execution_count": null,
   "id": "a75ba3ec",
   "metadata": {},
   "outputs": [],
   "source": [
    "G = Graph()\n",
    "\n",
    "for i in ['A', 'B', 'C', 'D', 'E', 'F', 'G', 'H', 'I']:\n",
    "    G.addVertex( Node(i) )"
   ]
  },
  {
   "cell_type": "code",
   "execution_count": null,
   "id": "c990d75e",
   "metadata": {},
   "outputs": [],
   "source": [
    "V = G.vertices\n",
    "\n",
    "#0, 1, 2, 3, 4, 5, 6, 7, 8\n",
    "#A, B, C, D, E, F, G, H, I\n",
    "\n",
    "G.addBiEdge( V[0], V[1], 4)\n",
    "\n",
    "G.addBiEdge( V[0], V[7] , 8)\n",
    "\n",
    "G.addBiEdge( V[1], V[7], 11)\n",
    "\n",
    "G.addBiEdge( V[1], V[2], 8)\n",
    "\n",
    "G.addBiEdge( V[2], V[3], 7)\n",
    "\n",
    "G.addBiEdge( V[3], V[4], 9)\n",
    "\n",
    "G.addBiEdge( V[3], V[5], 14 )\n",
    "\n",
    "G.addBiEdge( V[4], V[5], 10 )\n",
    "\n",
    "G.addBiEdge( V[2], V[5], 4 )\n",
    "\n",
    "G.addBiEdge( V[2], V[8], 2 )\n",
    "\n",
    "G.addBiEdge( V[5], V[6], 2 )\n",
    "\n",
    "G.addBiEdge( V[6], V[7], 1 )\n",
    "\n",
    "G.addBiEdge( V[6], V[8], 6 )\n",
    "\n",
    "G.addBiEdge( V[7], V[8], 7 )\n"
   ]
  },
  {
   "cell_type": "code",
   "execution_count": null,
   "id": "2ac81f26",
   "metadata": {},
   "outputs": [],
   "source": [
    "print(G)"
   ]
  },
  {
   "cell_type": "markdown",
   "id": "10941ad1",
   "metadata": {},
   "source": [
    "This is what we had in the lectures as the slow implementation of Prim's Algorithm"
   ]
  },
  {
   "cell_type": "code",
   "execution_count": null,
   "id": "c75594c0",
   "metadata": {},
   "outputs": [],
   "source": [
    "# G is graph\n",
    "# s is the node to start\n",
    "\n",
    "def slowPrim(G, s):\n",
    "    \n",
    "    # first, find the lightest edge leaving s\n",
    "    bestWt = np.inf\n",
    "    bestu = None\n",
    "    \n",
    "    for u,wt in s.getOutNeighborsWithWeights():\n",
    "        \n",
    "        if wt < bestWt:\n",
    "            bestWt = wt\n",
    "            bestu = u\n",
    "    \n",
    "    MST = [ (s, bestu) ]\n",
    "    verticesVisited = [s,bestu]\n",
    "    \n",
    "    while len(verticesVisited) < len(G.vertices): # danger! this will loop forever if the graph isn't connected...\n",
    "        \n",
    "        # find the lightest edge (x,v) so that x has been visited and v hasn't.\n",
    "        bestWt = np.inf\n",
    "        bestv = None\n",
    "        bestx = None\n",
    "        \n",
    "        for x in verticesVisited:\n",
    "            for v,wt in x.getOutNeighborsWithWeights():\n",
    "                \n",
    "                if v in verticesVisited:\n",
    "                    continue\n",
    "                \n",
    "                if wt < bestWt:\n",
    "                    bestWt = wt\n",
    "                    bestv = v\n",
    "                    bestx = x\n",
    "                    \n",
    "        MST.append((bestx,bestv))\n",
    "        verticesVisited.append(bestv)\n",
    "    \n",
    "    return MST"
   ]
  },
  {
   "cell_type": "code",
   "execution_count": null,
   "id": "f6ff20d2",
   "metadata": {},
   "outputs": [],
   "source": [
    "T = slowPrim(G, G.vertices[0])\n",
    "\n",
    "for x,y in T:\n",
    "    print(x,y)"
   ]
  },
  {
   "cell_type": "markdown",
   "id": "3f2b31e2",
   "metadata": {},
   "source": [
    "Okay, it seems to be working fine, but as we discussed, will be quite slow. Let us see if we can work on the faster version of the code as:"
   ]
  },
  {
   "cell_type": "markdown",
   "id": "42212e3d",
   "metadata": {},
   "source": [
    "### <font color='red'> Activity 2: In lights of Prim's Algorithm above, write an efficient implementation based on our discussions in the Seminar/Lecture. </font>"
   ]
  },
  {
   "cell_type": "code",
   "execution_count": null,
   "id": "e32585d1",
   "metadata": {},
   "outputs": [],
   "source": [
    "def prim(G,w):\n",
    "    \n",
    "    #### TODO ####\n",
    "    ### Good Luck ###\n",
    "                    \n",
    "    return MST"
   ]
  },
  {
   "cell_type": "code",
   "execution_count": null,
   "id": "e6c07571",
   "metadata": {},
   "outputs": [],
   "source": [
    "T = prim(G, G.vertices[0])\n",
    "\n",
    "for x,y in T:\n",
    "    print(x,y)"
   ]
  },
  {
   "cell_type": "markdown",
   "id": "cc0f5215",
   "metadata": {},
   "source": [
    "***"
   ]
  }
 ],
 "metadata": {
  "kernelspec": {
   "display_name": "Python 3 (ipykernel)",
   "language": "python",
   "name": "python3"
  },
  "language_info": {
   "codemirror_mode": {
    "name": "ipython",
    "version": 3
   },
   "file_extension": ".py",
   "mimetype": "text/x-python",
   "name": "python",
   "nbconvert_exporter": "python",
   "pygments_lexer": "ipython3",
   "version": "3.11.3"
  }
 },
 "nbformat": 4,
 "nbformat_minor": 5
}
