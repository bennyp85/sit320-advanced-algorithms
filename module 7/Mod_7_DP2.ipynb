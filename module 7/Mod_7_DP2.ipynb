{
 "cells": [
  {
   "cell_type": "markdown",
   "id": "complex-ideal",
   "metadata": {},
   "source": [
    "# Lab 7: Dynamic Programming"
   ]
  },
  {
   "cell_type": "markdown",
   "id": "dynamic-hearing",
   "metadata": {},
   "source": [
    "Lab associated with Module 7: Dynamic Programming"
   ]
  },
  {
   "cell_type": "markdown",
   "id": "reliable-thomson",
   "metadata": {},
   "source": [
    "***"
   ]
  },
  {
   "cell_type": "code",
   "execution_count": 4,
   "id": "unknown-effort",
   "metadata": {},
   "outputs": [
    {
     "name": "stderr",
     "output_type": "stream",
     "text": [
      "C:\\Users\\benny\\AppData\\Local\\Temp\\ipykernel_43592\\1945220536.py:2: DeprecationWarning: Importing display from IPython.core.display is deprecated since IPython 7.14, please import from IPython display\n",
      "  from IPython.core.display import display, HTML\n"
     ]
    },
    {
     "data": {
      "text/html": [
       "<style>.container { width:95% !important; }</style>"
      ],
      "text/plain": [
       "<IPython.core.display.HTML object>"
      ]
     },
     "metadata": {},
     "output_type": "display_data"
    }
   ],
   "source": [
    "# The following lines are used to increase the width of cells to utilize more space on the screen \n",
    "from IPython.core.display import display, HTML\n",
    "display(HTML(\"<style>.container { width:95% !important; }</style>\"))"
   ]
  },
  {
   "cell_type": "markdown",
   "id": "civilian-racing",
   "metadata": {},
   "source": [
    "***"
   ]
  },
  {
   "cell_type": "markdown",
   "id": "moving-violence",
   "metadata": {},
   "source": [
    "### Section 0: Imports"
   ]
  },
  {
   "cell_type": "code",
   "execution_count": 5,
   "id": "familiar-letters",
   "metadata": {},
   "outputs": [],
   "source": [
    "import numpy as np"
   ]
  },
  {
   "cell_type": "code",
   "execution_count": 6,
   "id": "recovered-literacy",
   "metadata": {},
   "outputs": [],
   "source": [
    "import math"
   ]
  },
  {
   "cell_type": "code",
   "execution_count": 7,
   "id": "multiple-chair",
   "metadata": {},
   "outputs": [],
   "source": [
    "from IPython.display import Image\n",
    "from graphviz import Digraph"
   ]
  },
  {
   "cell_type": "markdown",
   "id": "hungarian-sentence",
   "metadata": {},
   "source": [
    "Details of Digraph package: https://h1ros.github.io/posts/introduction-to-graphviz-in-jupyter-notebook/"
   ]
  },
  {
   "cell_type": "markdown",
   "id": "anonymous-sphere",
   "metadata": {},
   "source": [
    "***"
   ]
  },
  {
   "cell_type": "markdown",
   "id": "ede7f680",
   "metadata": {},
   "source": [
    "### <font color='red'> Activity 1: You are running up a staircase with a total of n steps. You can hop either 1 step, 2 steps or 3 steps at at time. Write a DP program to determine how many possible ways you can run up the stairs? (Hint: Start with a recursive solution, and then later move to top-down approach of DP). </font>"
   ]
  },
  {
   "cell_type": "code",
   "execution_count": 20,
   "id": "f7d274a8",
   "metadata": {},
   "outputs": [
    {
     "name": "stdout",
     "output_type": "stream",
     "text": [
      "44\n",
      "44\n",
      "[0, 0, 0]\n"
     ]
    }
   ],
   "source": [
    "def Recursive_Stairs(n):\n",
    "    if n < 0:\n",
    "        return 0\n",
    "    elif n == 0:\n",
    "        return 1\n",
    "    else:\n",
    "        return Recursive_Stairs(n-1) + Recursive_Stairs(n-2) + Recursive_Stairs(n-3)\n",
    "\n",
    "print(Recursive_Stairs(7))\n",
    "\n",
    "def Memo_Stairs(n):\n",
    "    memo = [0] * (n+1)\n",
    "    return Memo_Stairs_Helper(n, memo)\n",
    "\n",
    "def Memo_Stairs_Helper(n, memo):\n",
    "    if n < 0:\n",
    "        return 0\n",
    "    elif n == 0:\n",
    "        return 1\n",
    "    elif memo[n] > 0:\n",
    "        return memo[n]\n",
    "    else:\n",
    "        memo[n] = Memo_Stairs_Helper(n-1, memo) + Memo_Stairs_Helper(n-2, memo) + Memo_Stairs_Helper(n-3, memo)\n",
    "        return memo[n]\n",
    "\n",
    "print(Memo_Stairs(7))"
   ]
  },
  {
   "cell_type": "markdown",
   "id": "fiscal-video",
   "metadata": {},
   "source": [
    "### <font color='red'> Activity 2: Write the code for finding the Longest Common Sub-sequence. Make sure you output the Matrix C and teh longest sub-sequence as well. Test your code with various use-cases. </font>"
   ]
  },
  {
   "cell_type": "code",
   "execution_count": 9,
   "id": "developed-pharmacy",
   "metadata": {},
   "outputs": [],
   "source": [
    "### TODO ###\n",
    "### Good Luck ###\n",
    "\n",
    "\n",
    "\n",
    "\n",
    "\n"
   ]
  },
  {
   "cell_type": "markdown",
   "id": "subject-annual",
   "metadata": {},
   "source": [
    "***"
   ]
  },
  {
   "cell_type": "markdown",
   "id": "enormous-bishop",
   "metadata": {},
   "source": [
    "### Section 2: Unbounded Knapsack Problem"
   ]
  },
  {
   "cell_type": "markdown",
   "id": "grand-decision",
   "metadata": {},
   "source": [
    "Let us build a solution to unbounded Knapsack problem."
   ]
  },
  {
   "cell_type": "code",
   "execution_count": 10,
   "id": "connected-sustainability",
   "metadata": {},
   "outputs": [],
   "source": [
    "def unboundedKnapsack(W, n, wt, vals, names):\n",
    " \n",
    "    K = [0 for _ in range(W + 1)]\n",
    "    ITEMS = [[] for _ in range(W + 1)]\n",
    "\n",
    "    for x in range(1, W + 1):\n",
    "        K[x] = 0\n",
    "        for i in range(1, n):\n",
    "\n",
    "            prev_k = K[x]\n",
    "\n",
    "            if (wt[i] <= x):\n",
    "                K[x] = max(K[x], K[x - wt[i]] + vals[i])\n",
    "\n",
    "            if K[x] != prev_k:\n",
    "                ITEMS[x] = ITEMS[x - wt[i]] + names[i]\n",
    "\n",
    "\n",
    "    return K[W], ITEMS[W]"
   ]
  },
  {
   "cell_type": "code",
   "execution_count": 12,
   "id": "tropical-catalyst",
   "metadata": {},
   "outputs": [
    {
     "name": "stdout",
     "output_type": "stream",
     "text": [
      "We have 3 items\n"
     ]
    }
   ],
   "source": [
    "W = 4\n",
    "wt = [1, 2, 3]\n",
    "vals = [1, 4, 6]\n",
    "names = [[\"Turtle\"], [\"Globe\"], [\"WaterMelon\"]]\n",
    "\n",
    "n = len(wt)\n",
    "\n",
    "print(f'We have {n} items')                "
   ]
  },
  {
   "cell_type": "code",
   "execution_count": 13,
   "id": "noble-wayne",
   "metadata": {},
   "outputs": [],
   "source": [
    "K, ITEMS = unboundedKnapsack(W, n, wt, vals, names)"
   ]
  },
  {
   "cell_type": "code",
   "execution_count": 14,
   "id": "english-property",
   "metadata": {},
   "outputs": [
    {
     "data": {
      "text/plain": [
       "['Globe', 'Globe']"
      ]
     },
     "execution_count": 14,
     "metadata": {},
     "output_type": "execute_result"
    }
   ],
   "source": [
    "ITEMS"
   ]
  },
  {
   "cell_type": "code",
   "execution_count": null,
   "id": "moderate-orbit",
   "metadata": {},
   "outputs": [],
   "source": [
    "\n",
    "\n",
    "\n",
    "\n",
    "\n",
    "\n"
   ]
  },
  {
   "cell_type": "markdown",
   "id": "divine-glossary",
   "metadata": {},
   "source": [
    "***"
   ]
  },
  {
   "cell_type": "markdown",
   "id": "eb2033b6",
   "metadata": {},
   "source": [
    "### <font color='red'> Activity 3: In the earlier activity, you analysed the code for unbounded knapsack. Based on the algorithm discussed in this section, implement a solution to do 0/1 Knapsack. Make sure you test your algorithms for various test-cases. </font>"
   ]
  },
  {
   "cell_type": "code",
   "execution_count": null,
   "id": "floral-reggae",
   "metadata": {},
   "outputs": [],
   "source": [
    "#### TODO ####\n",
    "### Good Luck ###\n",
    "\n",
    "\n",
    "\n",
    "\n",
    "\n",
    "\n",
    "\n"
   ]
  },
  {
   "cell_type": "markdown",
   "id": "asian-garbage",
   "metadata": {},
   "source": [
    "Class Room Test-case"
   ]
  },
  {
   "cell_type": "code",
   "execution_count": null,
   "id": "earned-sierra",
   "metadata": {},
   "outputs": [],
   "source": [
    "W = 10\n",
    "V = [20, 8, 14, 13, 35]\n",
    "w = [6, 2, 4, 3, 11]\n",
    "\n",
    "n = len(V)\n",
    "\n",
    "print(f'We have {n} items')   "
   ]
  },
  {
   "cell_type": "code",
   "execution_count": null,
   "id": "periodic-absolute",
   "metadata": {},
   "outputs": [],
   "source": []
  },
  {
   "cell_type": "markdown",
   "id": "emerging-green",
   "metadata": {},
   "source": [
    "***"
   ]
  }
 ],
 "metadata": {
  "kernelspec": {
   "display_name": "Python 3 (ipykernel)",
   "language": "python",
   "name": "python3"
  },
  "language_info": {
   "codemirror_mode": {
    "name": "ipython",
    "version": 3
   },
   "file_extension": ".py",
   "mimetype": "text/x-python",
   "name": "python",
   "nbconvert_exporter": "python",
   "pygments_lexer": "ipython3",
   "version": "3.11.3"
  }
 },
 "nbformat": 4,
 "nbformat_minor": 5
}
