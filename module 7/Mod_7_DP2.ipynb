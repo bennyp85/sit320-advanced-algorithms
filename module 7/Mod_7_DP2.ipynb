{
 "cells": [
  {
   "cell_type": "markdown",
   "id": "complex-ideal",
   "metadata": {},
   "source": [
    "# Lab 7: Dynamic Programming"
   ]
  },
  {
   "cell_type": "markdown",
   "id": "dynamic-hearing",
   "metadata": {},
   "source": [
    "Lab associated with Module 7: Dynamic Programming"
   ]
  },
  {
   "cell_type": "markdown",
   "id": "reliable-thomson",
   "metadata": {},
   "source": [
    "***"
   ]
  },
  {
   "cell_type": "code",
   "execution_count": 13,
   "id": "unknown-effort",
   "metadata": {},
   "outputs": [
    {
     "name": "stderr",
     "output_type": "stream",
     "text": [
      "C:\\Users\\benny\\AppData\\Local\\Temp\\ipykernel_31916\\1945220536.py:2: DeprecationWarning: Importing display from IPython.core.display is deprecated since IPython 7.14, please import from IPython display\n",
      "  from IPython.core.display import display, HTML\n"
     ]
    },
    {
     "data": {
      "text/html": [
       "<style>.container { width:95% !important; }</style>"
      ],
      "text/plain": [
       "<IPython.core.display.HTML object>"
      ]
     },
     "metadata": {},
     "output_type": "display_data"
    }
   ],
   "source": [
    "# The following lines are used to increase the width of cells to utilize more space on the screen \n",
    "from IPython.core.display import display, HTML\n",
    "display(HTML(\"<style>.container { width:95% !important; }</style>\"))"
   ]
  },
  {
   "cell_type": "markdown",
   "id": "civilian-racing",
   "metadata": {},
   "source": [
    "***"
   ]
  },
  {
   "cell_type": "markdown",
   "id": "moving-violence",
   "metadata": {},
   "source": [
    "### Section 0: Imports"
   ]
  },
  {
   "cell_type": "code",
   "execution_count": 14,
   "id": "familiar-letters",
   "metadata": {},
   "outputs": [],
   "source": [
    "import numpy as np"
   ]
  },
  {
   "cell_type": "code",
   "execution_count": 15,
   "id": "recovered-literacy",
   "metadata": {},
   "outputs": [],
   "source": [
    "import math"
   ]
  },
  {
   "cell_type": "code",
   "execution_count": 16,
   "id": "multiple-chair",
   "metadata": {},
   "outputs": [],
   "source": [
    "from IPython.display import Image\n",
    "from graphviz import Digraph"
   ]
  },
  {
   "cell_type": "markdown",
   "id": "hungarian-sentence",
   "metadata": {},
   "source": [
    "Details of Digraph package: https://h1ros.github.io/posts/introduction-to-graphviz-in-jupyter-notebook/"
   ]
  },
  {
   "cell_type": "markdown",
   "id": "anonymous-sphere",
   "metadata": {},
   "source": [
    "***"
   ]
  },
  {
   "cell_type": "markdown",
   "id": "ede7f680",
   "metadata": {},
   "source": [
    "### <font color='red'> Activity 1: You are running up a staircase with a total of n steps. You can hop either 1 step, 2 steps or 3 steps at at time. Write a DP program to determine how many possible ways you can run up the stairs? (Hint: Start with a recursive solution, and then later move to top-down approach of DP). </font>\n",
    "\n",
    "### Solution: The recurrance relationship effectively solves the problem(sub-problem) for the last step. The number of ways to reach the last step is the sum of the number of ways to reach the last 3 steps. The base cases are the number of ways to reach the first 3 steps.\n",
    "### We only look upto n-3 solutions because we are only allowed to hop at most 3 stgeps at a time.\n",
    "\n",
    "### Complexity for the recursive solution is O(3^n) because we are calling the function 3 times for each step.\n",
    "### Complexity for the DP solution is O(n) because we are only calling the function n times."
   ]
  },
  {
   "cell_type": "code",
   "execution_count": 9,
   "id": "f7d274a8",
   "metadata": {},
   "outputs": [
    {
     "name": "stdout",
     "output_type": "stream",
     "text": [
      "\n",
      "Recursive Test 20 steps\n",
      "121415\n",
      "Time:  0.018002986907958984\n",
      "\n",
      "Recursive Test 30 steps\n",
      "53798080\n",
      "Time:  8.13035535812378\n",
      "\n",
      "Recursive Test 32 step\n",
      "181997601\n",
      "Time:  27.476238012313843\n",
      "\n",
      "Memoization Test 20 steps\n",
      "121415\n",
      "Time:  0.0010020732879638672\n",
      "\n",
      "Memoization Test 30 steps\n",
      "53798080\n",
      "Time:  0.20764422416687012\n",
      "\n",
      "Memoization Test 32 steps\n",
      "181997601\n",
      "Time:  0.6901979446411133\n"
     ]
    },
    {
     "data": {
      "text/plain": [
       "[<matplotlib.lines.Line2D at 0x25452bb2610>]"
      ]
     },
     "execution_count": 9,
     "metadata": {},
     "output_type": "execute_result"
    },
    {
     "data": {
      "image/png": "[encoded data removed]",
      "text/plain": [
       "<Figure size 640x480 with 1 Axes>"
      ]
     },
     "metadata": {},
     "output_type": "display_data"
    }
   ],
   "source": [
    "# import time\n",
    "from time import time\n",
    "\n",
    "def Recursive_Stairs(n):\n",
    "    \"\"\"Recursive version of Stairs. No Memoization\"\"\"\n",
    "    \"\"\"Args: n: number of stairs\"\"\"\n",
    "    \"\"\"Returns: number of ways to climb n stairs\"\"\"\n",
    "\n",
    "    # Base cases\n",
    "    if n < 0:\n",
    "        return 0\n",
    "    elif n == 0:\n",
    "        return 1\n",
    "    else:\n",
    "        # Recursively call the function\n",
    "        return Recursive_Stairs(n-1) + Recursive_Stairs(n-2) + Recursive_Stairs(n-3)\n",
    "\n",
    "print(\"\\nRecursive Test 20 steps\")\n",
    "# start time\n",
    "start1 = time()\n",
    "print(Recursive_Stairs(20))\n",
    "# end time\n",
    "end1 = time()\n",
    "print(\"Time: \", end1 - start1)\n",
    "print(\"\\nRecursive Test 30 steps\")\n",
    "# start time\n",
    "start2 = time()\n",
    "print(Recursive_Stairs(30))\n",
    "# end time\n",
    "end2 = time()\n",
    "print(\"Time: \", end2 - start2)\n",
    "print(\"\\nRecursive Test 32 step\")\n",
    "# start time\n",
    "start3 = time()\n",
    "print(Recursive_Stairs(32))\n",
    "# end time\n",
    "end3 = time()\n",
    "print(\"Time: \", end3 - start3)\n",
    "\n",
    "\n",
    "def Memo_Stairs(n):\n",
    "    \"\"\"Memoization version of Recursive_Stairs\"\"\"\n",
    "    \"\"\"Args: n: number of stairs\"\"\"\n",
    "    \"\"\"Returns: number of ways to climb n stairs\"\"\"\n",
    "\n",
    "    # Create a memo list\n",
    "    memo = [0] * (n+1)\n",
    "    return Memo_Stairs_Helper(n, memo)\n",
    "\n",
    "def Memo_Stairs_Helper(n, memo):\n",
    "    \"\"\"Helper function for Memo_Stairs\"\"\"\n",
    "    \"\"\"Args: n: number of stairs\"\"\"\n",
    "    \"\"\"Retruns: memo: list of memoized values\"\"\"\n",
    "    # Base cases\n",
    "    if n < 0:\n",
    "        return 0\n",
    "    elif n == 0:\n",
    "        return 1\n",
    "    # If the value is already in the memo, return it\n",
    "    elif n in memo:\n",
    "        return memo[n]\n",
    "    else:\n",
    "        # Recursively call the helper function\n",
    "        # Add the result to the memo\n",
    "        memo[n] = Memo_Stairs_Helper(n-1, memo) + Memo_Stairs_Helper(n-2, memo) + Memo_Stairs_Helper(n-3, memo)\n",
    "        return memo[n]\n",
    "\n",
    "print(\"\\nMemoization Test 20 steps\")\n",
    "start4 = time()\n",
    "print(Memo_Stairs(20))\n",
    "end4 = time()\n",
    "print(\"Time: \", end4 - start4)\n",
    "print(\"\\nMemoization Test 30 steps\")\n",
    "start5 = time()\n",
    "print(Memo_Stairs(30))\n",
    "end5 = time()\n",
    "print(\"Time: \", end5 - start5)\n",
    "print(\"\\nMemoization Test 32 steps\")\n",
    "start6 = time()\n",
    "print(Memo_Stairs(32))\n",
    "end6 = time()\n",
    "print(\"Time: \", end6 - start6)\n",
    "\n",
    "# plot the time difference between the two functions\n",
    "from matplotlib import pyplot as plt\n",
    "# x axis is the number of steps\n",
    "# y axis is the time\n",
    "plot_x = [20, 30, 32]\n",
    "plot_y1 = [end1 - start1, end2 - start2, end3 - start3]\n",
    "plot_y2 = [end4 - start4, end5 - start5, end6 - start6]\n",
    "plt.plot(plot_x, plot_y1, label = \"Recursive\")  \n",
    "plt.plot(plot_x, plot_y2, label = \"Memoization\")"
   ]
  },
  {
   "cell_type": "markdown",
   "id": "fiscal-video",
   "metadata": {},
   "source": [
    "### <font color='red'> Activity 2: Write the code for finding the Longest Common Sub-sequence. Make sure you output the Matrix C and the longest sub-sequence as well. Test your code with various use-cases. </font>"
   ]
  },
  {
   "cell_type": "markdown",
   "id": "b6a66e00",
   "metadata": {},
   "source": [
    "![Recursive Formula](recursive-formula.png)"
   ]
  },
  {
   "cell_type": "markdown",
   "id": "00724fcc",
   "metadata": {},
   "source": [
    "### Complexity for the Longest Common Subsequence is O(mn) because we are iterating through the entire matrix."
   ]
  },
  {
   "cell_type": "code",
   "execution_count": 18,
   "id": "developed-pharmacy",
   "metadata": {},
   "outputs": [],
   "source": [
    "import itertools\n",
    "def Longest_SS(X, Y):\n",
    "    \"\"\"Longest subsequence of X and Y\"\"\"\n",
    "    \"\"\"Args: X and Y are strings\"\"\"\n",
    "    \"\"\"Returns: the longest subsequence of X and Y\"\"\"\n",
    "\n",
    "    # Initialize the matrix to the length of the strings\n",
    "    C = [[0 for _ in range(len(Y)+1)] for _ in range(len(X)+1)]\n",
    "    # Initialize the first row and column to 0\n",
    "    for i in range(len(X)+1):\n",
    "        C[i][0] = 0\n",
    "    for j in range(len(Y)+1):\n",
    "        C[0][j] = 0\n",
    "\n",
    "    # Recursive solution\n",
    "    for i, j in itertools.product(range(1, len(X)+1), range(1, len(Y)+1)):\n",
    "        # Either update the matrix or choose from a value that we have already computed\n",
    "        C[i][j] = C[i-1][j-1] + 1 if X[i-1] == Y[j-1] else max(C[i-1][j], C[i][j-1])\n",
    "    \n",
    "    # Backtrack to find the subsequence\n",
    "    # Start at the bottom right corner of the matrix\n",
    "    i, j = len(X), len(Y)\n",
    "    subseq = []\n",
    "    while i > 0 and j > 0:\n",
    "        # Move diagonally if the characters match\n",
    "        if X[i-1] == Y[j-1]:\n",
    "            subseq.append(X[i-1])\n",
    "            i -= 1\n",
    "            j -= 1\n",
    "        # Otherwise, move in the direction of the larger value\n",
    "        elif C[i-1][j] > C[i][j-1]:\n",
    "            i -= 1\n",
    "        else:\n",
    "            j -= 1\n",
    "\n",
    "    print(''.join(reversed(subseq)))\n",
    "\n",
    "    for row in C:\n",
    "        print(row)\n",
    "\n",
    "    return ''.join(reversed(subseq))"
   ]
  },
  {
   "cell_type": "code",
   "execution_count": 19,
   "id": "5b163ceb",
   "metadata": {},
   "outputs": [
    {
     "name": "stderr",
     "output_type": "stream",
     "text": [
      "test_Longest_SS (__main__.TestLongestSS.test_Longest_SS) ... ok\n",
      "\n",
      "----------------------------------------------------------------------\n",
      "Ran 1 test in 0.001s\n",
      "\n",
      "OK\n"
     ]
    },
    {
     "name": "stdout",
     "output_type": "stream",
     "text": [
      "\n",
      "Test case 1: X and Y have no common subsequence\n",
      "\n",
      "[0, 0, 0, 0]\n",
      "[0, 0, 0, 0]\n",
      "[0, 0, 0, 0]\n",
      "[0, 0, 0, 0]\n",
      "\n",
      "Test case 2: X and Y have a common subsequence of length 2\n",
      "BC\n",
      "[0, 0, 0, 0]\n",
      "[0, 0, 0, 0]\n",
      "[0, 1, 1, 1]\n",
      "[0, 1, 2, 2]\n",
      "\n",
      "Test case 3: X and Y have a common subsequence of length 4\n",
      "BDAB\n",
      "[0, 0, 0, 0, 0, 0]\n",
      "[0, 0, 0, 0, 1, 1]\n",
      "[0, 1, 1, 1, 1, 2]\n",
      "[0, 1, 1, 2, 2, 2]\n",
      "[0, 1, 1, 2, 2, 3]\n",
      "[0, 1, 2, 2, 2, 3]\n",
      "[0, 1, 2, 2, 3, 3]\n",
      "[0, 1, 2, 2, 3, 4]\n",
      "\n",
      "Test case 4: X and Y are identical and have a comm length 3\n",
      "ABC\n",
      "[0, 0, 0, 0]\n",
      "[0, 1, 1, 1]\n",
      "[0, 1, 2, 2]\n",
      "[0, 1, 2, 3]\n",
      "\n",
      "Test case 5: X and Y have different lengths and the subsequence has length 3\n",
      "ABC\n",
      "[0, 0, 0, 0, 0]\n",
      "[0, 1, 1, 1, 1]\n",
      "[0, 1, 2, 2, 2]\n",
      "[0, 1, 2, 3, 3]\n"
     ]
    },
    {
     "data": {
      "text/plain": [
       "<unittest.runner.TextTestResult run=1 errors=0 failures=0>"
      ]
     },
     "execution_count": 19,
     "metadata": {},
     "output_type": "execute_result"
    }
   ],
   "source": [
    "import unittest\n",
    "\n",
    "class TestLongestSS(unittest.TestCase):\n",
    "    def test_Longest_SS(self):\n",
    "        # Test case 1: X and Y have no common subsequence\n",
    "        X = \"ABC\"\n",
    "        Y = \"DEF\"\n",
    "        expected_output = \"\"\n",
    "        print(\"\\nTest case 1: X and Y have no common subsequence\")\n",
    "        self.assertEqual(Longest_SS(X, Y), expected_output)\n",
    "\n",
    "        # Test case 2: X and Y have a common subsequence of length 1\n",
    "        X = \"ABC\"\n",
    "        Y = \"BCD\"\n",
    "        expected_output = \"BC\"\n",
    "        print(\"\\nTest case 2: X and Y have a common subsequence of length 2\")\n",
    "        self.assertEqual(Longest_SS(X, Y), expected_output)\n",
    "\n",
    "        # Test case 3: X and Y have a common subsequence of length 3\n",
    "        X = \"ABCBDAB\"\n",
    "        Y = \"BDCAB\"\n",
    "        expected_output = \"BDAB\"\n",
    "        print(\"\\nTest case 3: X and Y have a common subsequence of length 4\")\n",
    "        self.assertEqual(Longest_SS(X, Y), expected_output)\n",
    "\n",
    "        # Test case 4: X and Y are identical\n",
    "        X = \"ABC\"\n",
    "        Y = \"ABC\"\n",
    "        expected_output = \"ABC\"\n",
    "        print(\"\\nTest case 4: X and Y are identical and have a comm length 3\")\n",
    "        self.assertEqual(Longest_SS(X, Y), expected_output)\n",
    "\n",
    "        # Test case 5: X and Y have different lengths\n",
    "        X = \"ABC\"\n",
    "        Y = \"ABCD\"\n",
    "        expected_output = \"ABC\"\n",
    "        print(\"\\nTest case 5: X and Y have different lengths and the subsequence has length 3\")\n",
    "        self.assertEqual(Longest_SS(X, Y), expected_output)\n",
    "\n",
    "# Create a test suite\n",
    "suite = unittest.TestLoader().loadTestsFromTestCase(TestLongestSS)\n",
    "\n",
    "# Run the test suite and print the results\n",
    "runner = unittest.TextTestRunner(verbosity=2)\n",
    "runner.run(suite)"
   ]
  },
  {
   "cell_type": "markdown",
   "id": "subject-annual",
   "metadata": {},
   "source": [
    "***"
   ]
  },
  {
   "cell_type": "markdown",
   "id": "enormous-bishop",
   "metadata": {},
   "source": [
    "### Section 2: Unbounded Knapsack Problem"
   ]
  },
  {
   "cell_type": "markdown",
   "id": "grand-decision",
   "metadata": {},
   "source": [
    "### Complexity for the Unbounded Knapsack Problem is O(nW) because we are iterating through the entire matrix."
   ]
  },
  {
   "cell_type": "code",
   "execution_count": 20,
   "id": "connected-sustainability",
   "metadata": {},
   "outputs": [],
   "source": [
    "def unboundedKnapsack(W, n, wt, vals, names):\n",
    "    \"\"\" Input: W: maximum weight\n",
    "                n: number of items\n",
    "                wt: list of weights\n",
    "                vals: list of values\n",
    "                names: list of names\n",
    "        Output: K[W]: maximum value\n",
    "                ITEMS[W]: list of items\n",
    "    \"\"\"\n",
    " \n",
    "    K = [0 for _ in range(W + 1)]\n",
    "    ITEMS = [[] for _ in range(W + 1)]\n",
    "\n",
    "    for x in range(1, W + 1):\n",
    "        K[x] = 0\n",
    "        for i in range(1, n):\n",
    "\n",
    "            prev_k = K[x]\n",
    "\n",
    "            if (wt[i] <= x):\n",
    "                K[x] = max(K[x], K[x - wt[i]] + vals[i])\n",
    "\n",
    "            if K[x] != prev_k:\n",
    "                ITEMS[x] = ITEMS[x - wt[i]] + names[i]\n",
    "\n",
    "\n",
    "    return K[W], ITEMS[W]"
   ]
  },
  {
   "cell_type": "code",
   "execution_count": 21,
   "id": "tropical-catalyst",
   "metadata": {},
   "outputs": [
    {
     "name": "stdout",
     "output_type": "stream",
     "text": [
      "We have 3 items\n"
     ]
    }
   ],
   "source": [
    "W = 4\n",
    "wt = [1, 2, 3]\n",
    "vals = [1, 4, 6]\n",
    "names = [[\"Turtle\"], [\"Globe\"], [\"WaterMelon\"]]\n",
    "\n",
    "n = len(names)\n",
    "\n",
    "print(f'We have {n} items')                "
   ]
  },
  {
   "cell_type": "code",
   "execution_count": 22,
   "id": "noble-wayne",
   "metadata": {},
   "outputs": [],
   "source": [
    "K, ITEMS = unboundedKnapsack(W, n, wt, vals, names)"
   ]
  },
  {
   "cell_type": "code",
   "execution_count": 23,
   "id": "english-property",
   "metadata": {},
   "outputs": [
    {
     "data": {
      "text/plain": [
       "['Globe', 'Globe']"
      ]
     },
     "execution_count": 23,
     "metadata": {},
     "output_type": "execute_result"
    }
   ],
   "source": [
    "ITEMS"
   ]
  },
  {
   "cell_type": "markdown",
   "id": "divine-glossary",
   "metadata": {},
   "source": [
    "***"
   ]
  },
  {
   "cell_type": "markdown",
   "id": "eb2033b6",
   "metadata": {},
   "source": [
    "### <font color='red'> Activity 3: In the earlier activity, you analysed the code for unbounded knapsack. Based on the algorithm discussed in this section, implement a solution to do 0/1 Knapsack. Make sure you test your algorithms for various test-cases. </font>"
   ]
  },
  {
   "cell_type": "markdown",
   "id": "05a1a2a9",
   "metadata": {},
   "source": [
    "### Complexity for the 0/1 Knapsack Problem is O(nW) because we are iterating through the entire matrix."
   ]
  },
  {
   "cell_type": "code",
   "execution_count": 24,
   "id": "floral-reggae",
   "metadata": {},
   "outputs": [],
   "source": [
    "import itertools\n",
    "def Zero_One_Knapsack(n, wt, vals, W):\n",
    "    \"\"\" Input: W: maximum weight\n",
    "                n: number of items\n",
    "                wt: list of weights\n",
    "                vals: list of values\n",
    "        Output: K[W]: maximum value\n",
    "    \"\"\"\n",
    "    # make a matrix of size W+1 x n+1\n",
    "    K = [[\".\" for _ in range(W+1)] for _ in range(n+1)]\n",
    "    # initialize the first row and column to 0\n",
    "    for i in range(n+1):\n",
    "        K[i][0] = 0\n",
    "    for j in range(W+1):\n",
    "        K[0][j] = 0\n",
    "    # fill in the rest of the matrix\n",
    "    for i, w in itertools.product(range(1, n+1), range(1, W+1)):\n",
    "        K[i][w] = (\n",
    "            max(vals[i - 1] + K[i - 1][w - wt[i - 1]], K[i - 1][w])\n",
    "            if wt[i - 1] <= w\n",
    "            else K[i - 1][w]\n",
    "        )\n",
    "    # print the matrix\n",
    "    for row in K:\n",
    "        print(row)\n",
    "    # return the last element of the matrix\n",
    "    return K[n][w]"
   ]
  },
  {
   "cell_type": "code",
   "execution_count": 25,
   "metadata": {},
   "outputs": [
    {
     "name": "stderr",
     "output_type": "stream",
     "text": [
      "test_repeated_weights (__main__.TestZeroOneKnapsack.test_repeated_weights) ... ok\n",
      "test_same_value (__main__.TestZeroOneKnapsack.test_same_value) ... "
     ]
    },
    {
     "name": "stdout",
     "output_type": "stream",
     "text": [
      "\n",
      "Test 2 - Repeated Weights\n",
      "[0, 0, 0, 0, 0, 0, 0, 0]\n",
      "[0, 0, 3, 3, 3, 3, 3, 3]\n",
      "[0, 0, 3, 4, 4, 7, 7, 7]\n",
      "[0, 0, 3, 5, 5, 8, 9, 9]\n",
      "[0, 0, 3, 5, 6, 8, 9, 11]\n"
     ]
    },
    {
     "name": "stderr",
     "output_type": "stream",
     "text": [
      "ok\n",
      "test_same_weight (__main__.TestZeroOneKnapsack.test_same_weight) ... ok\n",
      "test_single_item (__main__.TestZeroOneKnapsack.test_single_item) ... ok\n",
      "test_small_values (__main__.TestZeroOneKnapsack.test_small_values) ... ok\n",
      "\n",
      "----------------------------------------------------------------------\n",
      "Ran 5 tests in 0.134s\n",
      "\n",
      "OK\n"
     ]
    },
    {
     "name": "stdout",
     "output_type": "stream",
     "text": [
      "\n",
      "Test 4 - Same Value\n",
      "[0, 0, 0, 0, 0, 0, 0, 0, 0]\n",
      "[0, 0, 5, 5, 5, 5, 5, 5, 5]\n",
      "[0, 0, 5, 5, 5, 10, 10, 10, 10]\n",
      "[0, 0, 5, 5, 5, 10, 10, 10, 10]\n",
      "[0, 0, 5, 5, 5, 10, 10, 10, 10]\n",
      "\n",
      "Test 3 - Same Weight\n",
      "[0, 0, 0, 0, 0, 0, 0, 0, 0, 0, 0]\n",
      "[0, 0, 0, 0, 0, 10, 10, 10, 10, 10, 10]\n",
      "[0, 0, 0, 0, 0, 20, 20, 20, 20, 20, 30]\n",
      "[0, 0, 0, 0, 0, 30, 30, 30, 30, 30, 50]\n",
      "[0, 0, 0, 0, 0, 40, 40, 40, 40, 40, 70]\n",
      "\n",
      "Test 5 - Single Item\n",
      "[0, 0, 0, 0]\n",
      "[0, 0, 4, 4]\n",
      "\n",
      "Test 1 - Small Values\n",
      "[0, 0, 0, 0, 0, 0]\n",
      "[0, 0, 3, 3, 3, 3]\n",
      "[0, 0, 3, 4, 4, 7]\n",
      "[0, 0, 3, 4, 5, 7]\n"
     ]
    },
    {
     "data": {
      "text/plain": [
       "<unittest.runner.TextTestResult run=5 errors=0 failures=0>"
      ]
     },
     "execution_count": 25,
     "metadata": {},
     "output_type": "execute_result"
    }
   ],
   "source": [
    "import unittest\n",
    "\n",
    "class TestZeroOneKnapsack(unittest.TestCase):\n",
    "    \n",
    "    def test_small_values(self):\n",
    "        W = 5\n",
    "        wt = [2, 3, 4]\n",
    "        vals = [3, 4, 5]\n",
    "        expected_output = 7\n",
    "        print(\"\\nTest 1 - Small Values\")\n",
    "        self.assertEqual(Zero_One_Knapsack(len(vals), wt, vals, W), expected_output)\n",
    "        \n",
    "    def test_repeated_weights(self):\n",
    "        W = 7\n",
    "        wt = [2, 3, 3, 4]\n",
    "        vals = [3, 4, 5, 6]\n",
    "        expected_output = 11\n",
    "        print(\"\\nTest 2 - Repeated Weights\")\n",
    "        self.assertEqual(Zero_One_Knapsack(len(vals), wt, vals, W), expected_output)\n",
    "        \n",
    "    def test_same_weight(self):\n",
    "        W = 10\n",
    "        wt = [5, 5, 5, 5]\n",
    "        vals = [10, 20, 30, 40]\n",
    "        expected_output = 70\n",
    "        print(\"\\nTest 3 - Same Weight\")\n",
    "        self.assertEqual(Zero_One_Knapsack(len(vals), wt, vals, W), expected_output)\n",
    "        \n",
    "    def test_same_value(self):\n",
    "        W = 8\n",
    "        wt = [2, 3, 4, 5]\n",
    "        vals = [5, 5, 5, 5]\n",
    "        expected_output = 10\n",
    "        print(\"\\nTest 4 - Same Value\")\n",
    "        self.assertEqual(Zero_One_Knapsack(len(vals), wt, vals, W), expected_output)\n",
    "        \n",
    "    def test_single_item(self):\n",
    "        W = 3\n",
    "        wt = [2]\n",
    "        vals = [4]\n",
    "        expected_output = 4\n",
    "        print(\"\\nTest 5 - Single Item\")\n",
    "        self.assertEqual(Zero_One_Knapsack(len(vals), wt, vals, W), expected_output)\n",
    "\n",
    "# Create a test suite\n",
    "suite = unittest.TestLoader().loadTestsFromTestCase(TestZeroOneKnapsack)\n",
    "\n",
    "# Run the test suite and print the results\n",
    "runner = unittest.TextTestRunner(verbosity=2)\n",
    "runner.run(suite)"
   ]
  },
  {
   "cell_type": "markdown",
   "id": "1b9071f4",
   "metadata": {},
   "source": [
    "### Different style of testing"
   ]
  },
  {
   "cell_type": "code",
   "execution_count": 26,
   "id": "3e0b3830",
   "metadata": {},
   "outputs": [
    {
     "name": "stdout",
     "output_type": "stream",
     "text": [
      "[0, 0, 0, 0, 0, 0]\n",
      "[0, 0, 3, 3, 3, 3]\n",
      "[0, 0, 3, 4, 4, 7]\n",
      "[0, 0, 3, 4, 5, 7]\n",
      "Test case 0 passed\n",
      "\n",
      "[0, 0, 0, 0, 0, 0, 0, 0]\n",
      "[0, 0, 3, 3, 3, 3, 3, 3]\n",
      "[0, 0, 3, 4, 4, 7, 7, 7]\n",
      "[0, 0, 3, 5, 5, 8, 9, 9]\n",
      "[0, 0, 3, 5, 6, 8, 9, 11]\n",
      "Test case 1 passed\n",
      "\n",
      "[0, 0, 0, 0, 0, 0, 0, 0, 0, 0, 0]\n",
      "[0, 0, 0, 0, 0, 10, 10, 10, 10, 10, 10]\n",
      "[0, 0, 0, 0, 0, 20, 20, 20, 20, 20, 30]\n",
      "[0, 0, 0, 0, 0, 30, 30, 30, 30, 30, 50]\n",
      "[0, 0, 0, 0, 0, 40, 40, 40, 40, 40, 70]\n",
      "Test case 2 passed\n",
      "\n",
      "[0, 0, 0, 0, 0, 0, 0, 0, 0]\n",
      "[0, 0, 5, 5, 5, 5, 5, 5, 5]\n",
      "[0, 0, 5, 5, 5, 10, 10, 10, 10]\n",
      "[0, 0, 5, 5, 5, 10, 10, 10, 10]\n",
      "[0, 0, 5, 5, 5, 10, 10, 10, 10]\n",
      "Test case 3 passed\n",
      "\n",
      "[0, 0, 0, 0]\n",
      "[0, 0, 4, 4]\n",
      "Test case 4 passed\n",
      "\n"
     ]
    }
   ],
   "source": [
    "def test_Zero_One_Knapsack():\n",
    "    test_cases = [\n",
    "        ((5, [2, 3, 4], [3, 4, 5]), 7),\n",
    "        ((7, [2, 3, 3, 4], [3, 4, 5, 6]), 11),\n",
    "        ((10, [5, 5, 5, 5], [10, 20, 30, 40]), 70),\n",
    "        ((8, [2, 3, 4, 5], [5, 5, 5, 5]), 10),\n",
    "        ((3, [2], [4]), 4)\n",
    "    ]\n",
    "    \n",
    "    for i, ((W, wt, vals), expected) in enumerate(test_cases):\n",
    "        result = Zero_One_Knapsack(len(vals), wt, vals, W)\n",
    "        assert result == expected, f\"Test case {i} failed: expected {expected}, got {result}\"\n",
    "        print(f\"Test case {i} passed\\n\")\n",
    "\n",
    "test_Zero_One_Knapsack()\n"
   ]
  },
  {
   "cell_type": "markdown",
   "id": "082845a2",
   "metadata": {},
   "source": [
    "### Ask Kiran about pros and cons for each testing style"
   ]
  }
 ],
 "metadata": {
  "kernelspec": {
   "display_name": "Python 3 (ipykernel)",
   "language": "python",
   "name": "python3"
  },
  "language_info": {
   "codemirror_mode": {
    "name": "ipython",
    "version": 3
   },
   "file_extension": ".py",
   "mimetype": "text/x-python",
   "name": "python",
   "nbconvert_exporter": "python",
   "pygments_lexer": "ipython3",
   "version": "3.11.3"
  }
 },
 "nbformat": 4,
 "nbformat_minor": 5
}
