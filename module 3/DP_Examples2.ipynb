{
 "cells": [
  {
   "cell_type": "code",
   "execution_count": 49,
   "id": "77d87897",
   "metadata": {},
   "outputs": [
    {
     "name": "stderr",
     "output_type": "stream",
     "text": [
      "C:\\Users\\benny\\AppData\\Local\\Temp\\ipykernel_54500\\495279268.py:1: DeprecationWarning: Importing display from IPython.core.display is deprecated since IPython 7.14, please import from IPython display\n",
      "  from IPython.core.display import display, HTML\n"
     ]
    },
    {
     "data": {
      "text/html": [
       "<style>.container { width:85% !important; }</style>"
      ],
      "text/plain": [
       "<IPython.core.display.HTML object>"
      ]
     },
     "metadata": {},
     "output_type": "display_data"
    }
   ],
   "source": [
    "from IPython.core.display import display, HTML\n",
    "display(HTML(\"<style>.container { width:85% !important; }</style>\"))"
   ]
  },
  {
   "cell_type": "code",
   "execution_count": 50,
   "id": "2faea379",
   "metadata": {},
   "outputs": [],
   "source": [
    "from abc import ABC\n",
    "class Pizza(ABC):\n",
    "\n",
    "    def prepare(self):\n",
    "        pass\n"
   ]
  },
  {
   "cell_type": "markdown",
   "id": "46c3c119",
   "metadata": {},
   "source": [
    "# No Pattern"
   ]
  },
  {
   "cell_type": "code",
   "execution_count": 51,
   "id": "c855a5ae",
   "metadata": {},
   "outputs": [],
   "source": [
    "class CheesePizza(Pizza):\n",
    "\n",
    "    def prepare(self):\n",
    "        return \"Creating Yummy Cheese Pizza\"\n",
    "\n",
    "\n",
    "class PepperoniPizza(Pizza):\n",
    "    \n",
    "    def prepare(self):\n",
    "        return \"Creating Yummy Pepporoni Pizza\""
   ]
  },
  {
   "cell_type": "markdown",
   "id": "3fe97b65",
   "metadata": {},
   "source": [
    "Bad way of ordering Pizza"
   ]
  },
  {
   "cell_type": "code",
   "execution_count": 66,
   "id": "4edcb49a",
   "metadata": {},
   "outputs": [
    {
     "name": "stdout",
     "output_type": "stream",
     "text": [
      "Creating Yummy Cheese Pizza\n",
      "Creating Yummy Pepporoni Pizza\n"
     ]
    }
   ],
   "source": [
    "cheesePizza = CheesePizza()\n",
    "print(cheesePizza.prepare())\n",
    "peperoniPizza = PepperoniPizza()\n",
    "print(peperoniPizza.prepare())"
   ]
  },
  {
   "cell_type": "markdown",
   "id": "6aa503c7",
   "metadata": {},
   "source": [
    "# Simple Factory Pattern"
   ]
  },
  {
   "cell_type": "code",
   "execution_count": null,
   "id": "4840f713",
   "metadata": {},
   "outputs": [],
   "source": [
    "from abc import ABC, abstractmethod\n",
    "\n",
    "class Pizza(ABC):\n",
    "\n",
    "    @abstractmethod\n",
    "    def prepare(self):\n",
    "        pass\n",
    "\n",
    "class CheesePizza(Pizza):\n",
    "\n",
    "    def prepare(self):\n",
    "        return \"Creating Yummy Cheese Pizza\"\n",
    "\n",
    "\n",
    "class PepperoniPizza(Pizza):\n",
    "    \n",
    "    def prepare(self):\n",
    "        return \"Creating Yummy Pepporoni Pizza\""
   ]
  },
  {
   "cell_type": "code",
   "execution_count": null,
   "id": "a0516501",
   "metadata": {},
   "outputs": [],
   "source": [
    "class SimplePizzaFactory():\n",
    "    \n",
    "    def createPizza(self, type):\n",
    "        if type == \"Cheese\":\n",
    "            self.pizza = CheesePiza()\n",
    "        elif type == \"Pepporoni\":\n",
    "            self.pizza = PepperoniPizza()\n",
    "            \n",
    "        return self.pizza.prepare()"
   ]
  },
  {
   "cell_type": "markdown",
   "id": "1edb36fe",
   "metadata": {},
   "source": [
    " Ugly way of ordering pizza [Simple Factory] "
   ]
  },
  {
   "cell_type": "code",
   "execution_count": null,
   "id": "384c8e5f",
   "metadata": {},
   "outputs": [],
   "source": [
    "sf = SimplePizzaFactory()\n",
    "sf.createPizza(\"Pepporoni\")"
   ]
  },
  {
   "cell_type": "markdown",
   "id": "38ca29ce",
   "metadata": {},
   "source": [
    "# Factory Method Pattern"
   ]
  },
  {
   "cell_type": "code",
   "execution_count": null,
   "id": "cbdd1c11",
   "metadata": {},
   "outputs": [],
   "source": [
    "class Pizza(ABC):\n",
    "\n",
    "    @abstractmethod\n",
    "    def prepare(self):\n",
    "        pass\n",
    "\n",
    "class CheesePizza(Pizza):\n",
    "\n",
    "    def prepare(self):\n",
    "        return \"Creating Yummy Cheese Pizza\"\n",
    "\n",
    "\n",
    "class PepperoniPizza(Pizza):\n",
    "    \n",
    "    def prepare(self):\n",
    "        return \"Creating Yummy Pepporoni Pizza\""
   ]
  },
  {
   "cell_type": "code",
   "execution_count": null,
   "id": "35617290",
   "metadata": {},
   "outputs": [],
   "source": [
    "class AbstractPizzaFactory(ABC):\n",
    "\n",
    "    @abstractmethod\n",
    "    def factoryMethod(self):\n",
    "        pass\n",
    "    \n",
    "    def someOperation(self):\n",
    "        pizza = self.factoryMethod()\n",
    "        return pizza.prepare()\n",
    "\n",
    "class CheesePizzaCreator(AbstractPizzaFactory):\n",
    "\n",
    "    def factoryMethod(self):\n",
    "        return CheesePizza()\n",
    "\n",
    "\n",
    "class PepperoniPizzaCreator(AbstractPizzaFactory):\n",
    "    \n",
    "    def factoryMethod(self):\n",
    "        return PepperoniPizza()"
   ]
  },
  {
   "cell_type": "markdown",
   "id": "347f8c7d",
   "metadata": {},
   "source": [
    "Good way of ordering pizza [Factory Method]"
   ]
  },
  {
   "cell_type": "code",
   "execution_count": null,
   "id": "1cebf0d4",
   "metadata": {},
   "outputs": [],
   "source": [
    "fm = CheesePizzaCreator()\n",
    "pizza = fm.factoryMethod()\n",
    "\n",
    "pizza.prepare()"
   ]
  },
  {
   "cell_type": "code",
   "execution_count": null,
   "id": "6bbf409c",
   "metadata": {},
   "outputs": [],
   "source": [
    "cheese_factory = CheesePizzaCreator()\n",
    "result = cheese_factory.someOperation()  # This will internally create a CheesePizza object and call its prepare() method\n",
    "print(result)"
   ]
  },
  {
   "cell_type": "markdown",
   "id": "6e7207ce",
   "metadata": {},
   "source": [
    "# OBSERVER Pattern"
   ]
  },
  {
   "cell_type": "code",
   "execution_count": null,
   "id": "0b09ef28",
   "metadata": {},
   "outputs": [],
   "source": [
    "from __future__ import annotations\n",
    "from abc import ABC, abstractmethod\n",
    "from random import randrange\n",
    "from typing import List\n",
    "import time"
   ]
  },
  {
   "cell_type": "markdown",
   "id": "e83b1bef",
   "metadata": {},
   "source": [
    "# MODIFICATION\n",
    "## Wickets parameter changed to MODIEFIEDWICKETS\n",
    "#### This shows I understand that the ConcreteSubject object is being sent to the MODIFIEDONSERVER object.\n",
    "\n",
    "## _oberserver parameter change to _MODIFIEDOBSERVER\n",
    "#### This shows I understand that the _oberserver list is private and should not be accessed outside of the class.\n",
    "#### It also shows I understand that this is the list of subscribers that are being notified of changes.\n",
    "\n",
    "## def notify()\n",
    "#### This is the key piece of code that gave me clarity on how the observer pattern works.\n",
    "\n",
    "## def detach()\n",
    "#### This could be modified to notify the user that they have been removed from the list of subscribers.\n",
    "#### A real world example would be a user unsubscribing from a mailing list. **everyone knows this feeling** =)\n",
    "\n",
    "## I changed def notify() so that the PREMIUM_SPORTS_BETTING_AGENCY is notified first\n",
    "#### This could provide agencies who pay the publisher with a competitive advantage over other agencies."
   ]
  },
  {
   "cell_type": "code",
   "execution_count": null,
   "id": "9e049fa2",
   "metadata": {},
   "outputs": [],
   "source": [
    "class Subject(ABC):\n",
    "\n",
    "    @abstractmethod\n",
    "    def attach(self, MODIFIEDOBSERVER: MODIFIEDOBSERVER):\n",
    "        pass\n",
    "\n",
    "    @abstractmethod\n",
    "    def detach(self, MODIFIEDOBSERVER: MODIFIEDOBSERVER):\n",
    "        pass\n",
    "\n",
    "    @abstractmethod\n",
    "    def notify(self):\n",
    "        pass\n",
    "\n",
    "\n",
    "class ConcreteSubject(Subject):\n",
    "\n",
    "    MODIFIEDWICKETS = 0\n",
    "    Score = 0\n",
    "\n",
    "    #_MODIFIEDOBSERVERS: List[Observer] = []\n",
    "    _MODIFIEDOBSERVERS = []\n",
    "\n",
    "    # Ask me about this Python Syntax:\n",
    "    def attach(self, observer: Observer) -> None:\n",
    "        print(\"Subject: Attached an observer.\")\n",
    "        self._MODIFIEDOBSERVERS.append(observer)\n",
    "\n",
    "    def detach(self, observer: Observer) -> None:\n",
    "        print(\"Subject: Detached an observer.\")\n",
    "        self._MODIFIEDOBSERVERS.remove(observer)\n",
    "\n",
    "\n",
    "    def notify(self) -> None:\n",
    "\n",
    "        print(\"Subject: Notifying observers...\")\n",
    "        for observer in self._MODIFIEDOBSERVERS:\n",
    "            if observer == self._MODIFIEDOBSERVERS[0]:\n",
    "                observer.update(self)\n",
    "                time.sleep(2)\n",
    "            else:\n",
    "                observer.update(self)\n",
    "\n",
    "    def wicketFallen(self):\n",
    "\n",
    "        time.sleep(1)\n",
    "        \n",
    "        self.MODIFIEDWICKETS += 1\n",
    "\n",
    "        print(f\"Subject: Wicket has fallen: {self.MODIFIEDWICKETS}\")\n",
    "        self.notify()\n",
    "        \n",
    "    def scoreIncrease(self, num):\n",
    "        \n",
    "        time.sleep(1)\n",
    "\n",
    "        self.Score += num\n",
    "\n",
    "        print(f\"Subject: Score Changed: {self.Score}\")\n",
    "        self.notify()"
   ]
  },
  {
   "cell_type": "code",
   "execution_count": null,
   "id": "dc9b1a36",
   "metadata": {},
   "outputs": [],
   "source": [
    "class Observer(ABC):\n",
    "\n",
    "    @abstractmethod\n",
    "    def update(self, subject):\n",
    "        pass\n",
    "\n",
    "class ConcreteObserverA(Observer):\n",
    "    \n",
    "    def update(self, subject):\n",
    "        \n",
    "        print(f\"Mobile Device (Display) Score = : {subject.MODIFIEDWICKETS} For {subject.Score}\" )\n",
    "\n",
    "\n",
    "class ConcreteObserverB(Observer):\n",
    "    \n",
    "    def update(self, subject):\n",
    "        print(f\"Laptop Device (Display) Score = : {subject.MODIFIEDWICKETS} For {subject.Score}\")\n",
    "\n",
    "class ConcreteObserverC(Observer):\n",
    "\n",
    "    def update(self, subject):\n",
    "        print(f\"PREMIUM SPORTS BETTING COMPANY (Display) Score = : {subject.MODIFIEDWICKETS} For {subject.Score}\")\n",
    "\n",
    "class ConcreteObserverD(Observer):\n",
    "\n",
    "    def update(self, subject):\n",
    "        print(f\"SPORTS BETTING COMPANY (Display) Score = : {subject.MODIFIEDWICKETS} For {subject.Score}\")\n"
   ]
  },
  {
   "cell_type": "code",
   "execution_count": null,
   "id": "d55a3168",
   "metadata": {},
   "outputs": [],
   "source": [
    "if __name__ == \"__main__\":\n",
    "    # The client code.\n",
    "\n",
    "    subject = ConcreteSubject()\n",
    "\n",
    "    PREMIUM_SPORTS_BETTING_AGENCY = ConcreteObserverC()\n",
    "    subject.attach(PREMIUM_SPORTS_BETTING_AGENCY)\n",
    "\n",
    "    REGULAR_SPORTS_BETTING_AGENCY = ConcreteObserverD()\n",
    "    subject.attach(REGULAR_SPORTS_BETTING_AGENCY)\n",
    "\n",
    "    observer_a = ConcreteObserverA()\n",
    "    subject.attach(observer_a)\n",
    "\n",
    "    observer_b = ConcreteObserverB()\n",
    "    subject.attach(observer_b)\n",
    "\n",
    "\n",
    "    subject.scoreIncrease(4)\n",
    "    subject.scoreIncrease(0)\n",
    "    subject.scoreIncrease(4)\n",
    "    subject.scoreIncrease(6)\n",
    "    subject.scoreIncrease(1)\n",
    "\n",
    "    subject.detach(observer_a)\n",
    "\n",
    "    subject.wicketFallen()\n",
    "    \n",
    "    subject.scoreIncrease(1)"
   ]
  }
 ],
 "metadata": {
  "kernelspec": {
   "display_name": "Python 3 (ipykernel)",
   "language": "python",
   "name": "python3"
  },
  "language_info": {
   "codemirror_mode": {
    "name": "ipython",
    "version": 3
   },
   "file_extension": ".py",
   "mimetype": "text/x-python",
   "name": "python",
   "nbconvert_exporter": "python",
   "pygments_lexer": "ipython3",
   "version": "3.11.3"
  }
 },
 "nbformat": 4,
 "nbformat_minor": 5
}
