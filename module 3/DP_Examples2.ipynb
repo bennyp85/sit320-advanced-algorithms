{
 "cells": [
  {
   "cell_type": "code",
   "execution_count": 3,
   "id": "77d87897",
   "metadata": {},
   "outputs": [
    {
     "name": "stderr",
     "output_type": "stream",
     "text": [
      "C:\\Users\\benny\\AppData\\Local\\Temp\\ipykernel_46480\\495279268.py:1: DeprecationWarning: Importing display from IPython.core.display is deprecated since IPython 7.14, please import from IPython display\n",
      "  from IPython.core.display import display, HTML\n"
     ]
    },
    {
     "data": {
      "text/html": [
       "<style>.container { width:85% !important; }</style>"
      ],
      "text/plain": [
       "<IPython.core.display.HTML object>"
      ]
     },
     "metadata": {},
     "output_type": "display_data"
    }
   ],
   "source": [
    "from IPython.core.display import display, HTML\n",
    "display(HTML(\"<style>.container { width:85% !important; }</style>\"))"
   ]
  },
  {
   "cell_type": "markdown",
   "id": "46c3c119",
   "metadata": {},
   "source": [
    "# No Pattern"
   ]
  },
  {
   "cell_type": "code",
   "execution_count": 4,
   "id": "c855a5ae",
   "metadata": {},
   "outputs": [
    {
     "ename": "NameError",
     "evalue": "name 'Pizza' is not defined",
     "output_type": "error",
     "traceback": [
      "\u001b[1;31m---------------------------------------------------------------------------\u001b[0m",
      "\u001b[1;31mNameError\u001b[0m                                 Traceback (most recent call last)",
      "Cell \u001b[1;32mIn[4], line 1\u001b[0m\n\u001b[1;32m----> 1\u001b[0m \u001b[39mclass\u001b[39;00m \u001b[39mCheesePizza\u001b[39;00m(Pizza):\n\u001b[0;32m      3\u001b[0m     \u001b[39mdef\u001b[39;00m \u001b[39mprepare\u001b[39m(\u001b[39mself\u001b[39m):\n\u001b[0;32m      4\u001b[0m         \u001b[39mreturn\u001b[39;00m \u001b[39m\"\u001b[39m\u001b[39mCreating Yummy Cheese Pizza\u001b[39m\u001b[39m\"\u001b[39m\n",
      "\u001b[1;31mNameError\u001b[0m: name 'Pizza' is not defined"
     ]
    }
   ],
   "source": [
    "class CheesePizza(Pizza):\n",
    "\n",
    "    def prepare(self):\n",
    "        return \"Creating Yummy Cheese Pizza\"\n",
    "\n",
    "\n",
    "class PepperoniPizza(Pizza):\n",
    "    \n",
    "    def prepare(self):\n",
    "        return \"Creating Yummy Pepporoni Pizza\""
   ]
  },
  {
   "cell_type": "markdown",
   "id": "3fe97b65",
   "metadata": {},
   "source": [
    "Bad way of ordering Pizza"
   ]
  },
  {
   "cell_type": "code",
   "execution_count": null,
   "id": "ffea3b46",
   "metadata": {},
   "outputs": [],
   "source": [
    "if type == \"Cheese\":\n",
    "    pizza = CheesePiza()\n",
    "elif type == \"Pepporoni\":\n",
    "    pizza = PepperoniPizza()\n",
    "\n",
    "pizza.prepare()"
   ]
  },
  {
   "cell_type": "markdown",
   "id": "6aa503c7",
   "metadata": {},
   "source": [
    "# Simple Factory Pattern"
   ]
  },
  {
   "cell_type": "code",
   "execution_count": 8,
   "id": "4840f713",
   "metadata": {},
   "outputs": [],
   "source": [
    "from abc import ABC, abstractmethod\n",
    "\n",
    "class Pizza(ABC):\n",
    "\n",
    "    @abstractmethod\n",
    "    def prepare(self):\n",
    "        pass\n",
    "\n",
    "class CheesePizza(Pizza):\n",
    "\n",
    "    def prepare(self):\n",
    "        return \"Creating Yummy Cheese Pizza\"\n",
    "\n",
    "\n",
    "class PepperoniPizza(Pizza):\n",
    "    \n",
    "    def prepare(self):\n",
    "        return \"Creating Yummy Pepporoni Pizza\""
   ]
  },
  {
   "cell_type": "code",
   "execution_count": 9,
   "id": "a0516501",
   "metadata": {},
   "outputs": [],
   "source": [
    "class SimplePizzaFactory():\n",
    "    \n",
    "    def createPizza(self, type):\n",
    "        if type == \"Cheese\":\n",
    "            self.pizza = CheesePiza()\n",
    "        elif type == \"Pepporoni\":\n",
    "            self.pizza = PepperoniPizza()\n",
    "            \n",
    "        return self.pizza.prepare()"
   ]
  },
  {
   "cell_type": "markdown",
   "id": "1edb36fe",
   "metadata": {},
   "source": [
    " Ugly way of ordering pizza [Simple Factory] "
   ]
  },
  {
   "cell_type": "code",
   "execution_count": 10,
   "id": "384c8e5f",
   "metadata": {},
   "outputs": [
    {
     "data": {
      "text/plain": [
       "'Creating Yummy Pepporoni Pizza'"
      ]
     },
     "execution_count": 10,
     "metadata": {},
     "output_type": "execute_result"
    }
   ],
   "source": [
    "sf = SimplePizzaFactory()\n",
    "sf.createPizza(\"Pepporoni\")"
   ]
  },
  {
   "cell_type": "markdown",
   "id": "38ca29ce",
   "metadata": {},
   "source": [
    "# Factory Method Pattern"
   ]
  },
  {
   "cell_type": "code",
   "execution_count": 11,
   "id": "cbdd1c11",
   "metadata": {},
   "outputs": [],
   "source": [
    "class Pizza(ABC):\n",
    "\n",
    "    @abstractmethod\n",
    "    def prepare(self):\n",
    "        pass\n",
    "\n",
    "class CheesePizza(Pizza):\n",
    "\n",
    "    def prepare(self):\n",
    "        return \"Creating Yummy Cheese Pizza\"\n",
    "\n",
    "\n",
    "class PepperoniPizza(Pizza):\n",
    "    \n",
    "    def prepare(self):\n",
    "        return \"Creating Yummy Pepporoni Pizza\""
   ]
  },
  {
   "cell_type": "code",
   "execution_count": 12,
   "id": "35617290",
   "metadata": {},
   "outputs": [],
   "source": [
    "class AbstractPizzaFactory(ABC):\n",
    "\n",
    "    @abstractmethod\n",
    "    def factoryMethod(self):\n",
    "        pass\n",
    "    \n",
    "    def someOperation(self):\n",
    "        pizza = self.factoryMethod()\n",
    "        return pizza.prepare()\n",
    "\n",
    "class CheesePizzaCreator(AbstractPizzaFactory):\n",
    "\n",
    "    def factoryMethod(self):\n",
    "        return CheesePizza()\n",
    "\n",
    "\n",
    "class PepperoniPizzaCreator(AbstractPizzaFactory):\n",
    "    \n",
    "    def factoryMethod(self):\n",
    "        return PepperoniPizza()"
   ]
  },
  {
   "cell_type": "markdown",
   "id": "347f8c7d",
   "metadata": {},
   "source": [
    "Good way of ordering pizza [Factory Method]"
   ]
  },
  {
   "cell_type": "code",
   "execution_count": 13,
   "id": "1cebf0d4",
   "metadata": {},
   "outputs": [
    {
     "data": {
      "text/plain": [
       "'Creating Yummy Cheese Pizza'"
      ]
     },
     "execution_count": 13,
     "metadata": {},
     "output_type": "execute_result"
    }
   ],
   "source": [
    "fm = CheesePizzaCreator()\n",
    "pizza = fm.factoryMethod()\n",
    "\n",
    "pizza.prepare()"
   ]
  },
  {
   "cell_type": "code",
   "execution_count": 14,
   "id": "6bbf409c",
   "metadata": {},
   "outputs": [
    {
     "name": "stdout",
     "output_type": "stream",
     "text": [
      "Creating Yummy Cheese Pizza\n"
     ]
    }
   ],
   "source": [
    "cheese_factory = CheesePizzaCreator()\n",
    "result = cheese_factory.someOperation()  # This will internally create a CheesePizza object and call its prepare() method\n",
    "print(result)"
   ]
  },
  {
   "cell_type": "markdown",
   "id": "6e7207ce",
   "metadata": {},
   "source": [
    "# Observer Pattern"
   ]
  },
  {
   "cell_type": "code",
   "execution_count": null,
   "id": "0b09ef28",
   "metadata": {},
   "outputs": [],
   "source": [
    "from __future__ import annotations\n",
    "from abc import ABC, abstractmethod\n",
    "from random import randrange\n",
    "from typing import List\n",
    "import time"
   ]
  },
  {
   "cell_type": "code",
   "execution_count": null,
   "id": "9e049fa2",
   "metadata": {},
   "outputs": [],
   "source": [
    "class Subject(ABC):\n",
    "\n",
    "    @abstractmethod\n",
    "    def attach(self, observer: Observer):\n",
    "        pass\n",
    "\n",
    "    @abstractmethod\n",
    "    def detach(self, observer: Observer):\n",
    "        pass\n",
    "\n",
    "    @abstractmethod\n",
    "    def notify(self):\n",
    "        pass\n",
    "\n",
    "\n",
    "class ConcreteSubject(Subject):\n",
    "\n",
    "    Wickets = 0\n",
    "    Score = 0\n",
    "\n",
    "    #_observers: List[Observer] = []\n",
    "    _observers = []\n",
    "\n",
    "    # Ask me about this Python Syntax:\n",
    "    def attach(self, observer: Observer) -> None:\n",
    "        print(\"Subject: Attached an observer.\")\n",
    "        self._observers.append(observer)\n",
    "\n",
    "    def detach(self, observer: Observer) -> None:\n",
    "        self._observers.remove(observer)\n",
    "\n",
    "\n",
    "    def notify(self) -> None:\n",
    "\n",
    "        print(\"Subject: Notifying observers...\")\n",
    "        for observer in self._observers:\n",
    "            observer.update(self)\n",
    "\n",
    "    def wicketFallen(self):\n",
    "\n",
    "        time.sleep(1)\n",
    "        \n",
    "        self.Wickets += 1\n",
    "\n",
    "        print(f\"Subject: Wicket has fallen: {self.Wickets}\")\n",
    "        self.notify()\n",
    "        \n",
    "    def scoreIncrease(self, num):\n",
    "        \n",
    "        time.sleep(1)\n",
    "\n",
    "        self.Score += num\n",
    "\n",
    "        print(f\"Subject: Score Changed: {self.Score}\")\n",
    "        self.notify()"
   ]
  },
  {
   "cell_type": "code",
   "execution_count": null,
   "id": "dc9b1a36",
   "metadata": {},
   "outputs": [],
   "source": [
    "class Observer(ABC):\n",
    "\n",
    "    @abstractmethod\n",
    "    def update(self, subject):\n",
    "        pass\n",
    "\n",
    "class ConcreteObserverA(Observer):\n",
    "    \n",
    "    def update(self, subject):\n",
    "        \n",
    "        print(f\"Mobile Device (Display) Score = : {subject.Wickets} For {subject.Score}\" )\n",
    "\n",
    "\n",
    "class ConcreteObserverB(Observer):\n",
    "    \n",
    "    def update(self, subject):\n",
    "        \n",
    "        #if subject._state == 0 or subject._state >= 2:\n",
    "        print(f\"Laptop Device (Display) Score = : {subject.Wickets} For {subject.Score}\")"
   ]
  },
  {
   "cell_type": "code",
   "execution_count": null,
   "id": "d55a3168",
   "metadata": {},
   "outputs": [],
   "source": [
    "if __name__ == \"__main__\":\n",
    "    # The client code.\n",
    "\n",
    "    subject = ConcreteSubject()\n",
    "\n",
    "    observer_a = ConcreteObserverA()\n",
    "    subject.attach(observer_a)\n",
    "\n",
    "    observer_b = ConcreteObserverB()\n",
    "    subject.attach(observer_b)\n",
    "\n",
    "    subject.scoreIncrease(4)\n",
    "    subject.scoreIncrease(0)\n",
    "    subject.scoreIncrease(4)\n",
    "    subject.scoreIncrease(6)\n",
    "    subject.scoreIncrease(1)\n",
    "\n",
    "    subject.detach(observer_a)\n",
    "\n",
    "    subject.wicketFallen()\n",
    "    \n",
    "    subject.scoreIncrease(1)"
   ]
  }
 ],
 "metadata": {
  "kernelspec": {
   "display_name": "Python 3 (ipykernel)",
   "language": "python",
   "name": "python3"
  },
  "language_info": {
   "codemirror_mode": {
    "name": "ipython",
    "version": 3
   },
   "file_extension": ".py",
   "mimetype": "text/x-python",
   "name": "python",
   "nbconvert_exporter": "python",
   "pygments_lexer": "ipython3",
   "version": "3.11.3"
  }
 },
 "nbformat": 4,
 "nbformat_minor": 5
}
